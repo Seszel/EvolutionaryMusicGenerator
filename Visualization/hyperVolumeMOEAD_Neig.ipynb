{
 "cells": [
  {
   "cell_type": "code",
   "execution_count": 7,
   "metadata": {},
   "outputs": [],
   "source": [
    "import json\n",
    "import os\n",
    "import numpy as np\n",
    "import pandas as pd\n",
    "import pygmo as pg\n",
    "from pygmo import hypervolume\n",
    "\n",
    "fol = \"ExpMOEAD_Neig\""
   ]
  },
  {
   "cell_type": "code",
   "execution_count": 8,
   "metadata": {},
   "outputs": [],
   "source": [
    "parent_folder_path = '../EvolutionaryFramework/results/MOEA_D/' + fol\n",
    "\n",
    "target_folders = [folder for folder in os.listdir(parent_folder_path) if folder.startswith('2023_08')]"
   ]
  },
  {
   "cell_type": "code",
   "execution_count": 10,
   "metadata": {},
   "outputs": [
    {
     "name": "stdout",
     "output_type": "stream",
     "text": [
      "Folder averages saved successfully.\n"
     ]
    }
   ],
   "source": [
    "folder_averages = {}\n",
    "\n",
    "metaCriteriaBool = False\n",
    "\n",
    "\n",
    "for folder in target_folders:\n",
    "    folder_path = os.path.join(parent_folder_path, folder)\n",
    "    files = os.listdir(folder_path)\n",
    "\n",
    "    metaBool = False\n",
    "    mutation = 0\n",
    "    crossover = 0\n",
    "    keyType = \"\"\n",
    "    criteria = []\n",
    "    result = [] \n",
    "\n",
    "    for file in files:\n",
    "        if file.endswith('.json'):\n",
    "            file_path = os.path.join(folder_path, file)\n",
    "            with open(file_path) as f:\n",
    "                parsed_json = json.load(f)\n",
    "\n",
    "        if metaBool == False:\n",
    "            n = parsed_json[\"metaParameters\"][\"numberOfNeighbours\"]\n",
    "            metaBool = True\n",
    "\n",
    "        if metaCriteriaBool == False:\n",
    "            for criterion in parsed_json[\"metaParameters\"]['criteria']:\n",
    "                criteria.append(criterion)\n",
    "            keyType = parsed_json[\"metaParameters\"][\"melodyKeyType\"]\n",
    "            \n",
    "\n",
    "        data = []\n",
    "        for elem in parsed_json:\n",
    "            if elem == \"experiment\":\n",
    "                for individual in parsed_json[elem][\"generation_250\"]:\n",
    "                    dictionary = {}\n",
    "                    for criterion in criteria:\n",
    "                        dictionary[criterion] = -individual['fitness'][criterion]\n",
    "                    data.append(dictionary)    \n",
    "        data_df = pd.DataFrame(data)\n",
    "        data_df = data_df.dropna()\n",
    "    \n",
    "        hyper = pg.hypervolume(data_df.to_numpy())\n",
    "        result.append(hyper.compute([0.0, 0.0]))\n",
    "\n",
    "    folder_averages[keyType + \" \" + \"generation_250 population_500 \" + \"n_\" + str(n) + \" \" + folder] = (np.mean(result), np.std(result))\n",
    "        \n",
    "\n",
    "\n",
    "output_file = 'JSON/' + 'hyperVolume_Neig2.json'\n",
    "with open(output_file, 'w') as f:\n",
    "    json.dump(folder_averages, f, indent=4)\n",
    "\n",
    "print('Folder averages saved successfully.')\n"
   ]
  },
  {
   "cell_type": "code",
   "execution_count": null,
   "metadata": {},
   "outputs": [],
   "source": []
  }
 ],
 "metadata": {
  "kernelspec": {
   "display_name": "base",
   "language": "python",
   "name": "python3"
  },
  "language_info": {
   "codemirror_mode": {
    "name": "ipython",
    "version": 3
   },
   "file_extension": ".py",
   "mimetype": "text/x-python",
   "name": "python",
   "nbconvert_exporter": "python",
   "pygments_lexer": "ipython3",
   "version": "3.11.4"
  },
  "orig_nbformat": 4
 },
 "nbformat": 4,
 "nbformat_minor": 2
}
