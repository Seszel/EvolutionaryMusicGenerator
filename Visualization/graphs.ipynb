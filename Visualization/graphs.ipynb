{
 "cells": [
  {
   "cell_type": "code",
   "execution_count": 1,
   "metadata": {},
   "outputs": [],
   "source": [
    "import json\n",
    "import numpy as np\n",
    "import pandas as pd"
   ]
  },
  {
   "cell_type": "code",
   "execution_count": 2,
   "metadata": {},
   "outputs": [],
   "source": [
    "with open('../EvolutionaryFramework/results/2023_03_21_23:12:58/result_0.json') as user_file:\n",
    "  parsed_json = json.load(user_file)\n",
    "  \n",
    "# print(json.dumps(parsed_json, indent = 4, sort_keys=True))"
   ]
  },
  {
   "cell_type": "code",
   "execution_count": 3,
   "metadata": {},
   "outputs": [],
   "source": [
    "data = []\n",
    "for algorithm in parsed_json:\n",
    "    for generation in parsed_json[algorithm]:\n",
    "        for front in parsed_json[algorithm][generation]:\n",
    "            for individual in parsed_json[algorithm][generation][front]:\n",
    "                data.append({\n",
    "                    'algorithm': algorithm,\n",
    "                    'generation': generation,\n",
    "                    'front': front,\n",
    "                    'genome': individual[\"genome\"],\n",
    "                    'stability': individual[\"fitness\"][\"stability\"],\n",
    "                    'tension': individual[\"fitness\"][\"tension\"]\n",
    "                })\n",
    "data_df = pd.DataFrame(data)        "
   ]
  },
  {
   "cell_type": "code",
   "execution_count": 4,
   "metadata": {},
   "outputs": [
    {
     "data": {
      "text/html": [
       "<div>\n",
       "<style scoped>\n",
       "    .dataframe tbody tr th:only-of-type {\n",
       "        vertical-align: middle;\n",
       "    }\n",
       "\n",
       "    .dataframe tbody tr th {\n",
       "        vertical-align: top;\n",
       "    }\n",
       "\n",
       "    .dataframe thead th {\n",
       "        text-align: right;\n",
       "    }\n",
       "</style>\n",
       "<table border=\"1\" class=\"dataframe\">\n",
       "  <thead>\n",
       "    <tr style=\"text-align: right;\">\n",
       "      <th></th>\n",
       "      <th>algorithm</th>\n",
       "      <th>generation</th>\n",
       "      <th>front</th>\n",
       "      <th>genome</th>\n",
       "      <th>stability</th>\n",
       "      <th>tension</th>\n",
       "    </tr>\n",
       "  </thead>\n",
       "  <tbody>\n",
       "    <tr>\n",
       "      <th>0</th>\n",
       "      <td>NSGA-II</td>\n",
       "      <td>generation_1999</td>\n",
       "      <td>front_2</td>\n",
       "      <td>72/0.0625 74/0.0625 67/0.0625 79/0.125 67/0.06...</td>\n",
       "      <td>950.0</td>\n",
       "      <td>-485.0</td>\n",
       "    </tr>\n",
       "    <tr>\n",
       "      <th>1</th>\n",
       "      <td>NSGA-II</td>\n",
       "      <td>generation_1999</td>\n",
       "      <td>front_2</td>\n",
       "      <td>59/0.0625 60/0.0625 67/0.0625 67/0.125 67/0.06...</td>\n",
       "      <td>920.0</td>\n",
       "      <td>-480.0</td>\n",
       "    </tr>\n",
       "    <tr>\n",
       "      <th>2</th>\n",
       "      <td>NSGA-II</td>\n",
       "      <td>generation_1999</td>\n",
       "      <td>front_2</td>\n",
       "      <td>72/0.0625 69/0.125 67/0.125 67/0.0625 65/0.125...</td>\n",
       "      <td>250.0</td>\n",
       "      <td>-40.0</td>\n",
       "    </tr>\n",
       "    <tr>\n",
       "      <th>3</th>\n",
       "      <td>NSGA-II</td>\n",
       "      <td>generation_1999</td>\n",
       "      <td>front_2</td>\n",
       "      <td>60/0.125 65/0.0625 69/0.125 67/0.0625 67/0.062...</td>\n",
       "      <td>200.0</td>\n",
       "      <td>-10.0</td>\n",
       "    </tr>\n",
       "    <tr>\n",
       "      <th>4</th>\n",
       "      <td>NSGA-II</td>\n",
       "      <td>generation_1999</td>\n",
       "      <td>front_2</td>\n",
       "      <td>60/0.0625 63/0.0625 79/0.0625 69/0.125 67/0.06...</td>\n",
       "      <td>765.0</td>\n",
       "      <td>-250.0</td>\n",
       "    </tr>\n",
       "  </tbody>\n",
       "</table>\n",
       "</div>"
      ],
      "text/plain": [
       "  algorithm       generation    front  \\\n",
       "0   NSGA-II  generation_1999  front_2   \n",
       "1   NSGA-II  generation_1999  front_2   \n",
       "2   NSGA-II  generation_1999  front_2   \n",
       "3   NSGA-II  generation_1999  front_2   \n",
       "4   NSGA-II  generation_1999  front_2   \n",
       "\n",
       "                                              genome  stability  tension  \n",
       "0  72/0.0625 74/0.0625 67/0.0625 79/0.125 67/0.06...      950.0   -485.0  \n",
       "1  59/0.0625 60/0.0625 67/0.0625 67/0.125 67/0.06...      920.0   -480.0  \n",
       "2  72/0.0625 69/0.125 67/0.125 67/0.0625 65/0.125...      250.0    -40.0  \n",
       "3  60/0.125 65/0.0625 69/0.125 67/0.0625 67/0.062...      200.0    -10.0  \n",
       "4  60/0.0625 63/0.0625 79/0.0625 69/0.125 67/0.06...      765.0   -250.0  "
      ]
     },
     "execution_count": 4,
     "metadata": {},
     "output_type": "execute_result"
    }
   ],
   "source": [
    "data_df.head()"
   ]
  },
  {
   "cell_type": "code",
   "execution_count": 5,
   "metadata": {},
   "outputs": [
    {
     "data": {
      "text/plain": [
       "algorithm                                               NSGA-II\n",
       "generation                                      generation_1999\n",
       "front                                                   front_2\n",
       "genome        72/0.0625 74/0.0625 67/0.0625 79/0.125 67/0.06...\n",
       "stability                                                 950.0\n",
       "tension                                                  -485.0\n",
       "Name: 0, dtype: object"
      ]
     },
     "execution_count": 5,
     "metadata": {},
     "output_type": "execute_result"
    }
   ],
   "source": [
    "data_df.loc[0]"
   ]
  },
  {
   "cell_type": "code",
   "execution_count": 6,
   "metadata": {},
   "outputs": [],
   "source": [
    "generation = data_df[data_df[\"generation\"] == \"generation_500\"].sort_values(by=['front'])"
   ]
  },
  {
   "cell_type": "code",
   "execution_count": 7,
   "metadata": {},
   "outputs": [],
   "source": [
    "X, Y = [], []\n",
    "for front in generation[\"front\"].unique():\n",
    "    X_front, Y_front = [], []\n",
    "    front_data = generation[generation[\"front\"] == front]\n",
    "    for stability in front_data[\"stability\"]:\n",
    "        X_front.append(stability)\n",
    "    for tension in front_data[\"tension\"]:\n",
    "        Y_front.append(tension)\n",
    "    X.append(X_front)\n",
    "    Y.append(Y_front)"
   ]
  },
  {
   "cell_type": "code",
   "execution_count": 8,
   "metadata": {},
   "outputs": [],
   "source": [
    "import matplotlib.pyplot as plt\n",
    "import matplotlib_inline\n",
    "matplotlib_inline.backend_inline.set_matplotlib_formats('svg')"
   ]
  },
  {
   "cell_type": "code",
   "execution_count": 9,
   "metadata": {},
   "outputs": [
    {
     "data": {
      "image/svg+xml": "<?xml version=\"1.0\" encoding=\"utf-8\" standalone=\"no\"?>\n<!DOCTYPE svg PUBLIC \"-//W3C//DTD SVG 1.1//EN\"\n  \"http://www.w3.org/Graphics/SVG/1.1/DTD/svg11.dtd\">\n<svg xmlns:xlink=\"http://www.w3.org/1999/xlink\" width=\"419.665312pt\" height=\"325.986375pt\" viewBox=\"0 0 419.665312 325.986375\" xmlns=\"http://www.w3.org/2000/svg\" version=\"1.1\">\n <metadata>\n  <rdf:RDF xmlns:dc=\"http://purl.org/dc/elements/1.1/\" xmlns:cc=\"http://creativecommons.org/ns#\" xmlns:rdf=\"http://www.w3.org/1999/02/22-rdf-syntax-ns#\">\n   <cc:Work>\n    <dc:type rdf:resource=\"http://purl.org/dc/dcmitype/StillImage\"/>\n    <dc:date>2023-03-21T23:15:33.552174</dc:date>\n    <dc:format>image/svg+xml</dc:format>\n    <dc:creator>\n     <cc:Agent>\n      <dc:title>Matplotlib v3.6.2, https://matplotlib.org/</dc:title>\n     </cc:Agent>\n    </dc:creator>\n   </cc:Work>\n  </rdf:RDF>\n </metadata>\n <defs>\n  <style type=\"text/css\">*{stroke-linejoin: round; stroke-linecap: butt}</style>\n </defs>\n <g id=\"figure_1\">\n  <g id=\"patch_1\">\n   <path d=\"M 0 325.986375 \nL 419.665312 325.986375 \nL 419.665312 0 \nL 0 0 \nz\n\" style=\"fill: #ffffff\"/>\n  </g>\n  <g id=\"axes_1\">\n   <g id=\"patch_2\">\n    <path d=\"M 55.345313 288.430125 \nL 412.465312 288.430125 \nL 412.465312 22.318125 \nL 55.345313 22.318125 \nz\n\" style=\"fill: #ffffff\"/>\n   </g>\n   <g id=\"PathCollection_1\">\n    <defs>\n     <path id=\"m8e7881bcbc\" d=\"M 0 3 \nC 0.795609 3 1.55874 2.683901 2.12132 2.12132 \nC 2.683901 1.55874 3 0.795609 3 0 \nC 3 -0.795609 2.683901 -1.55874 2.12132 -2.12132 \nC 1.55874 -2.683901 0.795609 -3 0 -3 \nC -0.795609 -3 -1.55874 -2.683901 -2.12132 -2.12132 \nC -2.683901 -1.55874 -3 -0.795609 -3 0 \nC -3 0.795609 -2.683901 1.55874 -2.12132 2.12132 \nC -1.55874 2.683901 -0.795609 3 0 3 \nz\n\" style=\"stroke: #1f77b4\"/>\n    </defs>\n    <g clip-path=\"url(#p46ae2bb03e)\">\n     <use xlink:href=\"#m8e7881bcbc\" x=\"294.323087\" y=\"74.734125\" style=\"fill: #1f77b4; stroke: #1f77b4\"/>\n     <use xlink:href=\"#m8e7881bcbc\" x=\"298.690637\" y=\"76.487168\" style=\"fill: #1f77b4; stroke: #1f77b4\"/>\n     <use xlink:href=\"#m8e7881bcbc\" x=\"396.232585\" y=\"172.90456\" style=\"fill: #1f77b4; stroke: #1f77b4\"/>\n     <use xlink:href=\"#m8e7881bcbc\" x=\"375.850686\" y=\"132.58456\" style=\"fill: #1f77b4; stroke: #1f77b4\"/>\n     <use xlink:href=\"#m8e7881bcbc\" x=\"361.292186\" y=\"94.017603\" style=\"fill: #1f77b4; stroke: #1f77b4\"/>\n     <use xlink:href=\"#m8e7881bcbc\" x=\"71.57804\" y=\"34.414125\" style=\"fill: #1f77b4; stroke: #1f77b4\"/>\n     <use xlink:href=\"#m8e7881bcbc\" x=\"387.497485\" y=\"171.151516\" style=\"fill: #1f77b4; stroke: #1f77b4\"/>\n     <use xlink:href=\"#m8e7881bcbc\" x=\"227.353988\" y=\"41.426299\" style=\"fill: #1f77b4; stroke: #1f77b4\"/>\n     <use xlink:href=\"#m8e7881bcbc\" x=\"307.425736\" y=\"85.252386\" style=\"fill: #1f77b4; stroke: #1f77b4\"/>\n     <use xlink:href=\"#m8e7881bcbc\" x=\"307.425736\" y=\"85.252386\" style=\"fill: #1f77b4; stroke: #1f77b4\"/>\n     <use xlink:href=\"#m8e7881bcbc\" x=\"244.824187\" y=\"46.685429\" style=\"fill: #1f77b4; stroke: #1f77b4\"/>\n     <use xlink:href=\"#m8e7881bcbc\" x=\"288.499687\" y=\"62.462821\" style=\"fill: #1f77b4; stroke: #1f77b4\"/>\n    </g>\n   </g>\n   <g id=\"PathCollection_2\">\n    <defs>\n     <path id=\"m9de2d14975\" d=\"M 0 3 \nC 0.795609 3 1.55874 2.683901 2.12132 2.12132 \nC 2.683901 1.55874 3 0.795609 3 0 \nC 3 -0.795609 2.683901 -1.55874 2.12132 -2.12132 \nC 1.55874 -2.683901 0.795609 -3 0 -3 \nC -0.795609 -3 -1.55874 -2.683901 -2.12132 -2.12132 \nC -2.683901 -1.55874 -3 -0.795609 -3 0 \nC -3 0.795609 -2.683901 1.55874 -2.12132 2.12132 \nC -1.55874 2.683901 -0.795609 3 0 3 \nz\n\" style=\"stroke: #ff7f0e\"/>\n    </defs>\n    <g clip-path=\"url(#p46ae2bb03e)\">\n     <use xlink:href=\"#m9de2d14975\" x=\"317.616686\" y=\"101.029777\" style=\"fill: #ff7f0e; stroke: #ff7f0e\"/>\n     <use xlink:href=\"#m9de2d14975\" x=\"336.542736\" y=\"108.041951\" style=\"fill: #ff7f0e; stroke: #ff7f0e\"/>\n     <use xlink:href=\"#m9de2d14975\" x=\"361.292186\" y=\"136.090647\" style=\"fill: #ff7f0e; stroke: #ff7f0e\"/>\n     <use xlink:href=\"#m9de2d14975\" x=\"343.821986\" y=\"118.560212\" style=\"fill: #ff7f0e; stroke: #ff7f0e\"/>\n     <use xlink:href=\"#m9de2d14975\" x=\"301.602337\" y=\"97.52369\" style=\"fill: #ff7f0e; stroke: #ff7f0e\"/>\n     <use xlink:href=\"#m9de2d14975\" x=\"304.514037\" y=\"99.276734\" style=\"fill: #ff7f0e; stroke: #ff7f0e\"/>\n     <use xlink:href=\"#m9de2d14975\" x=\"291.411387\" y=\"94.017603\" style=\"fill: #ff7f0e; stroke: #ff7f0e\"/>\n     <use xlink:href=\"#m9de2d14975\" x=\"339.454436\" y=\"111.548038\" style=\"fill: #ff7f0e; stroke: #ff7f0e\"/>\n     <use xlink:href=\"#m9de2d14975\" x=\"289.955537\" y=\"90.511516\" style=\"fill: #ff7f0e; stroke: #ff7f0e\"/>\n     <use xlink:href=\"#m9de2d14975\" x=\"288.499687\" y=\"78.240212\" style=\"fill: #ff7f0e; stroke: #ff7f0e\"/>\n     <use xlink:href=\"#m9de2d14975\" x=\"260.838537\" y=\"69.474995\" style=\"fill: #ff7f0e; stroke: #ff7f0e\"/>\n     <use xlink:href=\"#m9de2d14975\" x=\"240.456637\" y=\"48.438473\" style=\"fill: #ff7f0e; stroke: #ff7f0e\"/>\n     <use xlink:href=\"#m9de2d14975\" x=\"346.733686\" y=\"120.313255\" style=\"fill: #ff7f0e; stroke: #ff7f0e\"/>\n     <use xlink:href=\"#m9de2d14975\" x=\"371.483136\" y=\"160.633255\" style=\"fill: #ff7f0e; stroke: #ff7f0e\"/>\n     <use xlink:href=\"#m9de2d14975\" x=\"386.041635\" y=\"178.16369\" style=\"fill: #ff7f0e; stroke: #ff7f0e\"/>\n     <use xlink:href=\"#m9de2d14975\" x=\"390.409185\" y=\"276.334125\" style=\"fill: #ff7f0e; stroke: #ff7f0e\"/>\n     <use xlink:href=\"#m9de2d14975\" x=\"253.559287\" y=\"67.721951\" style=\"fill: #ff7f0e; stroke: #ff7f0e\"/>\n    </g>\n   </g>\n   <g id=\"PathCollection_3\">\n    <defs>\n     <path id=\"mdc8992f2b6\" d=\"M 0 3 \nC 0.795609 3 1.55874 2.683901 2.12132 2.12132 \nC 2.683901 1.55874 3 0.795609 3 0 \nC 3 -0.795609 2.683901 -1.55874 2.12132 -2.12132 \nC 1.55874 -2.683901 0.795609 -3 0 -3 \nC -0.795609 -3 -1.55874 -2.683901 -2.12132 -2.12132 \nC -2.683901 -1.55874 -3 -0.795609 -3 0 \nC -3 0.795609 -2.683901 1.55874 -2.12132 2.12132 \nC -1.55874 2.683901 -0.795609 3 0 3 \nz\n\" style=\"stroke: #2ca02c\"/>\n    </defs>\n    <g clip-path=\"url(#p46ae2bb03e)\">\n     <use xlink:href=\"#mdc8992f2b6\" x=\"271.029487\" y=\"78.240212\" style=\"fill: #2ca02c; stroke: #2ca02c\"/>\n     <use xlink:href=\"#mdc8992f2b6\" x=\"233.177388\" y=\"64.215864\" style=\"fill: #2ca02c; stroke: #2ca02c\"/>\n     <use xlink:href=\"#mdc8992f2b6\" x=\"342.366136\" y=\"120.313255\" style=\"fill: #2ca02c; stroke: #2ca02c\"/>\n     <use xlink:href=\"#mdc8992f2b6\" x=\"355.468786\" y=\"155.374125\" style=\"fill: #2ca02c; stroke: #2ca02c\"/>\n     <use xlink:href=\"#mdc8992f2b6\" x=\"230.265688\" y=\"62.462821\" style=\"fill: #2ca02c; stroke: #2ca02c\"/>\n     <use xlink:href=\"#mdc8992f2b6\" x=\"301.602337\" y=\"99.276734\" style=\"fill: #2ca02c; stroke: #2ca02c\"/>\n     <use xlink:href=\"#mdc8992f2b6\" x=\"239.000787\" y=\"72.981082\" style=\"fill: #2ca02c; stroke: #2ca02c\"/>\n     <use xlink:href=\"#mdc8992f2b6\" x=\"285.587987\" y=\"92.26456\" style=\"fill: #2ca02c; stroke: #2ca02c\"/>\n     <use xlink:href=\"#mdc8992f2b6\" x=\"218.618888\" y=\"57.20369\" style=\"fill: #2ca02c; stroke: #2ca02c\"/>\n     <use xlink:href=\"#mdc8992f2b6\" x=\"371.483136\" y=\"186.928908\" style=\"fill: #2ca02c; stroke: #2ca02c\"/>\n     <use xlink:href=\"#mdc8992f2b6\" x=\"295.778937\" y=\"97.52369\" style=\"fill: #2ca02c; stroke: #2ca02c\"/>\n     <use xlink:href=\"#mdc8992f2b6\" x=\"237.544937\" y=\"69.474995\" style=\"fill: #2ca02c; stroke: #2ca02c\"/>\n     <use xlink:href=\"#mdc8992f2b6\" x=\"349.645386\" y=\"144.855864\" style=\"fill: #2ca02c; stroke: #2ca02c\"/>\n     <use xlink:href=\"#mdc8992f2b6\" x=\"358.380486\" y=\"174.657603\" style=\"fill: #2ca02c; stroke: #2ca02c\"/>\n     <use xlink:href=\"#mdc8992f2b6\" x=\"250.647587\" y=\"74.734125\" style=\"fill: #2ca02c; stroke: #2ca02c\"/>\n     <use xlink:href=\"#mdc8992f2b6\" x=\"317.616686\" y=\"102.782821\" style=\"fill: #2ca02c; stroke: #2ca02c\"/>\n     <use xlink:href=\"#mdc8992f2b6\" x=\"227.353988\" y=\"58.956734\" style=\"fill: #2ca02c; stroke: #2ca02c\"/>\n     <use xlink:href=\"#mdc8992f2b6\" x=\"214.251338\" y=\"48.438473\" style=\"fill: #2ca02c; stroke: #2ca02c\"/>\n     <use xlink:href=\"#mdc8992f2b6\" x=\"326.351786\" y=\"109.794995\" style=\"fill: #2ca02c; stroke: #2ca02c\"/>\n     <use xlink:href=\"#mdc8992f2b6\" x=\"278.308737\" y=\"79.993255\" style=\"fill: #2ca02c; stroke: #2ca02c\"/>\n    </g>\n   </g>\n   <g id=\"PathCollection_4\">\n    <defs>\n     <path id=\"m308bf8de4e\" d=\"M 0 3 \nC 0.795609 3 1.55874 2.683901 2.12132 2.12132 \nC 2.683901 1.55874 3 0.795609 3 0 \nC 3 -0.795609 2.683901 -1.55874 2.12132 -2.12132 \nC 1.55874 -2.683901 0.795609 -3 0 -3 \nC -0.795609 -3 -1.55874 -2.683901 -2.12132 -2.12132 \nC -2.683901 -1.55874 -3 -0.795609 -3 0 \nC -3 0.795609 -2.683901 1.55874 -2.12132 2.12132 \nC -1.55874 2.683901 -0.795609 3 0 3 \nz\n\" style=\"stroke: #d62728\"/>\n    </defs>\n    <g clip-path=\"url(#p46ae2bb03e)\">\n     <use xlink:href=\"#m308bf8de4e\" x=\"273.941187\" y=\"79.993255\" style=\"fill: #d62728; stroke: #d62728\"/>\n     <use xlink:href=\"#m308bf8de4e\" x=\"329.263486\" y=\"120.313255\" style=\"fill: #d62728; stroke: #d62728\"/>\n     <use xlink:href=\"#m308bf8de4e\" x=\"310.337436\" y=\"102.782821\" style=\"fill: #d62728; stroke: #d62728\"/>\n     <use xlink:href=\"#m308bf8de4e\" x=\"367.115586\" y=\"186.928908\" style=\"fill: #d62728; stroke: #d62728\"/>\n     <use xlink:href=\"#m308bf8de4e\" x=\"354.012936\" y=\"165.892386\" style=\"fill: #d62728; stroke: #d62728\"/>\n     <use xlink:href=\"#m308bf8de4e\" x=\"282.676287\" y=\"94.017603\" style=\"fill: #d62728; stroke: #d62728\"/>\n     <use xlink:href=\"#m308bf8de4e\" x=\"250.647587\" y=\"76.487168\" style=\"fill: #d62728; stroke: #d62728\"/>\n     <use xlink:href=\"#m308bf8de4e\" x=\"228.809838\" y=\"65.968908\" style=\"fill: #d62728; stroke: #d62728\"/>\n     <use xlink:href=\"#m308bf8de4e\" x=\"230.265688\" y=\"71.228038\" style=\"fill: #d62728; stroke: #d62728\"/>\n     <use xlink:href=\"#m308bf8de4e\" x=\"370.027286\" y=\"202.706299\" style=\"fill: #d62728; stroke: #d62728\"/>\n     <use xlink:href=\"#m308bf8de4e\" x=\"287.043837\" y=\"97.52369\" style=\"fill: #d62728; stroke: #d62728\"/>\n     <use xlink:href=\"#m308bf8de4e\" x=\"224.442288\" y=\"60.709777\" style=\"fill: #d62728; stroke: #d62728\"/>\n     <use xlink:href=\"#m308bf8de4e\" x=\"337.998586\" y=\"130.831516\" style=\"fill: #d62728; stroke: #d62728\"/>\n     <use xlink:href=\"#m308bf8de4e\" x=\"278.308737\" y=\"85.252386\" style=\"fill: #d62728; stroke: #d62728\"/>\n     <use xlink:href=\"#m308bf8de4e\" x=\"291.411387\" y=\"101.029777\" style=\"fill: #d62728; stroke: #d62728\"/>\n     <use xlink:href=\"#m308bf8de4e\" x=\"198.236988\" y=\"48.438473\" style=\"fill: #d62728; stroke: #d62728\"/>\n     <use xlink:href=\"#m308bf8de4e\" x=\"368.571436\" y=\"195.694125\" style=\"fill: #d62728; stroke: #d62728\"/>\n     <use xlink:href=\"#m308bf8de4e\" x=\"371.483136\" y=\"248.285429\" style=\"fill: #d62728; stroke: #d62728\"/>\n     <use xlink:href=\"#m308bf8de4e\" x=\"240.456637\" y=\"74.734125\" style=\"fill: #d62728; stroke: #d62728\"/>\n    </g>\n   </g>\n   <g id=\"PathCollection_5\">\n    <defs>\n     <path id=\"mb4d9b1871e\" d=\"M 0 3 \nC 0.795609 3 1.55874 2.683901 2.12132 2.12132 \nC 2.683901 1.55874 3 0.795609 3 0 \nC 3 -0.795609 2.683901 -1.55874 2.12132 -2.12132 \nC 1.55874 -2.683901 0.795609 -3 0 -3 \nC -0.795609 -3 -1.55874 -2.683901 -2.12132 -2.12132 \nC -2.683901 -1.55874 -3 -0.795609 -3 0 \nC -3 0.795609 -2.683901 1.55874 -2.12132 2.12132 \nC -1.55874 2.683901 -0.795609 3 0 3 \nz\n\" style=\"stroke: #9467bd\"/>\n    </defs>\n    <g clip-path=\"url(#p46ae2bb03e)\">\n     <use xlink:href=\"#mb4d9b1871e\" x=\"352.557086\" y=\"185.175864\" style=\"fill: #9467bd; stroke: #9467bd\"/>\n     <use xlink:href=\"#mb4d9b1871e\" x=\"349.645386\" y=\"179.916734\" style=\"fill: #9467bd; stroke: #9467bd\"/>\n     <use xlink:href=\"#mb4d9b1871e\" x=\"271.029487\" y=\"81.746299\" style=\"fill: #9467bd; stroke: #9467bd\"/>\n     <use xlink:href=\"#mb4d9b1871e\" x=\"272.485337\" y=\"88.758473\" style=\"fill: #9467bd; stroke: #9467bd\"/>\n     <use xlink:href=\"#mb4d9b1871e\" x=\"326.351786\" y=\"122.066299\" style=\"fill: #9467bd; stroke: #9467bd\"/>\n     <use xlink:href=\"#mb4d9b1871e\" x=\"285.587987\" y=\"97.52369\" style=\"fill: #9467bd; stroke: #9467bd\"/>\n     <use xlink:href=\"#mb4d9b1871e\" x=\"305.969886\" y=\"104.535864\" style=\"fill: #9467bd; stroke: #9467bd\"/>\n     <use xlink:href=\"#mb4d9b1871e\" x=\"329.263486\" y=\"127.325429\" style=\"fill: #9467bd; stroke: #9467bd\"/>\n     <use xlink:href=\"#mb4d9b1871e\" x=\"275.397037\" y=\"94.017603\" style=\"fill: #9467bd; stroke: #9467bd\"/>\n     <use xlink:href=\"#mb4d9b1871e\" x=\"336.542736\" y=\"148.361951\" style=\"fill: #9467bd; stroke: #9467bd\"/>\n     <use xlink:href=\"#mb4d9b1871e\" x=\"279.764587\" y=\"95.770647\" style=\"fill: #9467bd; stroke: #9467bd\"/>\n     <use xlink:href=\"#mb4d9b1871e\" x=\"269.573637\" y=\"79.993255\" style=\"fill: #9467bd; stroke: #9467bd\"/>\n     <use xlink:href=\"#mb4d9b1871e\" x=\"221.530588\" y=\"60.709777\" style=\"fill: #9467bd; stroke: #9467bd\"/>\n     <use xlink:href=\"#mb4d9b1871e\" x=\"320.528386\" y=\"120.313255\" style=\"fill: #9467bd; stroke: #9467bd\"/>\n     <use xlink:href=\"#mb4d9b1871e\" x=\"307.425736\" y=\"115.054125\" style=\"fill: #9467bd; stroke: #9467bd\"/>\n     <use xlink:href=\"#mb4d9b1871e\" x=\"227.353988\" y=\"65.968908\" style=\"fill: #9467bd; stroke: #9467bd\"/>\n     <use xlink:href=\"#mb4d9b1871e\" x=\"332.175186\" y=\"130.831516\" style=\"fill: #9467bd; stroke: #9467bd\"/>\n     <use xlink:href=\"#mb4d9b1871e\" x=\"249.191737\" y=\"76.487168\" style=\"fill: #9467bd; stroke: #9467bd\"/>\n     <use xlink:href=\"#mb4d9b1871e\" x=\"196.781138\" y=\"51.94456\" style=\"fill: #9467bd; stroke: #9467bd\"/>\n     <use xlink:href=\"#mb4d9b1871e\" x=\"370.027286\" y=\"211.471516\" style=\"fill: #9467bd; stroke: #9467bd\"/>\n     <use xlink:href=\"#mb4d9b1871e\" x=\"365.659736\" y=\"188.681951\" style=\"fill: #9467bd; stroke: #9467bd\"/>\n    </g>\n   </g>\n   <g id=\"PathCollection_6\">\n    <defs>\n     <path id=\"ma4fb0cd56a\" d=\"M 0 3 \nC 0.795609 3 1.55874 2.683901 2.12132 2.12132 \nC 2.683901 1.55874 3 0.795609 3 0 \nC 3 -0.795609 2.683901 -1.55874 2.12132 -2.12132 \nC 1.55874 -2.683901 0.795609 -3 0 -3 \nC -0.795609 -3 -1.55874 -2.683901 -2.12132 -2.12132 \nC -2.683901 -1.55874 -3 -0.795609 -3 0 \nC -3 0.795609 -2.683901 1.55874 -2.12132 2.12132 \nC -1.55874 2.683901 -0.795609 3 0 3 \nz\n\" style=\"stroke: #8c564b\"/>\n    </defs>\n    <g clip-path=\"url(#p46ae2bb03e)\">\n     <use xlink:href=\"#ma4fb0cd56a\" x=\"358.380486\" y=\"192.188038\" style=\"fill: #8c564b; stroke: #8c564b\"/>\n     <use xlink:href=\"#ma4fb0cd56a\" x=\"211.339638\" y=\"65.968908\" style=\"fill: #8c564b; stroke: #8c564b\"/>\n     <use xlink:href=\"#ma4fb0cd56a\" x=\"185.134338\" y=\"53.697603\" style=\"fill: #8c564b; stroke: #8c564b\"/>\n     <use xlink:href=\"#ma4fb0cd56a\" x=\"180.766788\" y=\"51.94456\" style=\"fill: #8c564b; stroke: #8c564b\"/>\n     <use xlink:href=\"#ma4fb0cd56a\" x=\"346.733686\" y=\"181.669777\" style=\"fill: #8c564b; stroke: #8c564b\"/>\n     <use xlink:href=\"#ma4fb0cd56a\" x=\"303.058187\" y=\"104.535864\" style=\"fill: #8c564b; stroke: #8c564b\"/>\n     <use xlink:href=\"#ma4fb0cd56a\" x=\"332.175186\" y=\"150.114995\" style=\"fill: #8c564b; stroke: #8c564b\"/>\n     <use xlink:href=\"#ma4fb0cd56a\" x=\"314.704986\" y=\"130.831516\" style=\"fill: #8c564b; stroke: #8c564b\"/>\n     <use xlink:href=\"#ma4fb0cd56a\" x=\"335.086886\" y=\"157.127168\" style=\"fill: #8c564b; stroke: #8c564b\"/>\n     <use xlink:href=\"#ma4fb0cd56a\" x=\"282.676287\" y=\"101.029777\" style=\"fill: #8c564b; stroke: #8c564b\"/>\n     <use xlink:href=\"#ma4fb0cd56a\" x=\"359.836336\" y=\"197.447168\" style=\"fill: #8c564b; stroke: #8c564b\"/>\n    </g>\n   </g>\n   <g id=\"matplotlib.axis_1\">\n    <g id=\"xtick_1\">\n     <g id=\"line2d_1\">\n      <path d=\"M 106.518439 288.430125 \nL 106.518439 22.318125 \n\" clip-path=\"url(#p46ae2bb03e)\" style=\"fill: none; stroke: #b0b0b0; stroke-width: 0.8; stroke-linecap: square\"/>\n     </g>\n     <g id=\"line2d_2\">\n      <defs>\n       <path id=\"mbf3dade575\" d=\"M 0 0 \nL 0 3.5 \n\" style=\"stroke: #000000; stroke-width: 0.8\"/>\n      </defs>\n      <g>\n       <use xlink:href=\"#mbf3dade575\" x=\"106.518439\" y=\"288.430125\" style=\"stroke: #000000; stroke-width: 0.8\"/>\n      </g>\n     </g>\n     <g id=\"text_1\">\n      <!-- −600 -->\n      <g transform=\"translate(92.784846 303.028562) scale(0.1 -0.1)\">\n       <defs>\n        <path id=\"DejaVuSans-2212\" d=\"M 678 2272 \nL 4684 2272 \nL 4684 1741 \nL 678 1741 \nL 678 2272 \nz\n\" transform=\"scale(0.015625)\"/>\n        <path id=\"DejaVuSans-36\" d=\"M 2113 2584 \nQ 1688 2584 1439 2293 \nQ 1191 2003 1191 1497 \nQ 1191 994 1439 701 \nQ 1688 409 2113 409 \nQ 2538 409 2786 701 \nQ 3034 994 3034 1497 \nQ 3034 2003 2786 2293 \nQ 2538 2584 2113 2584 \nz\nM 3366 4563 \nL 3366 3988 \nQ 3128 4100 2886 4159 \nQ 2644 4219 2406 4219 \nQ 1781 4219 1451 3797 \nQ 1122 3375 1075 2522 \nQ 1259 2794 1537 2939 \nQ 1816 3084 2150 3084 \nQ 2853 3084 3261 2657 \nQ 3669 2231 3669 1497 \nQ 3669 778 3244 343 \nQ 2819 -91 2113 -91 \nQ 1303 -91 875 529 \nQ 447 1150 447 2328 \nQ 447 3434 972 4092 \nQ 1497 4750 2381 4750 \nQ 2619 4750 2861 4703 \nQ 3103 4656 3366 4563 \nz\n\" transform=\"scale(0.015625)\"/>\n        <path id=\"DejaVuSans-30\" d=\"M 2034 4250 \nQ 1547 4250 1301 3770 \nQ 1056 3291 1056 2328 \nQ 1056 1369 1301 889 \nQ 1547 409 2034 409 \nQ 2525 409 2770 889 \nQ 3016 1369 3016 2328 \nQ 3016 3291 2770 3770 \nQ 2525 4250 2034 4250 \nz\nM 2034 4750 \nQ 2819 4750 3233 4129 \nQ 3647 3509 3647 2328 \nQ 3647 1150 3233 529 \nQ 2819 -91 2034 -91 \nQ 1250 -91 836 529 \nQ 422 1150 422 2328 \nQ 422 3509 836 4129 \nQ 1250 4750 2034 4750 \nz\n\" transform=\"scale(0.015625)\"/>\n       </defs>\n       <use xlink:href=\"#DejaVuSans-2212\"/>\n       <use xlink:href=\"#DejaVuSans-36\" x=\"83.789062\"/>\n       <use xlink:href=\"#DejaVuSans-30\" x=\"147.412109\"/>\n       <use xlink:href=\"#DejaVuSans-30\" x=\"211.035156\"/>\n      </g>\n     </g>\n    </g>\n    <g id=\"xtick_2\">\n     <g id=\"line2d_3\">\n      <path d=\"M 164.752438 288.430125 \nL 164.752438 22.318125 \n\" clip-path=\"url(#p46ae2bb03e)\" style=\"fill: none; stroke: #b0b0b0; stroke-width: 0.8; stroke-linecap: square\"/>\n     </g>\n     <g id=\"line2d_4\">\n      <g>\n       <use xlink:href=\"#mbf3dade575\" x=\"164.752438\" y=\"288.430125\" style=\"stroke: #000000; stroke-width: 0.8\"/>\n      </g>\n     </g>\n     <g id=\"text_2\">\n      <!-- −400 -->\n      <g transform=\"translate(151.018845 303.028562) scale(0.1 -0.1)\">\n       <defs>\n        <path id=\"DejaVuSans-34\" d=\"M 2419 4116 \nL 825 1625 \nL 2419 1625 \nL 2419 4116 \nz\nM 2253 4666 \nL 3047 4666 \nL 3047 1625 \nL 3713 1625 \nL 3713 1100 \nL 3047 1100 \nL 3047 0 \nL 2419 0 \nL 2419 1100 \nL 313 1100 \nL 313 1709 \nL 2253 4666 \nz\n\" transform=\"scale(0.015625)\"/>\n       </defs>\n       <use xlink:href=\"#DejaVuSans-2212\"/>\n       <use xlink:href=\"#DejaVuSans-34\" x=\"83.789062\"/>\n       <use xlink:href=\"#DejaVuSans-30\" x=\"147.412109\"/>\n       <use xlink:href=\"#DejaVuSans-30\" x=\"211.035156\"/>\n      </g>\n     </g>\n    </g>\n    <g id=\"xtick_3\">\n     <g id=\"line2d_5\">\n      <path d=\"M 222.986438 288.430125 \nL 222.986438 22.318125 \n\" clip-path=\"url(#p46ae2bb03e)\" style=\"fill: none; stroke: #b0b0b0; stroke-width: 0.8; stroke-linecap: square\"/>\n     </g>\n     <g id=\"line2d_6\">\n      <g>\n       <use xlink:href=\"#mbf3dade575\" x=\"222.986438\" y=\"288.430125\" style=\"stroke: #000000; stroke-width: 0.8\"/>\n      </g>\n     </g>\n     <g id=\"text_3\">\n      <!-- −200 -->\n      <g transform=\"translate(209.252844 303.028562) scale(0.1 -0.1)\">\n       <defs>\n        <path id=\"DejaVuSans-32\" d=\"M 1228 531 \nL 3431 531 \nL 3431 0 \nL 469 0 \nL 469 531 \nQ 828 903 1448 1529 \nQ 2069 2156 2228 2338 \nQ 2531 2678 2651 2914 \nQ 2772 3150 2772 3378 \nQ 2772 3750 2511 3984 \nQ 2250 4219 1831 4219 \nQ 1534 4219 1204 4116 \nQ 875 4013 500 3803 \nL 500 4441 \nQ 881 4594 1212 4672 \nQ 1544 4750 1819 4750 \nQ 2544 4750 2975 4387 \nQ 3406 4025 3406 3419 \nQ 3406 3131 3298 2873 \nQ 3191 2616 2906 2266 \nQ 2828 2175 2409 1742 \nQ 1991 1309 1228 531 \nz\n\" transform=\"scale(0.015625)\"/>\n       </defs>\n       <use xlink:href=\"#DejaVuSans-2212\"/>\n       <use xlink:href=\"#DejaVuSans-32\" x=\"83.789062\"/>\n       <use xlink:href=\"#DejaVuSans-30\" x=\"147.412109\"/>\n       <use xlink:href=\"#DejaVuSans-30\" x=\"211.035156\"/>\n      </g>\n     </g>\n    </g>\n    <g id=\"xtick_4\">\n     <g id=\"line2d_7\">\n      <path d=\"M 281.220437 288.430125 \nL 281.220437 22.318125 \n\" clip-path=\"url(#p46ae2bb03e)\" style=\"fill: none; stroke: #b0b0b0; stroke-width: 0.8; stroke-linecap: square\"/>\n     </g>\n     <g id=\"line2d_8\">\n      <g>\n       <use xlink:href=\"#mbf3dade575\" x=\"281.220437\" y=\"288.430125\" style=\"stroke: #000000; stroke-width: 0.8\"/>\n      </g>\n     </g>\n     <g id=\"text_4\">\n      <!-- 0 -->\n      <g transform=\"translate(278.039187 303.028562) scale(0.1 -0.1)\">\n       <use xlink:href=\"#DejaVuSans-30\"/>\n      </g>\n     </g>\n    </g>\n    <g id=\"xtick_5\">\n     <g id=\"line2d_9\">\n      <path d=\"M 339.454436 288.430125 \nL 339.454436 22.318125 \n\" clip-path=\"url(#p46ae2bb03e)\" style=\"fill: none; stroke: #b0b0b0; stroke-width: 0.8; stroke-linecap: square\"/>\n     </g>\n     <g id=\"line2d_10\">\n      <g>\n       <use xlink:href=\"#mbf3dade575\" x=\"339.454436\" y=\"288.430125\" style=\"stroke: #000000; stroke-width: 0.8\"/>\n      </g>\n     </g>\n     <g id=\"text_5\">\n      <!-- 200 -->\n      <g transform=\"translate(329.910686 303.028562) scale(0.1 -0.1)\">\n       <use xlink:href=\"#DejaVuSans-32\"/>\n       <use xlink:href=\"#DejaVuSans-30\" x=\"63.623047\"/>\n       <use xlink:href=\"#DejaVuSans-30\" x=\"127.246094\"/>\n      </g>\n     </g>\n    </g>\n    <g id=\"xtick_6\">\n     <g id=\"line2d_11\">\n      <path d=\"M 397.688435 288.430125 \nL 397.688435 22.318125 \n\" clip-path=\"url(#p46ae2bb03e)\" style=\"fill: none; stroke: #b0b0b0; stroke-width: 0.8; stroke-linecap: square\"/>\n     </g>\n     <g id=\"line2d_12\">\n      <g>\n       <use xlink:href=\"#mbf3dade575\" x=\"397.688435\" y=\"288.430125\" style=\"stroke: #000000; stroke-width: 0.8\"/>\n      </g>\n     </g>\n     <g id=\"text_6\">\n      <!-- 400 -->\n      <g transform=\"translate(388.144685 303.028562) scale(0.1 -0.1)\">\n       <use xlink:href=\"#DejaVuSans-34\"/>\n       <use xlink:href=\"#DejaVuSans-30\" x=\"63.623047\"/>\n       <use xlink:href=\"#DejaVuSans-30\" x=\"127.246094\"/>\n      </g>\n     </g>\n    </g>\n    <g id=\"text_7\">\n     <!-- stability -->\n     <g transform=\"translate(214.015469 316.706687) scale(0.1 -0.1)\">\n      <defs>\n       <path id=\"DejaVuSans-73\" d=\"M 2834 3397 \nL 2834 2853 \nQ 2591 2978 2328 3040 \nQ 2066 3103 1784 3103 \nQ 1356 3103 1142 2972 \nQ 928 2841 928 2578 \nQ 928 2378 1081 2264 \nQ 1234 2150 1697 2047 \nL 1894 2003 \nQ 2506 1872 2764 1633 \nQ 3022 1394 3022 966 \nQ 3022 478 2636 193 \nQ 2250 -91 1575 -91 \nQ 1294 -91 989 -36 \nQ 684 19 347 128 \nL 347 722 \nQ 666 556 975 473 \nQ 1284 391 1588 391 \nQ 1994 391 2212 530 \nQ 2431 669 2431 922 \nQ 2431 1156 2273 1281 \nQ 2116 1406 1581 1522 \nL 1381 1569 \nQ 847 1681 609 1914 \nQ 372 2147 372 2553 \nQ 372 3047 722 3315 \nQ 1072 3584 1716 3584 \nQ 2034 3584 2315 3537 \nQ 2597 3491 2834 3397 \nz\n\" transform=\"scale(0.015625)\"/>\n       <path id=\"DejaVuSans-74\" d=\"M 1172 4494 \nL 1172 3500 \nL 2356 3500 \nL 2356 3053 \nL 1172 3053 \nL 1172 1153 \nQ 1172 725 1289 603 \nQ 1406 481 1766 481 \nL 2356 481 \nL 2356 0 \nL 1766 0 \nQ 1100 0 847 248 \nQ 594 497 594 1153 \nL 594 3053 \nL 172 3053 \nL 172 3500 \nL 594 3500 \nL 594 4494 \nL 1172 4494 \nz\n\" transform=\"scale(0.015625)\"/>\n       <path id=\"DejaVuSans-61\" d=\"M 2194 1759 \nQ 1497 1759 1228 1600 \nQ 959 1441 959 1056 \nQ 959 750 1161 570 \nQ 1363 391 1709 391 \nQ 2188 391 2477 730 \nQ 2766 1069 2766 1631 \nL 2766 1759 \nL 2194 1759 \nz\nM 3341 1997 \nL 3341 0 \nL 2766 0 \nL 2766 531 \nQ 2569 213 2275 61 \nQ 1981 -91 1556 -91 \nQ 1019 -91 701 211 \nQ 384 513 384 1019 \nQ 384 1609 779 1909 \nQ 1175 2209 1959 2209 \nL 2766 2209 \nL 2766 2266 \nQ 2766 2663 2505 2880 \nQ 2244 3097 1772 3097 \nQ 1472 3097 1187 3025 \nQ 903 2953 641 2809 \nL 641 3341 \nQ 956 3463 1253 3523 \nQ 1550 3584 1831 3584 \nQ 2591 3584 2966 3190 \nQ 3341 2797 3341 1997 \nz\n\" transform=\"scale(0.015625)\"/>\n       <path id=\"DejaVuSans-62\" d=\"M 3116 1747 \nQ 3116 2381 2855 2742 \nQ 2594 3103 2138 3103 \nQ 1681 3103 1420 2742 \nQ 1159 2381 1159 1747 \nQ 1159 1113 1420 752 \nQ 1681 391 2138 391 \nQ 2594 391 2855 752 \nQ 3116 1113 3116 1747 \nz\nM 1159 2969 \nQ 1341 3281 1617 3432 \nQ 1894 3584 2278 3584 \nQ 2916 3584 3314 3078 \nQ 3713 2572 3713 1747 \nQ 3713 922 3314 415 \nQ 2916 -91 2278 -91 \nQ 1894 -91 1617 61 \nQ 1341 213 1159 525 \nL 1159 0 \nL 581 0 \nL 581 4863 \nL 1159 4863 \nL 1159 2969 \nz\n\" transform=\"scale(0.015625)\"/>\n       <path id=\"DejaVuSans-69\" d=\"M 603 3500 \nL 1178 3500 \nL 1178 0 \nL 603 0 \nL 603 3500 \nz\nM 603 4863 \nL 1178 4863 \nL 1178 4134 \nL 603 4134 \nL 603 4863 \nz\n\" transform=\"scale(0.015625)\"/>\n       <path id=\"DejaVuSans-6c\" d=\"M 603 4863 \nL 1178 4863 \nL 1178 0 \nL 603 0 \nL 603 4863 \nz\n\" transform=\"scale(0.015625)\"/>\n       <path id=\"DejaVuSans-79\" d=\"M 2059 -325 \nQ 1816 -950 1584 -1140 \nQ 1353 -1331 966 -1331 \nL 506 -1331 \nL 506 -850 \nL 844 -850 \nQ 1081 -850 1212 -737 \nQ 1344 -625 1503 -206 \nL 1606 56 \nL 191 3500 \nL 800 3500 \nL 1894 763 \nL 2988 3500 \nL 3597 3500 \nL 2059 -325 \nz\n\" transform=\"scale(0.015625)\"/>\n      </defs>\n      <use xlink:href=\"#DejaVuSans-73\"/>\n      <use xlink:href=\"#DejaVuSans-74\" x=\"52.099609\"/>\n      <use xlink:href=\"#DejaVuSans-61\" x=\"91.308594\"/>\n      <use xlink:href=\"#DejaVuSans-62\" x=\"152.587891\"/>\n      <use xlink:href=\"#DejaVuSans-69\" x=\"216.064453\"/>\n      <use xlink:href=\"#DejaVuSans-6c\" x=\"243.847656\"/>\n      <use xlink:href=\"#DejaVuSans-69\" x=\"271.630859\"/>\n      <use xlink:href=\"#DejaVuSans-74\" x=\"299.414062\"/>\n      <use xlink:href=\"#DejaVuSans-79\" x=\"338.623047\"/>\n     </g>\n    </g>\n   </g>\n   <g id=\"matplotlib.axis_2\">\n    <g id=\"ytick_1\">\n     <g id=\"line2d_13\">\n      <path d=\"M 55.345313 279.840212 \nL 412.465312 279.840212 \n\" clip-path=\"url(#p46ae2bb03e)\" style=\"fill: none; stroke: #b0b0b0; stroke-width: 0.8; stroke-linecap: square\"/>\n     </g>\n     <g id=\"line2d_14\">\n      <defs>\n       <path id=\"mf3500d6e0e\" d=\"M 0 0 \nL -3.5 0 \n\" style=\"stroke: #000000; stroke-width: 0.8\"/>\n      </defs>\n      <g>\n       <use xlink:href=\"#mf3500d6e0e\" x=\"55.345313\" y=\"279.840212\" style=\"stroke: #000000; stroke-width: 0.8\"/>\n      </g>\n     </g>\n     <g id=\"text_8\">\n      <!-- −800 -->\n      <g transform=\"translate(20.878125 283.639431) scale(0.1 -0.1)\">\n       <defs>\n        <path id=\"DejaVuSans-38\" d=\"M 2034 2216 \nQ 1584 2216 1326 1975 \nQ 1069 1734 1069 1313 \nQ 1069 891 1326 650 \nQ 1584 409 2034 409 \nQ 2484 409 2743 651 \nQ 3003 894 3003 1313 \nQ 3003 1734 2745 1975 \nQ 2488 2216 2034 2216 \nz\nM 1403 2484 \nQ 997 2584 770 2862 \nQ 544 3141 544 3541 \nQ 544 4100 942 4425 \nQ 1341 4750 2034 4750 \nQ 2731 4750 3128 4425 \nQ 3525 4100 3525 3541 \nQ 3525 3141 3298 2862 \nQ 3072 2584 2669 2484 \nQ 3125 2378 3379 2068 \nQ 3634 1759 3634 1313 \nQ 3634 634 3220 271 \nQ 2806 -91 2034 -91 \nQ 1263 -91 848 271 \nQ 434 634 434 1313 \nQ 434 1759 690 2068 \nQ 947 2378 1403 2484 \nz\nM 1172 3481 \nQ 1172 3119 1398 2916 \nQ 1625 2713 2034 2713 \nQ 2441 2713 2670 2916 \nQ 2900 3119 2900 3481 \nQ 2900 3844 2670 4047 \nQ 2441 4250 2034 4250 \nQ 1625 4250 1398 4047 \nQ 1172 3844 1172 3481 \nz\n\" transform=\"scale(0.015625)\"/>\n       </defs>\n       <use xlink:href=\"#DejaVuSans-2212\"/>\n       <use xlink:href=\"#DejaVuSans-38\" x=\"83.789062\"/>\n       <use xlink:href=\"#DejaVuSans-30\" x=\"147.412109\"/>\n       <use xlink:href=\"#DejaVuSans-30\" x=\"211.035156\"/>\n      </g>\n     </g>\n    </g>\n    <g id=\"ytick_2\">\n     <g id=\"line2d_15\">\n      <path d=\"M 55.345313 244.779342 \nL 412.465312 244.779342 \n\" clip-path=\"url(#p46ae2bb03e)\" style=\"fill: none; stroke: #b0b0b0; stroke-width: 0.8; stroke-linecap: square\"/>\n     </g>\n     <g id=\"line2d_16\">\n      <g>\n       <use xlink:href=\"#mf3500d6e0e\" x=\"55.345313\" y=\"244.779342\" style=\"stroke: #000000; stroke-width: 0.8\"/>\n      </g>\n     </g>\n     <g id=\"text_9\">\n      <!-- −700 -->\n      <g transform=\"translate(20.878125 248.578561) scale(0.1 -0.1)\">\n       <defs>\n        <path id=\"DejaVuSans-37\" d=\"M 525 4666 \nL 3525 4666 \nL 3525 4397 \nL 1831 0 \nL 1172 0 \nL 2766 4134 \nL 525 4134 \nL 525 4666 \nz\n\" transform=\"scale(0.015625)\"/>\n       </defs>\n       <use xlink:href=\"#DejaVuSans-2212\"/>\n       <use xlink:href=\"#DejaVuSans-37\" x=\"83.789062\"/>\n       <use xlink:href=\"#DejaVuSans-30\" x=\"147.412109\"/>\n       <use xlink:href=\"#DejaVuSans-30\" x=\"211.035156\"/>\n      </g>\n     </g>\n    </g>\n    <g id=\"ytick_3\">\n     <g id=\"line2d_17\">\n      <path d=\"M 55.345313 209.718473 \nL 412.465312 209.718473 \n\" clip-path=\"url(#p46ae2bb03e)\" style=\"fill: none; stroke: #b0b0b0; stroke-width: 0.8; stroke-linecap: square\"/>\n     </g>\n     <g id=\"line2d_18\">\n      <g>\n       <use xlink:href=\"#mf3500d6e0e\" x=\"55.345313\" y=\"209.718473\" style=\"stroke: #000000; stroke-width: 0.8\"/>\n      </g>\n     </g>\n     <g id=\"text_10\">\n      <!-- −600 -->\n      <g transform=\"translate(20.878125 213.517692) scale(0.1 -0.1)\">\n       <use xlink:href=\"#DejaVuSans-2212\"/>\n       <use xlink:href=\"#DejaVuSans-36\" x=\"83.789062\"/>\n       <use xlink:href=\"#DejaVuSans-30\" x=\"147.412109\"/>\n       <use xlink:href=\"#DejaVuSans-30\" x=\"211.035156\"/>\n      </g>\n     </g>\n    </g>\n    <g id=\"ytick_4\">\n     <g id=\"line2d_19\">\n      <path d=\"M 55.345313 174.657603 \nL 412.465312 174.657603 \n\" clip-path=\"url(#p46ae2bb03e)\" style=\"fill: none; stroke: #b0b0b0; stroke-width: 0.8; stroke-linecap: square\"/>\n     </g>\n     <g id=\"line2d_20\">\n      <g>\n       <use xlink:href=\"#mf3500d6e0e\" x=\"55.345313\" y=\"174.657603\" style=\"stroke: #000000; stroke-width: 0.8\"/>\n      </g>\n     </g>\n     <g id=\"text_11\">\n      <!-- −500 -->\n      <g transform=\"translate(20.878125 178.456822) scale(0.1 -0.1)\">\n       <defs>\n        <path id=\"DejaVuSans-35\" d=\"M 691 4666 \nL 3169 4666 \nL 3169 4134 \nL 1269 4134 \nL 1269 2991 \nQ 1406 3038 1543 3061 \nQ 1681 3084 1819 3084 \nQ 2600 3084 3056 2656 \nQ 3513 2228 3513 1497 \nQ 3513 744 3044 326 \nQ 2575 -91 1722 -91 \nQ 1428 -91 1123 -41 \nQ 819 9 494 109 \nL 494 744 \nQ 775 591 1075 516 \nQ 1375 441 1709 441 \nQ 2250 441 2565 725 \nQ 2881 1009 2881 1497 \nQ 2881 1984 2565 2268 \nQ 2250 2553 1709 2553 \nQ 1456 2553 1204 2497 \nQ 953 2441 691 2322 \nL 691 4666 \nz\n\" transform=\"scale(0.015625)\"/>\n       </defs>\n       <use xlink:href=\"#DejaVuSans-2212\"/>\n       <use xlink:href=\"#DejaVuSans-35\" x=\"83.789062\"/>\n       <use xlink:href=\"#DejaVuSans-30\" x=\"147.412109\"/>\n       <use xlink:href=\"#DejaVuSans-30\" x=\"211.035156\"/>\n      </g>\n     </g>\n    </g>\n    <g id=\"ytick_5\">\n     <g id=\"line2d_21\">\n      <path d=\"M 55.345313 139.596734 \nL 412.465312 139.596734 \n\" clip-path=\"url(#p46ae2bb03e)\" style=\"fill: none; stroke: #b0b0b0; stroke-width: 0.8; stroke-linecap: square\"/>\n     </g>\n     <g id=\"line2d_22\">\n      <g>\n       <use xlink:href=\"#mf3500d6e0e\" x=\"55.345313\" y=\"139.596734\" style=\"stroke: #000000; stroke-width: 0.8\"/>\n      </g>\n     </g>\n     <g id=\"text_12\">\n      <!-- −400 -->\n      <g transform=\"translate(20.878125 143.395952) scale(0.1 -0.1)\">\n       <use xlink:href=\"#DejaVuSans-2212\"/>\n       <use xlink:href=\"#DejaVuSans-34\" x=\"83.789062\"/>\n       <use xlink:href=\"#DejaVuSans-30\" x=\"147.412109\"/>\n       <use xlink:href=\"#DejaVuSans-30\" x=\"211.035156\"/>\n      </g>\n     </g>\n    </g>\n    <g id=\"ytick_6\">\n     <g id=\"line2d_23\">\n      <path d=\"M 55.345313 104.535864 \nL 412.465312 104.535864 \n\" clip-path=\"url(#p46ae2bb03e)\" style=\"fill: none; stroke: #b0b0b0; stroke-width: 0.8; stroke-linecap: square\"/>\n     </g>\n     <g id=\"line2d_24\">\n      <g>\n       <use xlink:href=\"#mf3500d6e0e\" x=\"55.345313\" y=\"104.535864\" style=\"stroke: #000000; stroke-width: 0.8\"/>\n      </g>\n     </g>\n     <g id=\"text_13\">\n      <!-- −300 -->\n      <g transform=\"translate(20.878125 108.335083) scale(0.1 -0.1)\">\n       <defs>\n        <path id=\"DejaVuSans-33\" d=\"M 2597 2516 \nQ 3050 2419 3304 2112 \nQ 3559 1806 3559 1356 \nQ 3559 666 3084 287 \nQ 2609 -91 1734 -91 \nQ 1441 -91 1130 -33 \nQ 819 25 488 141 \nL 488 750 \nQ 750 597 1062 519 \nQ 1375 441 1716 441 \nQ 2309 441 2620 675 \nQ 2931 909 2931 1356 \nQ 2931 1769 2642 2001 \nQ 2353 2234 1838 2234 \nL 1294 2234 \nL 1294 2753 \nL 1863 2753 \nQ 2328 2753 2575 2939 \nQ 2822 3125 2822 3475 \nQ 2822 3834 2567 4026 \nQ 2313 4219 1838 4219 \nQ 1578 4219 1281 4162 \nQ 984 4106 628 3988 \nL 628 4550 \nQ 988 4650 1302 4700 \nQ 1616 4750 1894 4750 \nQ 2613 4750 3031 4423 \nQ 3450 4097 3450 3541 \nQ 3450 3153 3228 2886 \nQ 3006 2619 2597 2516 \nz\n\" transform=\"scale(0.015625)\"/>\n       </defs>\n       <use xlink:href=\"#DejaVuSans-2212\"/>\n       <use xlink:href=\"#DejaVuSans-33\" x=\"83.789062\"/>\n       <use xlink:href=\"#DejaVuSans-30\" x=\"147.412109\"/>\n       <use xlink:href=\"#DejaVuSans-30\" x=\"211.035156\"/>\n      </g>\n     </g>\n    </g>\n    <g id=\"ytick_7\">\n     <g id=\"line2d_25\">\n      <path d=\"M 55.345313 69.474995 \nL 412.465312 69.474995 \n\" clip-path=\"url(#p46ae2bb03e)\" style=\"fill: none; stroke: #b0b0b0; stroke-width: 0.8; stroke-linecap: square\"/>\n     </g>\n     <g id=\"line2d_26\">\n      <g>\n       <use xlink:href=\"#mf3500d6e0e\" x=\"55.345313\" y=\"69.474995\" style=\"stroke: #000000; stroke-width: 0.8\"/>\n      </g>\n     </g>\n     <g id=\"text_14\">\n      <!-- −200 -->\n      <g transform=\"translate(20.878125 73.274213) scale(0.1 -0.1)\">\n       <use xlink:href=\"#DejaVuSans-2212\"/>\n       <use xlink:href=\"#DejaVuSans-32\" x=\"83.789062\"/>\n       <use xlink:href=\"#DejaVuSans-30\" x=\"147.412109\"/>\n       <use xlink:href=\"#DejaVuSans-30\" x=\"211.035156\"/>\n      </g>\n     </g>\n    </g>\n    <g id=\"ytick_8\">\n     <g id=\"line2d_27\">\n      <path d=\"M 55.345313 34.414125 \nL 412.465312 34.414125 \n\" clip-path=\"url(#p46ae2bb03e)\" style=\"fill: none; stroke: #b0b0b0; stroke-width: 0.8; stroke-linecap: square\"/>\n     </g>\n     <g id=\"line2d_28\">\n      <g>\n       <use xlink:href=\"#mf3500d6e0e\" x=\"55.345313\" y=\"34.414125\" style=\"stroke: #000000; stroke-width: 0.8\"/>\n      </g>\n     </g>\n     <g id=\"text_15\">\n      <!-- −100 -->\n      <g transform=\"translate(20.878125 38.213344) scale(0.1 -0.1)\">\n       <defs>\n        <path id=\"DejaVuSans-31\" d=\"M 794 531 \nL 1825 531 \nL 1825 4091 \nL 703 3866 \nL 703 4441 \nL 1819 4666 \nL 2450 4666 \nL 2450 531 \nL 3481 531 \nL 3481 0 \nL 794 0 \nL 794 531 \nz\n\" transform=\"scale(0.015625)\"/>\n       </defs>\n       <use xlink:href=\"#DejaVuSans-2212\"/>\n       <use xlink:href=\"#DejaVuSans-31\" x=\"83.789062\"/>\n       <use xlink:href=\"#DejaVuSans-30\" x=\"147.412109\"/>\n       <use xlink:href=\"#DejaVuSans-30\" x=\"211.035156\"/>\n      </g>\n     </g>\n    </g>\n    <g id=\"text_16\">\n     <!-- tension -->\n     <g transform=\"translate(14.798438 173.801469) rotate(-90) scale(0.1 -0.1)\">\n      <defs>\n       <path id=\"DejaVuSans-65\" d=\"M 3597 1894 \nL 3597 1613 \nL 953 1613 \nQ 991 1019 1311 708 \nQ 1631 397 2203 397 \nQ 2534 397 2845 478 \nQ 3156 559 3463 722 \nL 3463 178 \nQ 3153 47 2828 -22 \nQ 2503 -91 2169 -91 \nQ 1331 -91 842 396 \nQ 353 884 353 1716 \nQ 353 2575 817 3079 \nQ 1281 3584 2069 3584 \nQ 2775 3584 3186 3129 \nQ 3597 2675 3597 1894 \nz\nM 3022 2063 \nQ 3016 2534 2758 2815 \nQ 2500 3097 2075 3097 \nQ 1594 3097 1305 2825 \nQ 1016 2553 972 2059 \nL 3022 2063 \nz\n\" transform=\"scale(0.015625)\"/>\n       <path id=\"DejaVuSans-6e\" d=\"M 3513 2113 \nL 3513 0 \nL 2938 0 \nL 2938 2094 \nQ 2938 2591 2744 2837 \nQ 2550 3084 2163 3084 \nQ 1697 3084 1428 2787 \nQ 1159 2491 1159 1978 \nL 1159 0 \nL 581 0 \nL 581 3500 \nL 1159 3500 \nL 1159 2956 \nQ 1366 3272 1645 3428 \nQ 1925 3584 2291 3584 \nQ 2894 3584 3203 3211 \nQ 3513 2838 3513 2113 \nz\n\" transform=\"scale(0.015625)\"/>\n       <path id=\"DejaVuSans-6f\" d=\"M 1959 3097 \nQ 1497 3097 1228 2736 \nQ 959 2375 959 1747 \nQ 959 1119 1226 758 \nQ 1494 397 1959 397 \nQ 2419 397 2687 759 \nQ 2956 1122 2956 1747 \nQ 2956 2369 2687 2733 \nQ 2419 3097 1959 3097 \nz\nM 1959 3584 \nQ 2709 3584 3137 3096 \nQ 3566 2609 3566 1747 \nQ 3566 888 3137 398 \nQ 2709 -91 1959 -91 \nQ 1206 -91 779 398 \nQ 353 888 353 1747 \nQ 353 2609 779 3096 \nQ 1206 3584 1959 3584 \nz\n\" transform=\"scale(0.015625)\"/>\n      </defs>\n      <use xlink:href=\"#DejaVuSans-74\"/>\n      <use xlink:href=\"#DejaVuSans-65\" x=\"39.208984\"/>\n      <use xlink:href=\"#DejaVuSans-6e\" x=\"100.732422\"/>\n      <use xlink:href=\"#DejaVuSans-73\" x=\"164.111328\"/>\n      <use xlink:href=\"#DejaVuSans-69\" x=\"216.210938\"/>\n      <use xlink:href=\"#DejaVuSans-6f\" x=\"243.994141\"/>\n      <use xlink:href=\"#DejaVuSans-6e\" x=\"305.175781\"/>\n     </g>\n    </g>\n   </g>\n   <g id=\"patch_3\">\n    <path d=\"M 55.345313 288.430125 \nL 55.345313 22.318125 \n\" style=\"fill: none; stroke: #000000; stroke-width: 0.8; stroke-linejoin: miter; stroke-linecap: square\"/>\n   </g>\n   <g id=\"patch_4\">\n    <path d=\"M 412.465312 288.430125 \nL 412.465312 22.318125 \n\" style=\"fill: none; stroke: #000000; stroke-width: 0.8; stroke-linejoin: miter; stroke-linecap: square\"/>\n   </g>\n   <g id=\"patch_5\">\n    <path d=\"M 55.345313 288.430125 \nL 412.465313 288.430125 \n\" style=\"fill: none; stroke: #000000; stroke-width: 0.8; stroke-linejoin: miter; stroke-linecap: square\"/>\n   </g>\n   <g id=\"patch_6\">\n    <path d=\"M 55.345313 22.318125 \nL 412.465313 22.318125 \n\" style=\"fill: none; stroke: #000000; stroke-width: 0.8; stroke-linejoin: miter; stroke-linecap: square\"/>\n   </g>\n   <g id=\"text_17\">\n    <!-- Pareto-optimal front for algorithm NSGA-II -->\n    <g transform=\"translate(108.031875 16.318125) scale(0.12 -0.12)\">\n     <defs>\n      <path id=\"DejaVuSans-50\" d=\"M 1259 4147 \nL 1259 2394 \nL 2053 2394 \nQ 2494 2394 2734 2622 \nQ 2975 2850 2975 3272 \nQ 2975 3691 2734 3919 \nQ 2494 4147 2053 4147 \nL 1259 4147 \nz\nM 628 4666 \nL 2053 4666 \nQ 2838 4666 3239 4311 \nQ 3641 3956 3641 3272 \nQ 3641 2581 3239 2228 \nQ 2838 1875 2053 1875 \nL 1259 1875 \nL 1259 0 \nL 628 0 \nL 628 4666 \nz\n\" transform=\"scale(0.015625)\"/>\n      <path id=\"DejaVuSans-72\" d=\"M 2631 2963 \nQ 2534 3019 2420 3045 \nQ 2306 3072 2169 3072 \nQ 1681 3072 1420 2755 \nQ 1159 2438 1159 1844 \nL 1159 0 \nL 581 0 \nL 581 3500 \nL 1159 3500 \nL 1159 2956 \nQ 1341 3275 1631 3429 \nQ 1922 3584 2338 3584 \nQ 2397 3584 2469 3576 \nQ 2541 3569 2628 3553 \nL 2631 2963 \nz\n\" transform=\"scale(0.015625)\"/>\n      <path id=\"DejaVuSans-2d\" d=\"M 313 2009 \nL 1997 2009 \nL 1997 1497 \nL 313 1497 \nL 313 2009 \nz\n\" transform=\"scale(0.015625)\"/>\n      <path id=\"DejaVuSans-70\" d=\"M 1159 525 \nL 1159 -1331 \nL 581 -1331 \nL 581 3500 \nL 1159 3500 \nL 1159 2969 \nQ 1341 3281 1617 3432 \nQ 1894 3584 2278 3584 \nQ 2916 3584 3314 3078 \nQ 3713 2572 3713 1747 \nQ 3713 922 3314 415 \nQ 2916 -91 2278 -91 \nQ 1894 -91 1617 61 \nQ 1341 213 1159 525 \nz\nM 3116 1747 \nQ 3116 2381 2855 2742 \nQ 2594 3103 2138 3103 \nQ 1681 3103 1420 2742 \nQ 1159 2381 1159 1747 \nQ 1159 1113 1420 752 \nQ 1681 391 2138 391 \nQ 2594 391 2855 752 \nQ 3116 1113 3116 1747 \nz\n\" transform=\"scale(0.015625)\"/>\n      <path id=\"DejaVuSans-6d\" d=\"M 3328 2828 \nQ 3544 3216 3844 3400 \nQ 4144 3584 4550 3584 \nQ 5097 3584 5394 3201 \nQ 5691 2819 5691 2113 \nL 5691 0 \nL 5113 0 \nL 5113 2094 \nQ 5113 2597 4934 2840 \nQ 4756 3084 4391 3084 \nQ 3944 3084 3684 2787 \nQ 3425 2491 3425 1978 \nL 3425 0 \nL 2847 0 \nL 2847 2094 \nQ 2847 2600 2669 2842 \nQ 2491 3084 2119 3084 \nQ 1678 3084 1418 2786 \nQ 1159 2488 1159 1978 \nL 1159 0 \nL 581 0 \nL 581 3500 \nL 1159 3500 \nL 1159 2956 \nQ 1356 3278 1631 3431 \nQ 1906 3584 2284 3584 \nQ 2666 3584 2933 3390 \nQ 3200 3197 3328 2828 \nz\n\" transform=\"scale(0.015625)\"/>\n      <path id=\"DejaVuSans-20\" transform=\"scale(0.015625)\"/>\n      <path id=\"DejaVuSans-66\" d=\"M 2375 4863 \nL 2375 4384 \nL 1825 4384 \nQ 1516 4384 1395 4259 \nQ 1275 4134 1275 3809 \nL 1275 3500 \nL 2222 3500 \nL 2222 3053 \nL 1275 3053 \nL 1275 0 \nL 697 0 \nL 697 3053 \nL 147 3053 \nL 147 3500 \nL 697 3500 \nL 697 3744 \nQ 697 4328 969 4595 \nQ 1241 4863 1831 4863 \nL 2375 4863 \nz\n\" transform=\"scale(0.015625)\"/>\n      <path id=\"DejaVuSans-67\" d=\"M 2906 1791 \nQ 2906 2416 2648 2759 \nQ 2391 3103 1925 3103 \nQ 1463 3103 1205 2759 \nQ 947 2416 947 1791 \nQ 947 1169 1205 825 \nQ 1463 481 1925 481 \nQ 2391 481 2648 825 \nQ 2906 1169 2906 1791 \nz\nM 3481 434 \nQ 3481 -459 3084 -895 \nQ 2688 -1331 1869 -1331 \nQ 1566 -1331 1297 -1286 \nQ 1028 -1241 775 -1147 \nL 775 -588 \nQ 1028 -725 1275 -790 \nQ 1522 -856 1778 -856 \nQ 2344 -856 2625 -561 \nQ 2906 -266 2906 331 \nL 2906 616 \nQ 2728 306 2450 153 \nQ 2172 0 1784 0 \nQ 1141 0 747 490 \nQ 353 981 353 1791 \nQ 353 2603 747 3093 \nQ 1141 3584 1784 3584 \nQ 2172 3584 2450 3431 \nQ 2728 3278 2906 2969 \nL 2906 3500 \nL 3481 3500 \nL 3481 434 \nz\n\" transform=\"scale(0.015625)\"/>\n      <path id=\"DejaVuSans-68\" d=\"M 3513 2113 \nL 3513 0 \nL 2938 0 \nL 2938 2094 \nQ 2938 2591 2744 2837 \nQ 2550 3084 2163 3084 \nQ 1697 3084 1428 2787 \nQ 1159 2491 1159 1978 \nL 1159 0 \nL 581 0 \nL 581 4863 \nL 1159 4863 \nL 1159 2956 \nQ 1366 3272 1645 3428 \nQ 1925 3584 2291 3584 \nQ 2894 3584 3203 3211 \nQ 3513 2838 3513 2113 \nz\n\" transform=\"scale(0.015625)\"/>\n      <path id=\"DejaVuSans-4e\" d=\"M 628 4666 \nL 1478 4666 \nL 3547 763 \nL 3547 4666 \nL 4159 4666 \nL 4159 0 \nL 3309 0 \nL 1241 3903 \nL 1241 0 \nL 628 0 \nL 628 4666 \nz\n\" transform=\"scale(0.015625)\"/>\n      <path id=\"DejaVuSans-53\" d=\"M 3425 4513 \nL 3425 3897 \nQ 3066 4069 2747 4153 \nQ 2428 4238 2131 4238 \nQ 1616 4238 1336 4038 \nQ 1056 3838 1056 3469 \nQ 1056 3159 1242 3001 \nQ 1428 2844 1947 2747 \nL 2328 2669 \nQ 3034 2534 3370 2195 \nQ 3706 1856 3706 1288 \nQ 3706 609 3251 259 \nQ 2797 -91 1919 -91 \nQ 1588 -91 1214 -16 \nQ 841 59 441 206 \nL 441 856 \nQ 825 641 1194 531 \nQ 1563 422 1919 422 \nQ 2459 422 2753 634 \nQ 3047 847 3047 1241 \nQ 3047 1584 2836 1778 \nQ 2625 1972 2144 2069 \nL 1759 2144 \nQ 1053 2284 737 2584 \nQ 422 2884 422 3419 \nQ 422 4038 858 4394 \nQ 1294 4750 2059 4750 \nQ 2388 4750 2728 4690 \nQ 3069 4631 3425 4513 \nz\n\" transform=\"scale(0.015625)\"/>\n      <path id=\"DejaVuSans-47\" d=\"M 3809 666 \nL 3809 1919 \nL 2778 1919 \nL 2778 2438 \nL 4434 2438 \nL 4434 434 \nQ 4069 175 3628 42 \nQ 3188 -91 2688 -91 \nQ 1594 -91 976 548 \nQ 359 1188 359 2328 \nQ 359 3472 976 4111 \nQ 1594 4750 2688 4750 \nQ 3144 4750 3555 4637 \nQ 3966 4525 4313 4306 \nL 4313 3634 \nQ 3963 3931 3569 4081 \nQ 3175 4231 2741 4231 \nQ 1884 4231 1454 3753 \nQ 1025 3275 1025 2328 \nQ 1025 1384 1454 906 \nQ 1884 428 2741 428 \nQ 3075 428 3337 486 \nQ 3600 544 3809 666 \nz\n\" transform=\"scale(0.015625)\"/>\n      <path id=\"DejaVuSans-41\" d=\"M 2188 4044 \nL 1331 1722 \nL 3047 1722 \nL 2188 4044 \nz\nM 1831 4666 \nL 2547 4666 \nL 4325 0 \nL 3669 0 \nL 3244 1197 \nL 1141 1197 \nL 716 0 \nL 50 0 \nL 1831 4666 \nz\n\" transform=\"scale(0.015625)\"/>\n      <path id=\"DejaVuSans-49\" d=\"M 628 4666 \nL 1259 4666 \nL 1259 0 \nL 628 0 \nL 628 4666 \nz\n\" transform=\"scale(0.015625)\"/>\n     </defs>\n     <use xlink:href=\"#DejaVuSans-50\"/>\n     <use xlink:href=\"#DejaVuSans-61\" x=\"55.802734\"/>\n     <use xlink:href=\"#DejaVuSans-72\" x=\"117.082031\"/>\n     <use xlink:href=\"#DejaVuSans-65\" x=\"155.945312\"/>\n     <use xlink:href=\"#DejaVuSans-74\" x=\"217.46875\"/>\n     <use xlink:href=\"#DejaVuSans-6f\" x=\"256.677734\"/>\n     <use xlink:href=\"#DejaVuSans-2d\" x=\"319.734375\"/>\n     <use xlink:href=\"#DejaVuSans-6f\" x=\"357.693359\"/>\n     <use xlink:href=\"#DejaVuSans-70\" x=\"418.875\"/>\n     <use xlink:href=\"#DejaVuSans-74\" x=\"482.351562\"/>\n     <use xlink:href=\"#DejaVuSans-69\" x=\"521.560547\"/>\n     <use xlink:href=\"#DejaVuSans-6d\" x=\"549.34375\"/>\n     <use xlink:href=\"#DejaVuSans-61\" x=\"646.755859\"/>\n     <use xlink:href=\"#DejaVuSans-6c\" x=\"708.035156\"/>\n     <use xlink:href=\"#DejaVuSans-20\" x=\"735.818359\"/>\n     <use xlink:href=\"#DejaVuSans-66\" x=\"767.605469\"/>\n     <use xlink:href=\"#DejaVuSans-72\" x=\"802.810547\"/>\n     <use xlink:href=\"#DejaVuSans-6f\" x=\"841.673828\"/>\n     <use xlink:href=\"#DejaVuSans-6e\" x=\"902.855469\"/>\n     <use xlink:href=\"#DejaVuSans-74\" x=\"966.234375\"/>\n     <use xlink:href=\"#DejaVuSans-20\" x=\"1005.443359\"/>\n     <use xlink:href=\"#DejaVuSans-66\" x=\"1037.230469\"/>\n     <use xlink:href=\"#DejaVuSans-6f\" x=\"1072.435547\"/>\n     <use xlink:href=\"#DejaVuSans-72\" x=\"1133.617188\"/>\n     <use xlink:href=\"#DejaVuSans-20\" x=\"1174.730469\"/>\n     <use xlink:href=\"#DejaVuSans-61\" x=\"1206.517578\"/>\n     <use xlink:href=\"#DejaVuSans-6c\" x=\"1267.796875\"/>\n     <use xlink:href=\"#DejaVuSans-67\" x=\"1295.580078\"/>\n     <use xlink:href=\"#DejaVuSans-6f\" x=\"1359.056641\"/>\n     <use xlink:href=\"#DejaVuSans-72\" x=\"1420.238281\"/>\n     <use xlink:href=\"#DejaVuSans-69\" x=\"1461.351562\"/>\n     <use xlink:href=\"#DejaVuSans-74\" x=\"1489.134766\"/>\n     <use xlink:href=\"#DejaVuSans-68\" x=\"1528.34375\"/>\n     <use xlink:href=\"#DejaVuSans-6d\" x=\"1591.722656\"/>\n     <use xlink:href=\"#DejaVuSans-20\" x=\"1689.134766\"/>\n     <use xlink:href=\"#DejaVuSans-4e\" x=\"1720.921875\"/>\n     <use xlink:href=\"#DejaVuSans-53\" x=\"1795.726562\"/>\n     <use xlink:href=\"#DejaVuSans-47\" x=\"1859.203125\"/>\n     <use xlink:href=\"#DejaVuSans-41\" x=\"1936.693359\"/>\n     <use xlink:href=\"#DejaVuSans-2d\" x=\"2002.851562\"/>\n     <use xlink:href=\"#DejaVuSans-49\" x=\"2038.935547\"/>\n     <use xlink:href=\"#DejaVuSans-49\" x=\"2068.427734\"/>\n    </g>\n   </g>\n   <g id=\"legend_1\">\n    <g id=\"patch_7\">\n     <path d=\"M 62.345313 283.430125 \nL 127.66875 283.430125 \nQ 129.66875 283.430125 129.66875 281.430125 \nL 129.66875 194.361375 \nQ 129.66875 192.361375 127.66875 192.361375 \nL 62.345313 192.361375 \nQ 60.345313 192.361375 60.345313 194.361375 \nL 60.345313 281.430125 \nQ 60.345313 283.430125 62.345313 283.430125 \nz\n\" style=\"fill: #ffffff; opacity: 0.8; stroke: #cccccc; stroke-linejoin: miter\"/>\n    </g>\n    <g id=\"PathCollection_7\">\n     <g>\n      <use xlink:href=\"#m8e7881bcbc\" x=\"74.345313\" y=\"201.334812\" style=\"fill: #1f77b4; stroke: #1f77b4\"/>\n     </g>\n    </g>\n    <g id=\"text_18\">\n     <!-- front 1 -->\n     <g transform=\"translate(92.345313 203.959812) scale(0.1 -0.1)\">\n      <use xlink:href=\"#DejaVuSans-66\"/>\n      <use xlink:href=\"#DejaVuSans-72\" x=\"35.205078\"/>\n      <use xlink:href=\"#DejaVuSans-6f\" x=\"74.068359\"/>\n      <use xlink:href=\"#DejaVuSans-6e\" x=\"135.25\"/>\n      <use xlink:href=\"#DejaVuSans-74\" x=\"198.628906\"/>\n      <use xlink:href=\"#DejaVuSans-20\" x=\"237.837891\"/>\n      <use xlink:href=\"#DejaVuSans-31\" x=\"269.625\"/>\n     </g>\n    </g>\n    <g id=\"PathCollection_8\">\n     <g>\n      <use xlink:href=\"#m9de2d14975\" x=\"74.345313\" y=\"216.012937\" style=\"fill: #ff7f0e; stroke: #ff7f0e\"/>\n     </g>\n    </g>\n    <g id=\"text_19\">\n     <!-- front 2 -->\n     <g transform=\"translate(92.345313 218.637937) scale(0.1 -0.1)\">\n      <use xlink:href=\"#DejaVuSans-66\"/>\n      <use xlink:href=\"#DejaVuSans-72\" x=\"35.205078\"/>\n      <use xlink:href=\"#DejaVuSans-6f\" x=\"74.068359\"/>\n      <use xlink:href=\"#DejaVuSans-6e\" x=\"135.25\"/>\n      <use xlink:href=\"#DejaVuSans-74\" x=\"198.628906\"/>\n      <use xlink:href=\"#DejaVuSans-20\" x=\"237.837891\"/>\n      <use xlink:href=\"#DejaVuSans-32\" x=\"269.625\"/>\n     </g>\n    </g>\n    <g id=\"PathCollection_9\">\n     <g>\n      <use xlink:href=\"#mdc8992f2b6\" x=\"74.345313\" y=\"230.691062\" style=\"fill: #2ca02c; stroke: #2ca02c\"/>\n     </g>\n    </g>\n    <g id=\"text_20\">\n     <!-- front 3 -->\n     <g transform=\"translate(92.345313 233.316062) scale(0.1 -0.1)\">\n      <use xlink:href=\"#DejaVuSans-66\"/>\n      <use xlink:href=\"#DejaVuSans-72\" x=\"35.205078\"/>\n      <use xlink:href=\"#DejaVuSans-6f\" x=\"74.068359\"/>\n      <use xlink:href=\"#DejaVuSans-6e\" x=\"135.25\"/>\n      <use xlink:href=\"#DejaVuSans-74\" x=\"198.628906\"/>\n      <use xlink:href=\"#DejaVuSans-20\" x=\"237.837891\"/>\n      <use xlink:href=\"#DejaVuSans-33\" x=\"269.625\"/>\n     </g>\n    </g>\n    <g id=\"PathCollection_10\">\n     <g>\n      <use xlink:href=\"#m308bf8de4e\" x=\"74.345313\" y=\"245.369187\" style=\"fill: #d62728; stroke: #d62728\"/>\n     </g>\n    </g>\n    <g id=\"text_21\">\n     <!-- front 4 -->\n     <g transform=\"translate(92.345313 247.994187) scale(0.1 -0.1)\">\n      <use xlink:href=\"#DejaVuSans-66\"/>\n      <use xlink:href=\"#DejaVuSans-72\" x=\"35.205078\"/>\n      <use xlink:href=\"#DejaVuSans-6f\" x=\"74.068359\"/>\n      <use xlink:href=\"#DejaVuSans-6e\" x=\"135.25\"/>\n      <use xlink:href=\"#DejaVuSans-74\" x=\"198.628906\"/>\n      <use xlink:href=\"#DejaVuSans-20\" x=\"237.837891\"/>\n      <use xlink:href=\"#DejaVuSans-34\" x=\"269.625\"/>\n     </g>\n    </g>\n    <g id=\"PathCollection_11\">\n     <g>\n      <use xlink:href=\"#mb4d9b1871e\" x=\"74.345313\" y=\"260.047312\" style=\"fill: #9467bd; stroke: #9467bd\"/>\n     </g>\n    </g>\n    <g id=\"text_22\">\n     <!-- front 5 -->\n     <g transform=\"translate(92.345313 262.672312) scale(0.1 -0.1)\">\n      <use xlink:href=\"#DejaVuSans-66\"/>\n      <use xlink:href=\"#DejaVuSans-72\" x=\"35.205078\"/>\n      <use xlink:href=\"#DejaVuSans-6f\" x=\"74.068359\"/>\n      <use xlink:href=\"#DejaVuSans-6e\" x=\"135.25\"/>\n      <use xlink:href=\"#DejaVuSans-74\" x=\"198.628906\"/>\n      <use xlink:href=\"#DejaVuSans-20\" x=\"237.837891\"/>\n      <use xlink:href=\"#DejaVuSans-35\" x=\"269.625\"/>\n     </g>\n    </g>\n    <g id=\"PathCollection_12\">\n     <g>\n      <use xlink:href=\"#ma4fb0cd56a\" x=\"74.345313\" y=\"274.725437\" style=\"fill: #8c564b; stroke: #8c564b\"/>\n     </g>\n    </g>\n    <g id=\"text_23\">\n     <!-- front 6 -->\n     <g transform=\"translate(92.345313 277.350437) scale(0.1 -0.1)\">\n      <use xlink:href=\"#DejaVuSans-66\"/>\n      <use xlink:href=\"#DejaVuSans-72\" x=\"35.205078\"/>\n      <use xlink:href=\"#DejaVuSans-6f\" x=\"74.068359\"/>\n      <use xlink:href=\"#DejaVuSans-6e\" x=\"135.25\"/>\n      <use xlink:href=\"#DejaVuSans-74\" x=\"198.628906\"/>\n      <use xlink:href=\"#DejaVuSans-20\" x=\"237.837891\"/>\n      <use xlink:href=\"#DejaVuSans-36\" x=\"269.625\"/>\n     </g>\n    </g>\n   </g>\n  </g>\n </g>\n <defs>\n  <clipPath id=\"p46ae2bb03e\">\n   <rect x=\"55.345313\" y=\"22.318125\" width=\"357.12\" height=\"266.112\"/>\n  </clipPath>\n </defs>\n</svg>\n",
      "text/plain": [
       "<Figure size 640x480 with 1 Axes>"
      ]
     },
     "metadata": {},
     "output_type": "display_data"
    }
   ],
   "source": [
    "fig, ax = plt.subplots()\n",
    "ax.set_title(\"Pareto-optimal front for algorithm NSGA-II\")\n",
    "ax.set_xlabel(\"stability\")\n",
    "ax.set_ylabel(\"tension\")\n",
    "ax.grid()\n",
    "\n",
    "for i, (x,y) in enumerate(zip(X, Y)):\n",
    "    \n",
    "    ax.scatter(x, y, label = f\"front {i+1}\")\n",
    "\n",
    "plt.legend()\n",
    "plt.show()\n"
   ]
  },
  {
   "cell_type": "code",
   "execution_count": 10,
   "metadata": {},
   "outputs": [],
   "source": [
    "stability = generation[generation[\"front\"] == \"front_1\"].sort_values(by='stability')"
   ]
  },
  {
   "cell_type": "code",
   "execution_count": 12,
   "metadata": {},
   "outputs": [
    {
     "data": {
      "text/html": [
       "<div>\n",
       "<style scoped>\n",
       "    .dataframe tbody tr th:only-of-type {\n",
       "        vertical-align: middle;\n",
       "    }\n",
       "\n",
       "    .dataframe tbody tr th {\n",
       "        vertical-align: top;\n",
       "    }\n",
       "\n",
       "    .dataframe thead th {\n",
       "        text-align: right;\n",
       "    }\n",
       "</style>\n",
       "<table border=\"1\" class=\"dataframe\">\n",
       "  <thead>\n",
       "    <tr style=\"text-align: right;\">\n",
       "      <th></th>\n",
       "      <th>algorithm</th>\n",
       "      <th>generation</th>\n",
       "      <th>front</th>\n",
       "      <th>genome</th>\n",
       "      <th>stability</th>\n",
       "      <th>tension</th>\n",
       "    </tr>\n",
       "  </thead>\n",
       "  <tbody>\n",
       "    <tr>\n",
       "      <th>439792</th>\n",
       "      <td>NSGA-II</td>\n",
       "      <td>generation_500</td>\n",
       "      <td>front_1</td>\n",
       "      <td>69/0.0625 69/0.125 74/0.25 71/0.125 72/0.1875 ...</td>\n",
       "      <td>-720.0</td>\n",
       "      <td>-100.0</td>\n",
       "    </tr>\n",
       "    <tr>\n",
       "      <th>439794</th>\n",
       "      <td>NSGA-II</td>\n",
       "      <td>generation_500</td>\n",
       "      <td>front_1</td>\n",
       "      <td>73/0.0625 71/0.1875 72/0.1875 59/0.375 62/0.06...</td>\n",
       "      <td>-185.0</td>\n",
       "      <td>-120.0</td>\n",
       "    </tr>\n",
       "    <tr>\n",
       "      <th>439797</th>\n",
       "      <td>NSGA-II</td>\n",
       "      <td>generation_500</td>\n",
       "      <td>front_1</td>\n",
       "      <td>57/0.0625 67/0.6875 67/0.125 R/0.0625 64/0.062...</td>\n",
       "      <td>-125.0</td>\n",
       "      <td>-135.0</td>\n",
       "    </tr>\n",
       "    <tr>\n",
       "      <th>439793</th>\n",
       "      <td>NSGA-II</td>\n",
       "      <td>generation_500</td>\n",
       "      <td>front_1</td>\n",
       "      <td>64/0.875 64/0.0625 64/0.0625 74/0.0625 74/0.18...</td>\n",
       "      <td>25.0</td>\n",
       "      <td>-180.0</td>\n",
       "    </tr>\n",
       "    <tr>\n",
       "      <th>439799</th>\n",
       "      <td>NSGA-II</td>\n",
       "      <td>generation_500</td>\n",
       "      <td>front_1</td>\n",
       "      <td>71/0.0625 71/0.375 81/0.0625 79/0.0625 74/0.18...</td>\n",
       "      <td>45.0</td>\n",
       "      <td>-215.0</td>\n",
       "    </tr>\n",
       "    <tr>\n",
       "      <th>439798</th>\n",
       "      <td>NSGA-II</td>\n",
       "      <td>generation_500</td>\n",
       "      <td>front_1</td>\n",
       "      <td>71/0.0625 71/0.375 81/0.0625 79/0.25 67/0.0625...</td>\n",
       "      <td>60.0</td>\n",
       "      <td>-220.0</td>\n",
       "    </tr>\n",
       "    <tr>\n",
       "      <th>439795</th>\n",
       "      <td>NSGA-II</td>\n",
       "      <td>generation_500</td>\n",
       "      <td>front_1</td>\n",
       "      <td>72/0.1875 70/0.3125 79/0.125 79/0.125 74/0.125...</td>\n",
       "      <td>90.0</td>\n",
       "      <td>-245.0</td>\n",
       "    </tr>\n",
       "    <tr>\n",
       "      <th>439796</th>\n",
       "      <td>NSGA-II</td>\n",
       "      <td>generation_500</td>\n",
       "      <td>front_1</td>\n",
       "      <td>78/0.0625 71/0.3125 79/0.4375 74/0.0625 64/0.0...</td>\n",
       "      <td>90.0</td>\n",
       "      <td>-245.0</td>\n",
       "    </tr>\n",
       "    <tr>\n",
       "      <th>439791</th>\n",
       "      <td>NSGA-II</td>\n",
       "      <td>generation_500</td>\n",
       "      <td>front_1</td>\n",
       "      <td>84/0.5 79/0.125 76/0.125 76/0.0625 67/0.0625 7...</td>\n",
       "      <td>275.0</td>\n",
       "      <td>-270.0</td>\n",
       "    </tr>\n",
       "    <tr>\n",
       "      <th>439790</th>\n",
       "      <td>NSGA-II</td>\n",
       "      <td>generation_500</td>\n",
       "      <td>front_1</td>\n",
       "      <td>71/0.0625 71/0.0625 79/0.0625 67/0.125 67/0.06...</td>\n",
       "      <td>325.0</td>\n",
       "      <td>-380.0</td>\n",
       "    </tr>\n",
       "    <tr>\n",
       "      <th>439789</th>\n",
       "      <td>NSGA-II</td>\n",
       "      <td>generation_500</td>\n",
       "      <td>front_1</td>\n",
       "      <td>72/0.125 72/0.125 79/0.25 72/0.125 79/0.125 72...</td>\n",
       "      <td>365.0</td>\n",
       "      <td>-490.0</td>\n",
       "    </tr>\n",
       "    <tr>\n",
       "      <th>439788</th>\n",
       "      <td>NSGA-II</td>\n",
       "      <td>generation_500</td>\n",
       "      <td>front_1</td>\n",
       "      <td>72/0.3125 79/0.125 71/0.0625 79/0.125 79/0.062...</td>\n",
       "      <td>395.0</td>\n",
       "      <td>-495.0</td>\n",
       "    </tr>\n",
       "  </tbody>\n",
       "</table>\n",
       "</div>"
      ],
      "text/plain": [
       "       algorithm      generation    front  \\\n",
       "439792   NSGA-II  generation_500  front_1   \n",
       "439794   NSGA-II  generation_500  front_1   \n",
       "439797   NSGA-II  generation_500  front_1   \n",
       "439793   NSGA-II  generation_500  front_1   \n",
       "439799   NSGA-II  generation_500  front_1   \n",
       "439798   NSGA-II  generation_500  front_1   \n",
       "439795   NSGA-II  generation_500  front_1   \n",
       "439796   NSGA-II  generation_500  front_1   \n",
       "439791   NSGA-II  generation_500  front_1   \n",
       "439790   NSGA-II  generation_500  front_1   \n",
       "439789   NSGA-II  generation_500  front_1   \n",
       "439788   NSGA-II  generation_500  front_1   \n",
       "\n",
       "                                                   genome  stability  tension  \n",
       "439792  69/0.0625 69/0.125 74/0.25 71/0.125 72/0.1875 ...     -720.0   -100.0  \n",
       "439794  73/0.0625 71/0.1875 72/0.1875 59/0.375 62/0.06...     -185.0   -120.0  \n",
       "439797  57/0.0625 67/0.6875 67/0.125 R/0.0625 64/0.062...     -125.0   -135.0  \n",
       "439793  64/0.875 64/0.0625 64/0.0625 74/0.0625 74/0.18...       25.0   -180.0  \n",
       "439799  71/0.0625 71/0.375 81/0.0625 79/0.0625 74/0.18...       45.0   -215.0  \n",
       "439798  71/0.0625 71/0.375 81/0.0625 79/0.25 67/0.0625...       60.0   -220.0  \n",
       "439795  72/0.1875 70/0.3125 79/0.125 79/0.125 74/0.125...       90.0   -245.0  \n",
       "439796  78/0.0625 71/0.3125 79/0.4375 74/0.0625 64/0.0...       90.0   -245.0  \n",
       "439791  84/0.5 79/0.125 76/0.125 76/0.0625 67/0.0625 7...      275.0   -270.0  \n",
       "439790  71/0.0625 71/0.0625 79/0.0625 67/0.125 67/0.06...      325.0   -380.0  \n",
       "439789  72/0.125 72/0.125 79/0.25 72/0.125 79/0.125 72...      365.0   -490.0  \n",
       "439788  72/0.3125 79/0.125 71/0.0625 79/0.125 79/0.062...      395.0   -495.0  "
      ]
     },
     "execution_count": 12,
     "metadata": {},
     "output_type": "execute_result"
    }
   ],
   "source": [
    "stability"
   ]
  },
  {
   "cell_type": "code",
   "execution_count": 13,
   "metadata": {},
   "outputs": [
    {
     "data": {
      "text/plain": [
       "'72/0.3125 79/0.125 71/0.0625 79/0.125 79/0.0625 55/0.1875 69/0.0625 81/0.0625 79/0.0625 62/0.0625 74/0.0625 62/0.3125 50/0.125 74/0.125 79/0.0625 83/0.0625 83/0.0625 83/0.0625 76/0.125 72/0.0625 57/0.0625 67/0.375 76/0.0625 72/0.1875 72/0.0625 72/0.0625 77/0.3125 65/0.3125 63/0.125 52/0.0625 57/0.0625 57/0.0625 69/0.0625 '"
      ]
     },
     "execution_count": 13,
     "metadata": {},
     "output_type": "execute_result"
    }
   ],
   "source": [
    "stability.loc[439788]['genome']"
   ]
  },
  {
   "cell_type": "code",
   "execution_count": null,
   "metadata": {},
   "outputs": [],
   "source": []
  }
 ],
 "metadata": {
  "kernelspec": {
   "display_name": "Python 3",
   "language": "python",
   "name": "python3"
  },
  "language_info": {
   "codemirror_mode": {
    "name": "ipython",
    "version": 3
   },
   "file_extension": ".py",
   "mimetype": "text/x-python",
   "name": "python",
   "nbconvert_exporter": "python",
   "pygments_lexer": "ipython3",
   "version": "3.8.8"
  },
  "orig_nbformat": 4
 },
 "nbformat": 4,
 "nbformat_minor": 2
}
