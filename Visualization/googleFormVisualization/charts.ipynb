{
 "cells": [
  {
   "cell_type": "code",
   "execution_count": 106,
   "metadata": {},
   "outputs": [],
   "source": [
    "import pandas as pd\n",
    "import plotly.graph_objects as go\n",
    "import plotly.express as px\n",
    "\n",
    "import os\n",
    "\n",
    "if not os.path.exists(\"images\"):\n",
    "    os.mkdir(\"images\")\n",
    "\n",
    "\n",
    "df = pd.read_csv('Badanie jakości melodii wygenerowanych przy pomocy metod Sztucznej Inteligencji 4.csv')"
   ]
  },
  {
   "cell_type": "code",
   "execution_count": 107,
   "metadata": {},
   "outputs": [
    {
     "name": "stdout",
     "output_type": "stream",
     "text": [
      "Index(['Sygnatura czasowa',\n",
      "       'Która kategoria najlepiej Panią/Pana charakteryzuje?',\n",
      "       'Melodia 1.1 jest', 'Melodia 1.2 jest', 'Melodia 1.3 jest',\n",
      "       'Melodia 1.4 jest', 'Melodia 1.5 jest',\n",
      "       'Uszeregowanie melodii 4.1 - 4.3.\\nProszę dla każdej melodii wybrać jedną cechę, która najlepiej ją charakteryzuje. \\n(W każdej kolumnie może być zaznaczona tylko jedna odpowiedź). [Melodia 4.1]',\n",
      "       'Uszeregowanie melodii 4.1 - 4.3.\\nProszę dla każdej melodii wybrać jedną cechę, która najlepiej ją charakteryzuje. \\n(W każdej kolumnie może być zaznaczona tylko jedna odpowiedź). [Melodia 4.2]',\n",
      "       'Uszeregowanie melodii 4.1 - 4.3.\\nProszę dla każdej melodii wybrać jedną cechę, która najlepiej ją charakteryzuje. \\n(W każdej kolumnie może być zaznaczona tylko jedna odpowiedź). [Melodia 4.3]',\n",
      "       'Uszeregowanie melodii 4.4 - 4.6.\\nProszę dla każdej melodii wybrać jedną cechę, która najlepiej ją charakteryzuje. \\n(W każdej kolumnie może być zaznaczona tylko jedna odpowiedź).\\n [Melodia 4.4]',\n",
      "       'Uszeregowanie melodii 4.4 - 4.6.\\nProszę dla każdej melodii wybrać jedną cechę, która najlepiej ją charakteryzuje. \\n(W każdej kolumnie może być zaznaczona tylko jedna odpowiedź).\\n [Melodia 4.5]',\n",
      "       'Uszeregowanie melodii 4.4 - 4.6.\\nProszę dla każdej melodii wybrać jedną cechę, która najlepiej ją charakteryzuje. \\n(W każdej kolumnie może być zaznaczona tylko jedna odpowiedź).\\n [Melodia 4.6]',\n",
      "       'Uszeregowanie melodii 4.7 - 4.9.\\nProszę dla każdej melodii wybrać jedną cechę, która najlepiej ją charakteryzuje. \\n(W każdej kolumnie może być zaznaczona tylko jedna odpowiedź).\\n\\n [Melodia 4.7]',\n",
      "       'Uszeregowanie melodii 4.7 - 4.9.\\nProszę dla każdej melodii wybrać jedną cechę, która najlepiej ją charakteryzuje. \\n(W każdej kolumnie może być zaznaczona tylko jedna odpowiedź).\\n\\n [Melodia 4.8]',\n",
      "       'Uszeregowanie melodii 4.7 - 4.9.\\nProszę dla każdej melodii wybrać jedną cechę, która najlepiej ją charakteryzuje. \\n(W każdej kolumnie może być zaznaczona tylko jedna odpowiedź).\\n\\n [Melodia 4.9]',\n",
      "       'Cechą dominującą melodii 5.1 jest',\n",
      "       'Cechą dominującą melodii 5.2 jest',\n",
      "       'Cechą dominującą melodii 5.3 jest',\n",
      "       'Cechą dominującą melodii 5.4 jest',\n",
      "       'Cechą dominującą melodii 5.5 jest',\n",
      "       'Cechą dominującą melodii 5.6 jest',\n",
      "       'Cechą dominującą melodii 5.7 jest',\n",
      "       'Cechą dominującą melodii 5.8 jest',\n",
      "       'Cechą dominującą melodii 5.9 jest',\n",
      "       'Cechą dominującą melodii 5.10 jest', 'Miejsce na Państwa uwagi'],\n",
      "      dtype='object')\n"
     ]
    }
   ],
   "source": [
    "print(df.columns)"
   ]
  },
  {
   "cell_type": "code",
   "execution_count": 108,
   "metadata": {},
   "outputs": [],
   "source": [
    "df_musician = df.loc[df['Która kategoria najlepiej Panią/Pana charakteryzuje?'] == \"Muzyk\"]\n",
    "df_nonMusician = df.loc[df['Która kategoria najlepiej Panią/Pana charakteryzuje?'] == \"Nie-muzyk\"]\n",
    "df_amateur = df.loc[df['Która kategoria najlepiej Panią/Pana charakteryzuje?'] == \"Amator / Meloman\"]"
   ]
  },
  {
   "cell_type": "code",
   "execution_count": 109,
   "metadata": {},
   "outputs": [
    {
     "data": {
      "text/html": [
       "<div>\n",
       "<style scoped>\n",
       "    .dataframe tbody tr th:only-of-type {\n",
       "        vertical-align: middle;\n",
       "    }\n",
       "\n",
       "    .dataframe tbody tr th {\n",
       "        vertical-align: top;\n",
       "    }\n",
       "\n",
       "    .dataframe thead th {\n",
       "        text-align: right;\n",
       "    }\n",
       "</style>\n",
       "<table border=\"1\" class=\"dataframe\">\n",
       "  <thead>\n",
       "    <tr style=\"text-align: right;\">\n",
       "      <th></th>\n",
       "      <th>Sygnatura czasowa</th>\n",
       "      <th>Która kategoria najlepiej Panią/Pana charakteryzuje?</th>\n",
       "      <th>Melodia 1.1 jest</th>\n",
       "      <th>Melodia 1.2 jest</th>\n",
       "      <th>Melodia 1.3 jest</th>\n",
       "      <th>Melodia 1.4 jest</th>\n",
       "      <th>Melodia 1.5 jest</th>\n",
       "      <th>Uszeregowanie melodii 4.1 - 4.3.\\nProszę dla każdej melodii wybrać jedną cechę, która najlepiej ją charakteryzuje. \\n(W każdej kolumnie może być zaznaczona tylko jedna odpowiedź). [Melodia 4.1]</th>\n",
       "      <th>Uszeregowanie melodii 4.1 - 4.3.\\nProszę dla każdej melodii wybrać jedną cechę, która najlepiej ją charakteryzuje. \\n(W każdej kolumnie może być zaznaczona tylko jedna odpowiedź). [Melodia 4.2]</th>\n",
       "      <th>Uszeregowanie melodii 4.1 - 4.3.\\nProszę dla każdej melodii wybrać jedną cechę, która najlepiej ją charakteryzuje. \\n(W każdej kolumnie może być zaznaczona tylko jedna odpowiedź). [Melodia 4.3]</th>\n",
       "      <th>...</th>\n",
       "      <th>Cechą dominującą melodii 5.2 jest</th>\n",
       "      <th>Cechą dominującą melodii 5.3 jest</th>\n",
       "      <th>Cechą dominującą melodii 5.4 jest</th>\n",
       "      <th>Cechą dominującą melodii 5.5 jest</th>\n",
       "      <th>Cechą dominującą melodii 5.6 jest</th>\n",
       "      <th>Cechą dominującą melodii 5.7 jest</th>\n",
       "      <th>Cechą dominującą melodii 5.8 jest</th>\n",
       "      <th>Cechą dominującą melodii 5.9 jest</th>\n",
       "      <th>Cechą dominującą melodii 5.10 jest</th>\n",
       "      <th>Miejsce na Państwa uwagi</th>\n",
       "    </tr>\n",
       "  </thead>\n",
       "  <tbody>\n",
       "    <tr>\n",
       "      <th>5</th>\n",
       "      <td>2023/06/29 12:10:25 PM EEST</td>\n",
       "      <td>Muzyk</td>\n",
       "      <td>przyjemna dla ucha.</td>\n",
       "      <td>nieprzyjemna dla ucha; wywołuje niepokój, iryt...</td>\n",
       "      <td>nieprzyjemna dla ucha; wywołuje niepokój, iryt...</td>\n",
       "      <td>nieprzyjemna dla ucha; wywołuje niepokój, iryt...</td>\n",
       "      <td>przyjemna dla ucha.</td>\n",
       "      <td>Stabilność</td>\n",
       "      <td>Równowaga napięcia i stabilności</td>\n",
       "      <td>Napięcie</td>\n",
       "      <td>...</td>\n",
       "      <td>napięcie.</td>\n",
       "      <td>stabilność.</td>\n",
       "      <td>napięcie.</td>\n",
       "      <td>równowaga napięcia i stabilności.</td>\n",
       "      <td>napięcie.</td>\n",
       "      <td>stabilność.</td>\n",
       "      <td>stabilność.</td>\n",
       "      <td>napięcie.</td>\n",
       "      <td>stabilność.</td>\n",
       "      <td>Niektóre przykłady były dość niejednoznaczne. ...</td>\n",
       "    </tr>\n",
       "    <tr>\n",
       "      <th>11</th>\n",
       "      <td>2023/06/29 12:40:53 PM EEST</td>\n",
       "      <td>Muzyk</td>\n",
       "      <td>przyjemna dla ucha.</td>\n",
       "      <td>nieprzyjemna dla ucha; wywołuje niepokój, iryt...</td>\n",
       "      <td>przyjemna dla ucha.</td>\n",
       "      <td>nieprzyjemna dla ucha; wywołuje niepokój, iryt...</td>\n",
       "      <td>nieprzyjemna dla ucha; wywołuje niepokój, iryt...</td>\n",
       "      <td>Stabilność</td>\n",
       "      <td>Równowaga napięcia i stabilności</td>\n",
       "      <td>Napięcie</td>\n",
       "      <td>...</td>\n",
       "      <td>napięcie.</td>\n",
       "      <td>stabilność.</td>\n",
       "      <td>napięcie.</td>\n",
       "      <td>stabilność.</td>\n",
       "      <td>napięcie.</td>\n",
       "      <td>stabilność.</td>\n",
       "      <td>stabilność.</td>\n",
       "      <td>napięcie.</td>\n",
       "      <td>stabilność.</td>\n",
       "      <td>NaN</td>\n",
       "    </tr>\n",
       "    <tr>\n",
       "      <th>12</th>\n",
       "      <td>2023/06/29 12:43:39 PM EEST</td>\n",
       "      <td>Muzyk</td>\n",
       "      <td>przyjemna dla ucha.</td>\n",
       "      <td>nieprzyjemna dla ucha; wywołuje niepokój, iryt...</td>\n",
       "      <td>przyjemna dla ucha.</td>\n",
       "      <td>nieprzyjemna dla ucha; wywołuje niepokój, iryt...</td>\n",
       "      <td>przyjemna dla ucha.</td>\n",
       "      <td>Stabilność</td>\n",
       "      <td>Równowaga napięcia i stabilności</td>\n",
       "      <td>Napięcie</td>\n",
       "      <td>...</td>\n",
       "      <td>napięcie.</td>\n",
       "      <td>stabilność.</td>\n",
       "      <td>napięcie.</td>\n",
       "      <td>stabilność.</td>\n",
       "      <td>napięcie.</td>\n",
       "      <td>stabilność.</td>\n",
       "      <td>równowaga napięcia i stabilności.</td>\n",
       "      <td>napięcie.</td>\n",
       "      <td>stabilność.</td>\n",
       "      <td>NaN</td>\n",
       "    </tr>\n",
       "    <tr>\n",
       "      <th>14</th>\n",
       "      <td>2023/06/29 1:10:22 PM EEST</td>\n",
       "      <td>Muzyk</td>\n",
       "      <td>przyjemna dla ucha.</td>\n",
       "      <td>nieprzyjemna dla ucha; wywołuje niepokój, iryt...</td>\n",
       "      <td>przyjemna dla ucha.</td>\n",
       "      <td>nieprzyjemna dla ucha; wywołuje niepokój, iryt...</td>\n",
       "      <td>przyjemna dla ucha.</td>\n",
       "      <td>Stabilność</td>\n",
       "      <td>Równowaga napięcia i stabilności</td>\n",
       "      <td>Napięcie</td>\n",
       "      <td>...</td>\n",
       "      <td>równowaga napięcia i stabilności.</td>\n",
       "      <td>stabilność.</td>\n",
       "      <td>równowaga napięcia i stabilności.</td>\n",
       "      <td>stabilność.</td>\n",
       "      <td>napięcie.</td>\n",
       "      <td>stabilność.</td>\n",
       "      <td>równowaga napięcia i stabilności.</td>\n",
       "      <td>napięcie.</td>\n",
       "      <td>stabilność.</td>\n",
       "      <td>NaN</td>\n",
       "    </tr>\n",
       "    <tr>\n",
       "      <th>23</th>\n",
       "      <td>2023/06/29 3:11:48 PM EEST</td>\n",
       "      <td>Muzyk</td>\n",
       "      <td>przyjemna dla ucha.</td>\n",
       "      <td>nieprzyjemna dla ucha; wywołuje niepokój, iryt...</td>\n",
       "      <td>przyjemna dla ucha.</td>\n",
       "      <td>nieprzyjemna dla ucha; wywołuje niepokój, iryt...</td>\n",
       "      <td>przyjemna dla ucha.</td>\n",
       "      <td>Stabilność</td>\n",
       "      <td>Napięcie</td>\n",
       "      <td>Równowaga napięcia i stabilności</td>\n",
       "      <td>...</td>\n",
       "      <td>napięcie.</td>\n",
       "      <td>równowaga napięcia i stabilności.</td>\n",
       "      <td>równowaga napięcia i stabilności.</td>\n",
       "      <td>stabilność.</td>\n",
       "      <td>napięcie.</td>\n",
       "      <td>stabilność.</td>\n",
       "      <td>stabilność.</td>\n",
       "      <td>napięcie.</td>\n",
       "      <td>równowaga napięcia i stabilności.</td>\n",
       "      <td>NaN</td>\n",
       "    </tr>\n",
       "  </tbody>\n",
       "</table>\n",
       "<p>5 rows × 27 columns</p>\n",
       "</div>"
      ],
      "text/plain": [
       "              Sygnatura czasowa  \\\n",
       "5   2023/06/29 12:10:25 PM EEST   \n",
       "11  2023/06/29 12:40:53 PM EEST   \n",
       "12  2023/06/29 12:43:39 PM EEST   \n",
       "14   2023/06/29 1:10:22 PM EEST   \n",
       "23   2023/06/29 3:11:48 PM EEST   \n",
       "\n",
       "   Która kategoria najlepiej Panią/Pana charakteryzuje?     Melodia 1.1 jest  \\\n",
       "5                                               Muzyk    przyjemna dla ucha.   \n",
       "11                                              Muzyk    przyjemna dla ucha.   \n",
       "12                                              Muzyk    przyjemna dla ucha.   \n",
       "14                                              Muzyk    przyjemna dla ucha.   \n",
       "23                                              Muzyk    przyjemna dla ucha.   \n",
       "\n",
       "                                     Melodia 1.2 jest  \\\n",
       "5   nieprzyjemna dla ucha; wywołuje niepokój, iryt...   \n",
       "11  nieprzyjemna dla ucha; wywołuje niepokój, iryt...   \n",
       "12  nieprzyjemna dla ucha; wywołuje niepokój, iryt...   \n",
       "14  nieprzyjemna dla ucha; wywołuje niepokój, iryt...   \n",
       "23  nieprzyjemna dla ucha; wywołuje niepokój, iryt...   \n",
       "\n",
       "                                     Melodia 1.3 jest  \\\n",
       "5   nieprzyjemna dla ucha; wywołuje niepokój, iryt...   \n",
       "11                                przyjemna dla ucha.   \n",
       "12                                przyjemna dla ucha.   \n",
       "14                                przyjemna dla ucha.   \n",
       "23                                przyjemna dla ucha.   \n",
       "\n",
       "                                     Melodia 1.4 jest  \\\n",
       "5   nieprzyjemna dla ucha; wywołuje niepokój, iryt...   \n",
       "11  nieprzyjemna dla ucha; wywołuje niepokój, iryt...   \n",
       "12  nieprzyjemna dla ucha; wywołuje niepokój, iryt...   \n",
       "14  nieprzyjemna dla ucha; wywołuje niepokój, iryt...   \n",
       "23  nieprzyjemna dla ucha; wywołuje niepokój, iryt...   \n",
       "\n",
       "                                     Melodia 1.5 jest  \\\n",
       "5                                 przyjemna dla ucha.   \n",
       "11  nieprzyjemna dla ucha; wywołuje niepokój, iryt...   \n",
       "12                                przyjemna dla ucha.   \n",
       "14                                przyjemna dla ucha.   \n",
       "23                                przyjemna dla ucha.   \n",
       "\n",
       "   Uszeregowanie melodii 4.1 - 4.3.\\nProszę dla każdej melodii wybrać jedną cechę, która najlepiej ją charakteryzuje. \\n(W każdej kolumnie może być zaznaczona tylko jedna odpowiedź). [Melodia 4.1]  \\\n",
       "5                                          Stabilność                                                                                                                                                  \n",
       "11                                         Stabilność                                                                                                                                                  \n",
       "12                                         Stabilność                                                                                                                                                  \n",
       "14                                         Stabilność                                                                                                                                                  \n",
       "23                                         Stabilność                                                                                                                                                  \n",
       "\n",
       "   Uszeregowanie melodii 4.1 - 4.3.\\nProszę dla każdej melodii wybrać jedną cechę, która najlepiej ją charakteryzuje. \\n(W każdej kolumnie może być zaznaczona tylko jedna odpowiedź). [Melodia 4.2]  \\\n",
       "5                    Równowaga napięcia i stabilności                                                                                                                                                  \n",
       "11                   Równowaga napięcia i stabilności                                                                                                                                                  \n",
       "12                   Równowaga napięcia i stabilności                                                                                                                                                  \n",
       "14                   Równowaga napięcia i stabilności                                                                                                                                                  \n",
       "23                                           Napięcie                                                                                                                                                  \n",
       "\n",
       "   Uszeregowanie melodii 4.1 - 4.3.\\nProszę dla każdej melodii wybrać jedną cechę, która najlepiej ją charakteryzuje. \\n(W każdej kolumnie może być zaznaczona tylko jedna odpowiedź). [Melodia 4.3]  \\\n",
       "5                                            Napięcie                                                                                                                                                  \n",
       "11                                           Napięcie                                                                                                                                                  \n",
       "12                                           Napięcie                                                                                                                                                  \n",
       "14                                           Napięcie                                                                                                                                                  \n",
       "23                   Równowaga napięcia i stabilności                                                                                                                                                  \n",
       "\n",
       "    ...  Cechą dominującą melodii 5.2 jest  Cechą dominującą melodii 5.3 jest  \\\n",
       "5   ...                          napięcie.                        stabilność.   \n",
       "11  ...                          napięcie.                        stabilność.   \n",
       "12  ...                          napięcie.                        stabilność.   \n",
       "14  ...  równowaga napięcia i stabilności.                        stabilność.   \n",
       "23  ...                          napięcie.  równowaga napięcia i stabilności.   \n",
       "\n",
       "    Cechą dominującą melodii 5.4 jest  Cechą dominującą melodii 5.5 jest  \\\n",
       "5                           napięcie.  równowaga napięcia i stabilności.   \n",
       "11                          napięcie.                        stabilność.   \n",
       "12                          napięcie.                        stabilność.   \n",
       "14  równowaga napięcia i stabilności.                        stabilność.   \n",
       "23  równowaga napięcia i stabilności.                        stabilność.   \n",
       "\n",
       "   Cechą dominującą melodii 5.6 jest Cechą dominującą melodii 5.7 jest  \\\n",
       "5                          napięcie.                       stabilność.   \n",
       "11                         napięcie.                       stabilność.   \n",
       "12                         napięcie.                       stabilność.   \n",
       "14                         napięcie.                       stabilność.   \n",
       "23                         napięcie.                       stabilność.   \n",
       "\n",
       "    Cechą dominującą melodii 5.8 jest Cechą dominującą melodii 5.9 jest  \\\n",
       "5                         stabilność.                         napięcie.   \n",
       "11                        stabilność.                         napięcie.   \n",
       "12  równowaga napięcia i stabilności.                         napięcie.   \n",
       "14  równowaga napięcia i stabilności.                         napięcie.   \n",
       "23                        stabilność.                         napięcie.   \n",
       "\n",
       "   Cechą dominującą melodii 5.10 jest  \\\n",
       "5                         stabilność.   \n",
       "11                        stabilność.   \n",
       "12                        stabilność.   \n",
       "14                        stabilność.   \n",
       "23  równowaga napięcia i stabilności.   \n",
       "\n",
       "                             Miejsce na Państwa uwagi  \n",
       "5   Niektóre przykłady były dość niejednoznaczne. ...  \n",
       "11                                                NaN  \n",
       "12                                                NaN  \n",
       "14                                                NaN  \n",
       "23                                                NaN  \n",
       "\n",
       "[5 rows x 27 columns]"
      ]
     },
     "execution_count": 109,
     "metadata": {},
     "output_type": "execute_result"
    }
   ],
   "source": [
    "df_musician.head()"
   ]
  },
  {
   "cell_type": "code",
   "execution_count": 110,
   "metadata": {},
   "outputs": [
    {
     "data": {
      "text/html": [
       "<div>\n",
       "<style scoped>\n",
       "    .dataframe tbody tr th:only-of-type {\n",
       "        vertical-align: middle;\n",
       "    }\n",
       "\n",
       "    .dataframe tbody tr th {\n",
       "        vertical-align: top;\n",
       "    }\n",
       "\n",
       "    .dataframe thead th {\n",
       "        text-align: right;\n",
       "    }\n",
       "</style>\n",
       "<table border=\"1\" class=\"dataframe\">\n",
       "  <thead>\n",
       "    <tr style=\"text-align: right;\">\n",
       "      <th></th>\n",
       "      <th>Sygnatura czasowa</th>\n",
       "      <th>Która kategoria najlepiej Panią/Pana charakteryzuje?</th>\n",
       "      <th>Melodia 1.1 jest</th>\n",
       "      <th>Melodia 1.2 jest</th>\n",
       "      <th>Melodia 1.3 jest</th>\n",
       "      <th>Melodia 1.4 jest</th>\n",
       "      <th>Melodia 1.5 jest</th>\n",
       "      <th>Uszeregowanie melodii 4.1 - 4.3.\\nProszę dla każdej melodii wybrać jedną cechę, która najlepiej ją charakteryzuje. \\n(W każdej kolumnie może być zaznaczona tylko jedna odpowiedź). [Melodia 4.1]</th>\n",
       "      <th>Uszeregowanie melodii 4.1 - 4.3.\\nProszę dla każdej melodii wybrać jedną cechę, która najlepiej ją charakteryzuje. \\n(W każdej kolumnie może być zaznaczona tylko jedna odpowiedź). [Melodia 4.2]</th>\n",
       "      <th>Uszeregowanie melodii 4.1 - 4.3.\\nProszę dla każdej melodii wybrać jedną cechę, która najlepiej ją charakteryzuje. \\n(W każdej kolumnie może być zaznaczona tylko jedna odpowiedź). [Melodia 4.3]</th>\n",
       "      <th>...</th>\n",
       "      <th>Cechą dominującą melodii 5.2 jest</th>\n",
       "      <th>Cechą dominującą melodii 5.3 jest</th>\n",
       "      <th>Cechą dominującą melodii 5.4 jest</th>\n",
       "      <th>Cechą dominującą melodii 5.5 jest</th>\n",
       "      <th>Cechą dominującą melodii 5.6 jest</th>\n",
       "      <th>Cechą dominującą melodii 5.7 jest</th>\n",
       "      <th>Cechą dominującą melodii 5.8 jest</th>\n",
       "      <th>Cechą dominującą melodii 5.9 jest</th>\n",
       "      <th>Cechą dominującą melodii 5.10 jest</th>\n",
       "      <th>Miejsce na Państwa uwagi</th>\n",
       "    </tr>\n",
       "  </thead>\n",
       "  <tbody>\n",
       "    <tr>\n",
       "      <th>2</th>\n",
       "      <td>2023/06/29 11:29:51 AM EEST</td>\n",
       "      <td>Nie-muzyk</td>\n",
       "      <td>przyjemna dla ucha.</td>\n",
       "      <td>nieprzyjemna dla ucha; wywołuje niepokój, iryt...</td>\n",
       "      <td>przyjemna dla ucha.</td>\n",
       "      <td>nieprzyjemna dla ucha; wywołuje niepokój, iryt...</td>\n",
       "      <td>nieprzyjemna dla ucha; wywołuje niepokój, iryt...</td>\n",
       "      <td>Stabilność</td>\n",
       "      <td>Równowaga napięcia i stabilności</td>\n",
       "      <td>Napięcie</td>\n",
       "      <td>...</td>\n",
       "      <td>napięcie.</td>\n",
       "      <td>stabilność.</td>\n",
       "      <td>napięcie.</td>\n",
       "      <td>stabilność.</td>\n",
       "      <td>napięcie.</td>\n",
       "      <td>stabilność.</td>\n",
       "      <td>równowaga napięcia i stabilności.</td>\n",
       "      <td>napięcie.</td>\n",
       "      <td>równowaga napięcia i stabilności.</td>\n",
       "      <td>Piotr Kamiński nr indeksu 141241 :3</td>\n",
       "    </tr>\n",
       "    <tr>\n",
       "      <th>7</th>\n",
       "      <td>2023/06/29 12:13:34 PM EEST</td>\n",
       "      <td>Nie-muzyk</td>\n",
       "      <td>przyjemna dla ucha.</td>\n",
       "      <td>nieprzyjemna dla ucha; wywołuje niepokój, iryt...</td>\n",
       "      <td>przyjemna dla ucha.</td>\n",
       "      <td>nieprzyjemna dla ucha; wywołuje niepokój, iryt...</td>\n",
       "      <td>przyjemna dla ucha.</td>\n",
       "      <td>Stabilność</td>\n",
       "      <td>Równowaga napięcia i stabilności</td>\n",
       "      <td>Napięcie</td>\n",
       "      <td>...</td>\n",
       "      <td>równowaga napięcia i stabilności.</td>\n",
       "      <td>stabilność.</td>\n",
       "      <td>napięcie.</td>\n",
       "      <td>równowaga napięcia i stabilności.</td>\n",
       "      <td>napięcie.</td>\n",
       "      <td>stabilność.</td>\n",
       "      <td>równowaga napięcia i stabilności.</td>\n",
       "      <td>napięcie.</td>\n",
       "      <td>równowaga napięcia i stabilności.</td>\n",
       "      <td>NaN</td>\n",
       "    </tr>\n",
       "    <tr>\n",
       "      <th>10</th>\n",
       "      <td>2023/06/29 12:33:32 PM EEST</td>\n",
       "      <td>Nie-muzyk</td>\n",
       "      <td>przyjemna dla ucha.</td>\n",
       "      <td>nieprzyjemna dla ucha; wywołuje niepokój, iryt...</td>\n",
       "      <td>przyjemna dla ucha.</td>\n",
       "      <td>nieprzyjemna dla ucha; wywołuje niepokój, iryt...</td>\n",
       "      <td>nieprzyjemna dla ucha; wywołuje niepokój, iryt...</td>\n",
       "      <td>Równowaga napięcia i stabilności</td>\n",
       "      <td>Stabilność</td>\n",
       "      <td>Napięcie</td>\n",
       "      <td>...</td>\n",
       "      <td>napięcie.</td>\n",
       "      <td>napięcie.</td>\n",
       "      <td>stabilność.</td>\n",
       "      <td>stabilność.</td>\n",
       "      <td>stabilność.</td>\n",
       "      <td>równowaga napięcia i stabilności.</td>\n",
       "      <td>stabilność.</td>\n",
       "      <td>stabilność.</td>\n",
       "      <td>napięcie.</td>\n",
       "      <td>NaN</td>\n",
       "    </tr>\n",
       "    <tr>\n",
       "      <th>13</th>\n",
       "      <td>2023/06/29 1:04:16 PM EEST</td>\n",
       "      <td>Nie-muzyk</td>\n",
       "      <td>przyjemna dla ucha.</td>\n",
       "      <td>nieprzyjemna dla ucha; wywołuje niepokój, iryt...</td>\n",
       "      <td>przyjemna dla ucha.</td>\n",
       "      <td>nieprzyjemna dla ucha; wywołuje niepokój, iryt...</td>\n",
       "      <td>nieprzyjemna dla ucha; wywołuje niepokój, iryt...</td>\n",
       "      <td>Równowaga napięcia i stabilności</td>\n",
       "      <td>Napięcie</td>\n",
       "      <td>Stabilność</td>\n",
       "      <td>...</td>\n",
       "      <td>równowaga napięcia i stabilności.</td>\n",
       "      <td>stabilność.</td>\n",
       "      <td>napięcie.</td>\n",
       "      <td>równowaga napięcia i stabilności.</td>\n",
       "      <td>napięcie.</td>\n",
       "      <td>równowaga napięcia i stabilności.</td>\n",
       "      <td>stabilność.</td>\n",
       "      <td>napięcie.</td>\n",
       "      <td>równowaga napięcia i stabilności.</td>\n",
       "      <td>NaN</td>\n",
       "    </tr>\n",
       "    <tr>\n",
       "      <th>17</th>\n",
       "      <td>2023/06/29 2:02:37 PM EEST</td>\n",
       "      <td>Nie-muzyk</td>\n",
       "      <td>przyjemna dla ucha.</td>\n",
       "      <td>nieprzyjemna dla ucha; wywołuje niepokój, iryt...</td>\n",
       "      <td>przyjemna dla ucha.</td>\n",
       "      <td>nieprzyjemna dla ucha; wywołuje niepokój, iryt...</td>\n",
       "      <td>nieprzyjemna dla ucha; wywołuje niepokój, iryt...</td>\n",
       "      <td>Stabilność</td>\n",
       "      <td>Równowaga napięcia i stabilności</td>\n",
       "      <td>Napięcie</td>\n",
       "      <td>...</td>\n",
       "      <td>równowaga napięcia i stabilności.</td>\n",
       "      <td>napięcie.</td>\n",
       "      <td>napięcie.</td>\n",
       "      <td>stabilność.</td>\n",
       "      <td>równowaga napięcia i stabilności.</td>\n",
       "      <td>stabilność.</td>\n",
       "      <td>stabilność.</td>\n",
       "      <td>równowaga napięcia i stabilności.</td>\n",
       "      <td>równowaga napięcia i stabilności.</td>\n",
       "      <td>NaN</td>\n",
       "    </tr>\n",
       "  </tbody>\n",
       "</table>\n",
       "<p>5 rows × 27 columns</p>\n",
       "</div>"
      ],
      "text/plain": [
       "              Sygnatura czasowa  \\\n",
       "2   2023/06/29 11:29:51 AM EEST   \n",
       "7   2023/06/29 12:13:34 PM EEST   \n",
       "10  2023/06/29 12:33:32 PM EEST   \n",
       "13   2023/06/29 1:04:16 PM EEST   \n",
       "17   2023/06/29 2:02:37 PM EEST   \n",
       "\n",
       "   Która kategoria najlepiej Panią/Pana charakteryzuje?     Melodia 1.1 jest  \\\n",
       "2                                           Nie-muzyk    przyjemna dla ucha.   \n",
       "7                                           Nie-muzyk    przyjemna dla ucha.   \n",
       "10                                          Nie-muzyk    przyjemna dla ucha.   \n",
       "13                                          Nie-muzyk    przyjemna dla ucha.   \n",
       "17                                          Nie-muzyk    przyjemna dla ucha.   \n",
       "\n",
       "                                     Melodia 1.2 jest     Melodia 1.3 jest  \\\n",
       "2   nieprzyjemna dla ucha; wywołuje niepokój, iryt...  przyjemna dla ucha.   \n",
       "7   nieprzyjemna dla ucha; wywołuje niepokój, iryt...  przyjemna dla ucha.   \n",
       "10  nieprzyjemna dla ucha; wywołuje niepokój, iryt...  przyjemna dla ucha.   \n",
       "13  nieprzyjemna dla ucha; wywołuje niepokój, iryt...  przyjemna dla ucha.   \n",
       "17  nieprzyjemna dla ucha; wywołuje niepokój, iryt...  przyjemna dla ucha.   \n",
       "\n",
       "                                     Melodia 1.4 jest  \\\n",
       "2   nieprzyjemna dla ucha; wywołuje niepokój, iryt...   \n",
       "7   nieprzyjemna dla ucha; wywołuje niepokój, iryt...   \n",
       "10  nieprzyjemna dla ucha; wywołuje niepokój, iryt...   \n",
       "13  nieprzyjemna dla ucha; wywołuje niepokój, iryt...   \n",
       "17  nieprzyjemna dla ucha; wywołuje niepokój, iryt...   \n",
       "\n",
       "                                     Melodia 1.5 jest  \\\n",
       "2   nieprzyjemna dla ucha; wywołuje niepokój, iryt...   \n",
       "7                                 przyjemna dla ucha.   \n",
       "10  nieprzyjemna dla ucha; wywołuje niepokój, iryt...   \n",
       "13  nieprzyjemna dla ucha; wywołuje niepokój, iryt...   \n",
       "17  nieprzyjemna dla ucha; wywołuje niepokój, iryt...   \n",
       "\n",
       "   Uszeregowanie melodii 4.1 - 4.3.\\nProszę dla każdej melodii wybrać jedną cechę, która najlepiej ją charakteryzuje. \\n(W każdej kolumnie może być zaznaczona tylko jedna odpowiedź). [Melodia 4.1]  \\\n",
       "2                                          Stabilność                                                                                                                                                  \n",
       "7                                          Stabilność                                                                                                                                                  \n",
       "10                   Równowaga napięcia i stabilności                                                                                                                                                  \n",
       "13                   Równowaga napięcia i stabilności                                                                                                                                                  \n",
       "17                                         Stabilność                                                                                                                                                  \n",
       "\n",
       "   Uszeregowanie melodii 4.1 - 4.3.\\nProszę dla każdej melodii wybrać jedną cechę, która najlepiej ją charakteryzuje. \\n(W każdej kolumnie może być zaznaczona tylko jedna odpowiedź). [Melodia 4.2]  \\\n",
       "2                    Równowaga napięcia i stabilności                                                                                                                                                  \n",
       "7                    Równowaga napięcia i stabilności                                                                                                                                                  \n",
       "10                                         Stabilność                                                                                                                                                  \n",
       "13                                           Napięcie                                                                                                                                                  \n",
       "17                   Równowaga napięcia i stabilności                                                                                                                                                  \n",
       "\n",
       "   Uszeregowanie melodii 4.1 - 4.3.\\nProszę dla każdej melodii wybrać jedną cechę, która najlepiej ją charakteryzuje. \\n(W każdej kolumnie może być zaznaczona tylko jedna odpowiedź). [Melodia 4.3]  \\\n",
       "2                                            Napięcie                                                                                                                                                  \n",
       "7                                            Napięcie                                                                                                                                                  \n",
       "10                                           Napięcie                                                                                                                                                  \n",
       "13                                         Stabilność                                                                                                                                                  \n",
       "17                                           Napięcie                                                                                                                                                  \n",
       "\n",
       "    ...  Cechą dominującą melodii 5.2 jest Cechą dominującą melodii 5.3 jest  \\\n",
       "2   ...                          napięcie.                       stabilność.   \n",
       "7   ...  równowaga napięcia i stabilności.                       stabilność.   \n",
       "10  ...                          napięcie.                         napięcie.   \n",
       "13  ...  równowaga napięcia i stabilności.                       stabilność.   \n",
       "17  ...  równowaga napięcia i stabilności.                         napięcie.   \n",
       "\n",
       "   Cechą dominującą melodii 5.4 jest  Cechą dominującą melodii 5.5 jest  \\\n",
       "2                          napięcie.                        stabilność.   \n",
       "7                          napięcie.  równowaga napięcia i stabilności.   \n",
       "10                       stabilność.                        stabilność.   \n",
       "13                         napięcie.  równowaga napięcia i stabilności.   \n",
       "17                         napięcie.                        stabilność.   \n",
       "\n",
       "    Cechą dominującą melodii 5.6 jest  Cechą dominującą melodii 5.7 jest  \\\n",
       "2                           napięcie.                        stabilność.   \n",
       "7                           napięcie.                        stabilność.   \n",
       "10                        stabilność.  równowaga napięcia i stabilności.   \n",
       "13                          napięcie.  równowaga napięcia i stabilności.   \n",
       "17  równowaga napięcia i stabilności.                        stabilność.   \n",
       "\n",
       "    Cechą dominującą melodii 5.8 jest  Cechą dominującą melodii 5.9 jest  \\\n",
       "2   równowaga napięcia i stabilności.                          napięcie.   \n",
       "7   równowaga napięcia i stabilności.                          napięcie.   \n",
       "10                        stabilność.                        stabilność.   \n",
       "13                        stabilność.                          napięcie.   \n",
       "17                        stabilność.  równowaga napięcia i stabilności.   \n",
       "\n",
       "   Cechą dominującą melodii 5.10 jest             Miejsce na Państwa uwagi  \n",
       "2   równowaga napięcia i stabilności.  Piotr Kamiński nr indeksu 141241 :3  \n",
       "7   równowaga napięcia i stabilności.                                  NaN  \n",
       "10                          napięcie.                                  NaN  \n",
       "13  równowaga napięcia i stabilności.                                  NaN  \n",
       "17  równowaga napięcia i stabilności.                                  NaN  \n",
       "\n",
       "[5 rows x 27 columns]"
      ]
     },
     "execution_count": 110,
     "metadata": {},
     "output_type": "execute_result"
    }
   ],
   "source": [
    "df_nonMusician.head()"
   ]
  },
  {
   "cell_type": "code",
   "execution_count": 111,
   "metadata": {},
   "outputs": [
    {
     "data": {
      "text/html": [
       "<div>\n",
       "<style scoped>\n",
       "    .dataframe tbody tr th:only-of-type {\n",
       "        vertical-align: middle;\n",
       "    }\n",
       "\n",
       "    .dataframe tbody tr th {\n",
       "        vertical-align: top;\n",
       "    }\n",
       "\n",
       "    .dataframe thead th {\n",
       "        text-align: right;\n",
       "    }\n",
       "</style>\n",
       "<table border=\"1\" class=\"dataframe\">\n",
       "  <thead>\n",
       "    <tr style=\"text-align: right;\">\n",
       "      <th></th>\n",
       "      <th>Sygnatura czasowa</th>\n",
       "      <th>Która kategoria najlepiej Panią/Pana charakteryzuje?</th>\n",
       "      <th>Melodia 1.1 jest</th>\n",
       "      <th>Melodia 1.2 jest</th>\n",
       "      <th>Melodia 1.3 jest</th>\n",
       "      <th>Melodia 1.4 jest</th>\n",
       "      <th>Melodia 1.5 jest</th>\n",
       "      <th>Uszeregowanie melodii 4.1 - 4.3.\\nProszę dla każdej melodii wybrać jedną cechę, która najlepiej ją charakteryzuje. \\n(W każdej kolumnie może być zaznaczona tylko jedna odpowiedź). [Melodia 4.1]</th>\n",
       "      <th>Uszeregowanie melodii 4.1 - 4.3.\\nProszę dla każdej melodii wybrać jedną cechę, która najlepiej ją charakteryzuje. \\n(W każdej kolumnie może być zaznaczona tylko jedna odpowiedź). [Melodia 4.2]</th>\n",
       "      <th>Uszeregowanie melodii 4.1 - 4.3.\\nProszę dla każdej melodii wybrać jedną cechę, która najlepiej ją charakteryzuje. \\n(W każdej kolumnie może być zaznaczona tylko jedna odpowiedź). [Melodia 4.3]</th>\n",
       "      <th>...</th>\n",
       "      <th>Cechą dominującą melodii 5.2 jest</th>\n",
       "      <th>Cechą dominującą melodii 5.3 jest</th>\n",
       "      <th>Cechą dominującą melodii 5.4 jest</th>\n",
       "      <th>Cechą dominującą melodii 5.5 jest</th>\n",
       "      <th>Cechą dominującą melodii 5.6 jest</th>\n",
       "      <th>Cechą dominującą melodii 5.7 jest</th>\n",
       "      <th>Cechą dominującą melodii 5.8 jest</th>\n",
       "      <th>Cechą dominującą melodii 5.9 jest</th>\n",
       "      <th>Cechą dominującą melodii 5.10 jest</th>\n",
       "      <th>Miejsce na Państwa uwagi</th>\n",
       "    </tr>\n",
       "  </thead>\n",
       "  <tbody>\n",
       "    <tr>\n",
       "      <th>0</th>\n",
       "      <td>2023/06/29 10:27:36 AM EEST</td>\n",
       "      <td>Amator / Meloman</td>\n",
       "      <td>przyjemna dla ucha.</td>\n",
       "      <td>nieprzyjemna dla ucha; wywołuje niepokój, iryt...</td>\n",
       "      <td>przyjemna dla ucha.</td>\n",
       "      <td>nieprzyjemna dla ucha; wywołuje niepokój, iryt...</td>\n",
       "      <td>nieprzyjemna dla ucha; wywołuje niepokój, iryt...</td>\n",
       "      <td>Stabilność</td>\n",
       "      <td>Równowaga napięcia i stabilności</td>\n",
       "      <td>Napięcie</td>\n",
       "      <td>...</td>\n",
       "      <td>napięcie.</td>\n",
       "      <td>równowaga napięcia i stabilności.</td>\n",
       "      <td>napięcie.</td>\n",
       "      <td>stabilność.</td>\n",
       "      <td>napięcie.</td>\n",
       "      <td>stabilność.</td>\n",
       "      <td>stabilność.</td>\n",
       "      <td>równowaga napięcia i stabilności.</td>\n",
       "      <td>stabilność.</td>\n",
       "      <td>NaN</td>\n",
       "    </tr>\n",
       "    <tr>\n",
       "      <th>1</th>\n",
       "      <td>2023/06/29 11:17:12 AM EEST</td>\n",
       "      <td>Amator / Meloman</td>\n",
       "      <td>przyjemna dla ucha.</td>\n",
       "      <td>nieprzyjemna dla ucha; wywołuje niepokój, iryt...</td>\n",
       "      <td>przyjemna dla ucha.</td>\n",
       "      <td>nieprzyjemna dla ucha; wywołuje niepokój, iryt...</td>\n",
       "      <td>nieprzyjemna dla ucha; wywołuje niepokój, iryt...</td>\n",
       "      <td>Równowaga napięcia i stabilności</td>\n",
       "      <td>Napięcie</td>\n",
       "      <td>Stabilność</td>\n",
       "      <td>...</td>\n",
       "      <td>równowaga napięcia i stabilności.</td>\n",
       "      <td>napięcie.</td>\n",
       "      <td>równowaga napięcia i stabilności.</td>\n",
       "      <td>równowaga napięcia i stabilności.</td>\n",
       "      <td>napięcie.</td>\n",
       "      <td>stabilność.</td>\n",
       "      <td>równowaga napięcia i stabilności.</td>\n",
       "      <td>równowaga napięcia i stabilności.</td>\n",
       "      <td>równowaga napięcia i stabilności.</td>\n",
       "      <td>Trudna ta ankieta. Żem jak umiał odpowiadau.</td>\n",
       "    </tr>\n",
       "    <tr>\n",
       "      <th>3</th>\n",
       "      <td>2023/06/29 11:48:29 AM EEST</td>\n",
       "      <td>Amator / Meloman</td>\n",
       "      <td>przyjemna dla ucha.</td>\n",
       "      <td>nieprzyjemna dla ucha; wywołuje niepokój, iryt...</td>\n",
       "      <td>przyjemna dla ucha.</td>\n",
       "      <td>nieprzyjemna dla ucha; wywołuje niepokój, iryt...</td>\n",
       "      <td>przyjemna dla ucha.</td>\n",
       "      <td>Stabilność</td>\n",
       "      <td>Równowaga napięcia i stabilności</td>\n",
       "      <td>Napięcie</td>\n",
       "      <td>...</td>\n",
       "      <td>równowaga napięcia i stabilności.</td>\n",
       "      <td>równowaga napięcia i stabilności.</td>\n",
       "      <td>napięcie.</td>\n",
       "      <td>równowaga napięcia i stabilności.</td>\n",
       "      <td>napięcie.</td>\n",
       "      <td>równowaga napięcia i stabilności.</td>\n",
       "      <td>równowaga napięcia i stabilności.</td>\n",
       "      <td>równowaga napięcia i stabilności.</td>\n",
       "      <td>równowaga napięcia i stabilności.</td>\n",
       "      <td>Ankieta ambitna, wymagająca słuchu muzycznego.</td>\n",
       "    </tr>\n",
       "    <tr>\n",
       "      <th>4</th>\n",
       "      <td>2023/06/29 12:09:58 PM EEST</td>\n",
       "      <td>Amator / Meloman</td>\n",
       "      <td>przyjemna dla ucha.</td>\n",
       "      <td>nieprzyjemna dla ucha; wywołuje niepokój, iryt...</td>\n",
       "      <td>przyjemna dla ucha.</td>\n",
       "      <td>nieprzyjemna dla ucha; wywołuje niepokój, iryt...</td>\n",
       "      <td>nieprzyjemna dla ucha; wywołuje niepokój, iryt...</td>\n",
       "      <td>Napięcie</td>\n",
       "      <td>Stabilność</td>\n",
       "      <td>Równowaga napięcia i stabilności</td>\n",
       "      <td>...</td>\n",
       "      <td>napięcie.</td>\n",
       "      <td>równowaga napięcia i stabilności.</td>\n",
       "      <td>równowaga napięcia i stabilności.</td>\n",
       "      <td>równowaga napięcia i stabilności.</td>\n",
       "      <td>napięcie.</td>\n",
       "      <td>stabilność.</td>\n",
       "      <td>stabilność.</td>\n",
       "      <td>równowaga napięcia i stabilności.</td>\n",
       "      <td>stabilność.</td>\n",
       "      <td>NaN</td>\n",
       "    </tr>\n",
       "    <tr>\n",
       "      <th>6</th>\n",
       "      <td>2023/06/29 12:11:57 PM EEST</td>\n",
       "      <td>Amator / Meloman</td>\n",
       "      <td>przyjemna dla ucha.</td>\n",
       "      <td>nieprzyjemna dla ucha; wywołuje niepokój, iryt...</td>\n",
       "      <td>przyjemna dla ucha.</td>\n",
       "      <td>nieprzyjemna dla ucha; wywołuje niepokój, iryt...</td>\n",
       "      <td>przyjemna dla ucha.</td>\n",
       "      <td>Stabilność</td>\n",
       "      <td>Równowaga napięcia i stabilności</td>\n",
       "      <td>Napięcie</td>\n",
       "      <td>...</td>\n",
       "      <td>równowaga napięcia i stabilności.</td>\n",
       "      <td>stabilność.</td>\n",
       "      <td>napięcie.</td>\n",
       "      <td>równowaga napięcia i stabilności.</td>\n",
       "      <td>napięcie.</td>\n",
       "      <td>stabilność.</td>\n",
       "      <td>równowaga napięcia i stabilności.</td>\n",
       "      <td>napięcie.</td>\n",
       "      <td>stabilność.</td>\n",
       "      <td>NaN</td>\n",
       "    </tr>\n",
       "  </tbody>\n",
       "</table>\n",
       "<p>5 rows × 27 columns</p>\n",
       "</div>"
      ],
      "text/plain": [
       "             Sygnatura czasowa  \\\n",
       "0  2023/06/29 10:27:36 AM EEST   \n",
       "1  2023/06/29 11:17:12 AM EEST   \n",
       "3  2023/06/29 11:48:29 AM EEST   \n",
       "4  2023/06/29 12:09:58 PM EEST   \n",
       "6  2023/06/29 12:11:57 PM EEST   \n",
       "\n",
       "  Która kategoria najlepiej Panią/Pana charakteryzuje?     Melodia 1.1 jest  \\\n",
       "0                                   Amator / Meloman    przyjemna dla ucha.   \n",
       "1                                   Amator / Meloman    przyjemna dla ucha.   \n",
       "3                                   Amator / Meloman    przyjemna dla ucha.   \n",
       "4                                   Amator / Meloman    przyjemna dla ucha.   \n",
       "6                                   Amator / Meloman    przyjemna dla ucha.   \n",
       "\n",
       "                                    Melodia 1.2 jest     Melodia 1.3 jest  \\\n",
       "0  nieprzyjemna dla ucha; wywołuje niepokój, iryt...  przyjemna dla ucha.   \n",
       "1  nieprzyjemna dla ucha; wywołuje niepokój, iryt...  przyjemna dla ucha.   \n",
       "3  nieprzyjemna dla ucha; wywołuje niepokój, iryt...  przyjemna dla ucha.   \n",
       "4  nieprzyjemna dla ucha; wywołuje niepokój, iryt...  przyjemna dla ucha.   \n",
       "6  nieprzyjemna dla ucha; wywołuje niepokój, iryt...  przyjemna dla ucha.   \n",
       "\n",
       "                                    Melodia 1.4 jest  \\\n",
       "0  nieprzyjemna dla ucha; wywołuje niepokój, iryt...   \n",
       "1  nieprzyjemna dla ucha; wywołuje niepokój, iryt...   \n",
       "3  nieprzyjemna dla ucha; wywołuje niepokój, iryt...   \n",
       "4  nieprzyjemna dla ucha; wywołuje niepokój, iryt...   \n",
       "6  nieprzyjemna dla ucha; wywołuje niepokój, iryt...   \n",
       "\n",
       "                                    Melodia 1.5 jest  \\\n",
       "0  nieprzyjemna dla ucha; wywołuje niepokój, iryt...   \n",
       "1  nieprzyjemna dla ucha; wywołuje niepokój, iryt...   \n",
       "3                                przyjemna dla ucha.   \n",
       "4  nieprzyjemna dla ucha; wywołuje niepokój, iryt...   \n",
       "6                                przyjemna dla ucha.   \n",
       "\n",
       "  Uszeregowanie melodii 4.1 - 4.3.\\nProszę dla każdej melodii wybrać jedną cechę, która najlepiej ją charakteryzuje. \\n(W każdej kolumnie może być zaznaczona tylko jedna odpowiedź). [Melodia 4.1]  \\\n",
       "0                                         Stabilność                                                                                                                                                  \n",
       "1                   Równowaga napięcia i stabilności                                                                                                                                                  \n",
       "3                                         Stabilność                                                                                                                                                  \n",
       "4                                           Napięcie                                                                                                                                                  \n",
       "6                                         Stabilność                                                                                                                                                  \n",
       "\n",
       "  Uszeregowanie melodii 4.1 - 4.3.\\nProszę dla każdej melodii wybrać jedną cechę, która najlepiej ją charakteryzuje. \\n(W każdej kolumnie może być zaznaczona tylko jedna odpowiedź). [Melodia 4.2]  \\\n",
       "0                   Równowaga napięcia i stabilności                                                                                                                                                  \n",
       "1                                           Napięcie                                                                                                                                                  \n",
       "3                   Równowaga napięcia i stabilności                                                                                                                                                  \n",
       "4                                         Stabilność                                                                                                                                                  \n",
       "6                   Równowaga napięcia i stabilności                                                                                                                                                  \n",
       "\n",
       "  Uszeregowanie melodii 4.1 - 4.3.\\nProszę dla każdej melodii wybrać jedną cechę, która najlepiej ją charakteryzuje. \\n(W każdej kolumnie może być zaznaczona tylko jedna odpowiedź). [Melodia 4.3]  \\\n",
       "0                                           Napięcie                                                                                                                                                  \n",
       "1                                         Stabilność                                                                                                                                                  \n",
       "3                                           Napięcie                                                                                                                                                  \n",
       "4                   Równowaga napięcia i stabilności                                                                                                                                                  \n",
       "6                                           Napięcie                                                                                                                                                  \n",
       "\n",
       "   ...  Cechą dominującą melodii 5.2 jest  Cechą dominującą melodii 5.3 jest  \\\n",
       "0  ...                          napięcie.  równowaga napięcia i stabilności.   \n",
       "1  ...  równowaga napięcia i stabilności.                          napięcie.   \n",
       "3  ...  równowaga napięcia i stabilności.  równowaga napięcia i stabilności.   \n",
       "4  ...                          napięcie.  równowaga napięcia i stabilności.   \n",
       "6  ...  równowaga napięcia i stabilności.                        stabilność.   \n",
       "\n",
       "   Cechą dominującą melodii 5.4 jest  Cechą dominującą melodii 5.5 jest  \\\n",
       "0                          napięcie.                        stabilność.   \n",
       "1  równowaga napięcia i stabilności.  równowaga napięcia i stabilności.   \n",
       "3                          napięcie.  równowaga napięcia i stabilności.   \n",
       "4  równowaga napięcia i stabilności.  równowaga napięcia i stabilności.   \n",
       "6                          napięcie.  równowaga napięcia i stabilności.   \n",
       "\n",
       "  Cechą dominującą melodii 5.6 jest  Cechą dominującą melodii 5.7 jest  \\\n",
       "0                         napięcie.                        stabilność.   \n",
       "1                         napięcie.                        stabilność.   \n",
       "3                         napięcie.  równowaga napięcia i stabilności.   \n",
       "4                         napięcie.                        stabilność.   \n",
       "6                         napięcie.                        stabilność.   \n",
       "\n",
       "   Cechą dominującą melodii 5.8 jest  Cechą dominującą melodii 5.9 jest  \\\n",
       "0                        stabilność.  równowaga napięcia i stabilności.   \n",
       "1  równowaga napięcia i stabilności.  równowaga napięcia i stabilności.   \n",
       "3  równowaga napięcia i stabilności.  równowaga napięcia i stabilności.   \n",
       "4                        stabilność.  równowaga napięcia i stabilności.   \n",
       "6  równowaga napięcia i stabilności.                          napięcie.   \n",
       "\n",
       "  Cechą dominującą melodii 5.10 jest  \\\n",
       "0                        stabilność.   \n",
       "1  równowaga napięcia i stabilności.   \n",
       "3  równowaga napięcia i stabilności.   \n",
       "4                        stabilność.   \n",
       "6                        stabilność.   \n",
       "\n",
       "                         Miejsce na Państwa uwagi  \n",
       "0                                             NaN  \n",
       "1    Trudna ta ankieta. Żem jak umiał odpowiadau.  \n",
       "3  Ankieta ambitna, wymagająca słuchu muzycznego.  \n",
       "4                                             NaN  \n",
       "6                                             NaN  \n",
       "\n",
       "[5 rows x 27 columns]"
      ]
     },
     "execution_count": 111,
     "metadata": {},
     "output_type": "execute_result"
    }
   ],
   "source": [
    "df_amateur.head()"
   ]
  },
  {
   "cell_type": "code",
   "execution_count": 112,
   "metadata": {},
   "outputs": [
    {
     "data": {
      "application/vnd.plotly.v1+json": {
       "config": {
        "plotlyServerURL": "https://plot.ly"
       },
       "data": [
        {
         "labels": [
          "Amator / Meloman",
          "Muzyk",
          "Nie-muzyk"
         ],
         "marker": {
          "line": {
           "color": "white",
           "width": 1
          }
         },
         "textfont": {
          "size": 20
         },
         "type": "pie",
         "values": [
          35,
          30,
          29
         ]
        }
       ],
       "layout": {
        "colorway": [
         "rgb(95, 70, 144)",
         "rgb(15, 133, 84)",
         "rgb(225, 124, 5)"
        ],
        "font": {
         "color": "black",
         "family": "Courier New",
         "size": 16
        },
        "height": 400,
        "margin": {
         "b": 25,
         "l": 50,
         "r": 50,
         "t": 75
        },
        "showlegend": true,
        "template": {
         "data": {
          "bar": [
           {
            "error_x": {
             "color": "#2a3f5f"
            },
            "error_y": {
             "color": "#2a3f5f"
            },
            "marker": {
             "line": {
              "color": "#E5ECF6",
              "width": 0.5
             },
             "pattern": {
              "fillmode": "overlay",
              "size": 10,
              "solidity": 0.2
             }
            },
            "type": "bar"
           }
          ],
          "barpolar": [
           {
            "marker": {
             "line": {
              "color": "#E5ECF6",
              "width": 0.5
             },
             "pattern": {
              "fillmode": "overlay",
              "size": 10,
              "solidity": 0.2
             }
            },
            "type": "barpolar"
           }
          ],
          "carpet": [
           {
            "aaxis": {
             "endlinecolor": "#2a3f5f",
             "gridcolor": "white",
             "linecolor": "white",
             "minorgridcolor": "white",
             "startlinecolor": "#2a3f5f"
            },
            "baxis": {
             "endlinecolor": "#2a3f5f",
             "gridcolor": "white",
             "linecolor": "white",
             "minorgridcolor": "white",
             "startlinecolor": "#2a3f5f"
            },
            "type": "carpet"
           }
          ],
          "choropleth": [
           {
            "colorbar": {
             "outlinewidth": 0,
             "ticks": ""
            },
            "type": "choropleth"
           }
          ],
          "contour": [
           {
            "colorbar": {
             "outlinewidth": 0,
             "ticks": ""
            },
            "colorscale": [
             [
              0,
              "#0d0887"
             ],
             [
              0.1111111111111111,
              "#46039f"
             ],
             [
              0.2222222222222222,
              "#7201a8"
             ],
             [
              0.3333333333333333,
              "#9c179e"
             ],
             [
              0.4444444444444444,
              "#bd3786"
             ],
             [
              0.5555555555555556,
              "#d8576b"
             ],
             [
              0.6666666666666666,
              "#ed7953"
             ],
             [
              0.7777777777777778,
              "#fb9f3a"
             ],
             [
              0.8888888888888888,
              "#fdca26"
             ],
             [
              1,
              "#f0f921"
             ]
            ],
            "type": "contour"
           }
          ],
          "contourcarpet": [
           {
            "colorbar": {
             "outlinewidth": 0,
             "ticks": ""
            },
            "type": "contourcarpet"
           }
          ],
          "heatmap": [
           {
            "colorbar": {
             "outlinewidth": 0,
             "ticks": ""
            },
            "colorscale": [
             [
              0,
              "#0d0887"
             ],
             [
              0.1111111111111111,
              "#46039f"
             ],
             [
              0.2222222222222222,
              "#7201a8"
             ],
             [
              0.3333333333333333,
              "#9c179e"
             ],
             [
              0.4444444444444444,
              "#bd3786"
             ],
             [
              0.5555555555555556,
              "#d8576b"
             ],
             [
              0.6666666666666666,
              "#ed7953"
             ],
             [
              0.7777777777777778,
              "#fb9f3a"
             ],
             [
              0.8888888888888888,
              "#fdca26"
             ],
             [
              1,
              "#f0f921"
             ]
            ],
            "type": "heatmap"
           }
          ],
          "heatmapgl": [
           {
            "colorbar": {
             "outlinewidth": 0,
             "ticks": ""
            },
            "colorscale": [
             [
              0,
              "#0d0887"
             ],
             [
              0.1111111111111111,
              "#46039f"
             ],
             [
              0.2222222222222222,
              "#7201a8"
             ],
             [
              0.3333333333333333,
              "#9c179e"
             ],
             [
              0.4444444444444444,
              "#bd3786"
             ],
             [
              0.5555555555555556,
              "#d8576b"
             ],
             [
              0.6666666666666666,
              "#ed7953"
             ],
             [
              0.7777777777777778,
              "#fb9f3a"
             ],
             [
              0.8888888888888888,
              "#fdca26"
             ],
             [
              1,
              "#f0f921"
             ]
            ],
            "type": "heatmapgl"
           }
          ],
          "histogram": [
           {
            "marker": {
             "pattern": {
              "fillmode": "overlay",
              "size": 10,
              "solidity": 0.2
             }
            },
            "type": "histogram"
           }
          ],
          "histogram2d": [
           {
            "colorbar": {
             "outlinewidth": 0,
             "ticks": ""
            },
            "colorscale": [
             [
              0,
              "#0d0887"
             ],
             [
              0.1111111111111111,
              "#46039f"
             ],
             [
              0.2222222222222222,
              "#7201a8"
             ],
             [
              0.3333333333333333,
              "#9c179e"
             ],
             [
              0.4444444444444444,
              "#bd3786"
             ],
             [
              0.5555555555555556,
              "#d8576b"
             ],
             [
              0.6666666666666666,
              "#ed7953"
             ],
             [
              0.7777777777777778,
              "#fb9f3a"
             ],
             [
              0.8888888888888888,
              "#fdca26"
             ],
             [
              1,
              "#f0f921"
             ]
            ],
            "type": "histogram2d"
           }
          ],
          "histogram2dcontour": [
           {
            "colorbar": {
             "outlinewidth": 0,
             "ticks": ""
            },
            "colorscale": [
             [
              0,
              "#0d0887"
             ],
             [
              0.1111111111111111,
              "#46039f"
             ],
             [
              0.2222222222222222,
              "#7201a8"
             ],
             [
              0.3333333333333333,
              "#9c179e"
             ],
             [
              0.4444444444444444,
              "#bd3786"
             ],
             [
              0.5555555555555556,
              "#d8576b"
             ],
             [
              0.6666666666666666,
              "#ed7953"
             ],
             [
              0.7777777777777778,
              "#fb9f3a"
             ],
             [
              0.8888888888888888,
              "#fdca26"
             ],
             [
              1,
              "#f0f921"
             ]
            ],
            "type": "histogram2dcontour"
           }
          ],
          "mesh3d": [
           {
            "colorbar": {
             "outlinewidth": 0,
             "ticks": ""
            },
            "type": "mesh3d"
           }
          ],
          "parcoords": [
           {
            "line": {
             "colorbar": {
              "outlinewidth": 0,
              "ticks": ""
             }
            },
            "type": "parcoords"
           }
          ],
          "pie": [
           {
            "automargin": true,
            "type": "pie"
           }
          ],
          "scatter": [
           {
            "fillpattern": {
             "fillmode": "overlay",
             "size": 10,
             "solidity": 0.2
            },
            "type": "scatter"
           }
          ],
          "scatter3d": [
           {
            "line": {
             "colorbar": {
              "outlinewidth": 0,
              "ticks": ""
             }
            },
            "marker": {
             "colorbar": {
              "outlinewidth": 0,
              "ticks": ""
             }
            },
            "type": "scatter3d"
           }
          ],
          "scattercarpet": [
           {
            "marker": {
             "colorbar": {
              "outlinewidth": 0,
              "ticks": ""
             }
            },
            "type": "scattercarpet"
           }
          ],
          "scattergeo": [
           {
            "marker": {
             "colorbar": {
              "outlinewidth": 0,
              "ticks": ""
             }
            },
            "type": "scattergeo"
           }
          ],
          "scattergl": [
           {
            "marker": {
             "colorbar": {
              "outlinewidth": 0,
              "ticks": ""
             }
            },
            "type": "scattergl"
           }
          ],
          "scattermapbox": [
           {
            "marker": {
             "colorbar": {
              "outlinewidth": 0,
              "ticks": ""
             }
            },
            "type": "scattermapbox"
           }
          ],
          "scatterpolar": [
           {
            "marker": {
             "colorbar": {
              "outlinewidth": 0,
              "ticks": ""
             }
            },
            "type": "scatterpolar"
           }
          ],
          "scatterpolargl": [
           {
            "marker": {
             "colorbar": {
              "outlinewidth": 0,
              "ticks": ""
             }
            },
            "type": "scatterpolargl"
           }
          ],
          "scatterternary": [
           {
            "marker": {
             "colorbar": {
              "outlinewidth": 0,
              "ticks": ""
             }
            },
            "type": "scatterternary"
           }
          ],
          "surface": [
           {
            "colorbar": {
             "outlinewidth": 0,
             "ticks": ""
            },
            "colorscale": [
             [
              0,
              "#0d0887"
             ],
             [
              0.1111111111111111,
              "#46039f"
             ],
             [
              0.2222222222222222,
              "#7201a8"
             ],
             [
              0.3333333333333333,
              "#9c179e"
             ],
             [
              0.4444444444444444,
              "#bd3786"
             ],
             [
              0.5555555555555556,
              "#d8576b"
             ],
             [
              0.6666666666666666,
              "#ed7953"
             ],
             [
              0.7777777777777778,
              "#fb9f3a"
             ],
             [
              0.8888888888888888,
              "#fdca26"
             ],
             [
              1,
              "#f0f921"
             ]
            ],
            "type": "surface"
           }
          ],
          "table": [
           {
            "cells": {
             "fill": {
              "color": "#EBF0F8"
             },
             "line": {
              "color": "white"
             }
            },
            "header": {
             "fill": {
              "color": "#C8D4E3"
             },
             "line": {
              "color": "white"
             }
            },
            "type": "table"
           }
          ]
         },
         "layout": {
          "annotationdefaults": {
           "arrowcolor": "#2a3f5f",
           "arrowhead": 0,
           "arrowwidth": 1
          },
          "autotypenumbers": "strict",
          "coloraxis": {
           "colorbar": {
            "outlinewidth": 0,
            "ticks": ""
           }
          },
          "colorscale": {
           "diverging": [
            [
             0,
             "#8e0152"
            ],
            [
             0.1,
             "#c51b7d"
            ],
            [
             0.2,
             "#de77ae"
            ],
            [
             0.3,
             "#f1b6da"
            ],
            [
             0.4,
             "#fde0ef"
            ],
            [
             0.5,
             "#f7f7f7"
            ],
            [
             0.6,
             "#e6f5d0"
            ],
            [
             0.7,
             "#b8e186"
            ],
            [
             0.8,
             "#7fbc41"
            ],
            [
             0.9,
             "#4d9221"
            ],
            [
             1,
             "#276419"
            ]
           ],
           "sequential": [
            [
             0,
             "#0d0887"
            ],
            [
             0.1111111111111111,
             "#46039f"
            ],
            [
             0.2222222222222222,
             "#7201a8"
            ],
            [
             0.3333333333333333,
             "#9c179e"
            ],
            [
             0.4444444444444444,
             "#bd3786"
            ],
            [
             0.5555555555555556,
             "#d8576b"
            ],
            [
             0.6666666666666666,
             "#ed7953"
            ],
            [
             0.7777777777777778,
             "#fb9f3a"
            ],
            [
             0.8888888888888888,
             "#fdca26"
            ],
            [
             1,
             "#f0f921"
            ]
           ],
           "sequentialminus": [
            [
             0,
             "#0d0887"
            ],
            [
             0.1111111111111111,
             "#46039f"
            ],
            [
             0.2222222222222222,
             "#7201a8"
            ],
            [
             0.3333333333333333,
             "#9c179e"
            ],
            [
             0.4444444444444444,
             "#bd3786"
            ],
            [
             0.5555555555555556,
             "#d8576b"
            ],
            [
             0.6666666666666666,
             "#ed7953"
            ],
            [
             0.7777777777777778,
             "#fb9f3a"
            ],
            [
             0.8888888888888888,
             "#fdca26"
            ],
            [
             1,
             "#f0f921"
            ]
           ]
          },
          "colorway": [
           "#636efa",
           "#EF553B",
           "#00cc96",
           "#ab63fa",
           "#FFA15A",
           "#19d3f3",
           "#FF6692",
           "#B6E880",
           "#FF97FF",
           "#FECB52"
          ],
          "font": {
           "color": "#2a3f5f"
          },
          "geo": {
           "bgcolor": "white",
           "lakecolor": "white",
           "landcolor": "#E5ECF6",
           "showlakes": true,
           "showland": true,
           "subunitcolor": "white"
          },
          "hoverlabel": {
           "align": "left"
          },
          "hovermode": "closest",
          "mapbox": {
           "style": "light"
          },
          "paper_bgcolor": "white",
          "plot_bgcolor": "#E5ECF6",
          "polar": {
           "angularaxis": {
            "gridcolor": "white",
            "linecolor": "white",
            "ticks": ""
           },
           "bgcolor": "#E5ECF6",
           "radialaxis": {
            "gridcolor": "white",
            "linecolor": "white",
            "ticks": ""
           }
          },
          "scene": {
           "xaxis": {
            "backgroundcolor": "#E5ECF6",
            "gridcolor": "white",
            "gridwidth": 2,
            "linecolor": "white",
            "showbackground": true,
            "ticks": "",
            "zerolinecolor": "white"
           },
           "yaxis": {
            "backgroundcolor": "#E5ECF6",
            "gridcolor": "white",
            "gridwidth": 2,
            "linecolor": "white",
            "showbackground": true,
            "ticks": "",
            "zerolinecolor": "white"
           },
           "zaxis": {
            "backgroundcolor": "#E5ECF6",
            "gridcolor": "white",
            "gridwidth": 2,
            "linecolor": "white",
            "showbackground": true,
            "ticks": "",
            "zerolinecolor": "white"
           }
          },
          "shapedefaults": {
           "line": {
            "color": "#2a3f5f"
           }
          },
          "ternary": {
           "aaxis": {
            "gridcolor": "white",
            "linecolor": "white",
            "ticks": ""
           },
           "baxis": {
            "gridcolor": "white",
            "linecolor": "white",
            "ticks": ""
           },
           "bgcolor": "#E5ECF6",
           "caxis": {
            "gridcolor": "white",
            "linecolor": "white",
            "ticks": ""
           }
          },
          "title": {
           "x": 0.05
          },
          "xaxis": {
           "automargin": true,
           "gridcolor": "white",
           "linecolor": "white",
           "ticks": "",
           "title": {
            "standoff": 15
           },
           "zerolinecolor": "white",
           "zerolinewidth": 2
          },
          "yaxis": {
           "automargin": true,
           "gridcolor": "white",
           "linecolor": "white",
           "ticks": "",
           "title": {
            "standoff": 15
           },
           "zerolinecolor": "white",
           "zerolinewidth": 2
          }
         }
        },
        "title": {
         "text": "Która kategoria najlepiej Panią/Pana charakteryzuje?"
        },
        "width": 800
       }
      }
     },
     "metadata": {},
     "output_type": "display_data"
    }
   ],
   "source": [
    "\n",
    "labels = df['Która kategoria najlepiej Panią/Pana charakteryzuje?'].value_counts().index\n",
    "values = df['Która kategoria najlepiej Panią/Pana charakteryzuje?'].value_counts().values\n",
    "\n",
    "style = px.colors.qualitative.Prism\n",
    "color_palette = [style[0], style[3], style[6]]\n",
    "\n",
    "fig = go.Figure(data=[go.Pie(\n",
    "    labels=labels,\n",
    "    values=values,\n",
    "    # pull=[0,0,0.1]\n",
    ")])\n",
    "\n",
    "fig.update_layout(\n",
    "    width=800,\n",
    "    height=400,\n",
    "    margin=dict(t=75, b=25, l=50, r=50),\n",
    "    showlegend=True,\n",
    "    colorway=color_palette,\n",
    "    # font_family=\"Times New Roman\",\n",
    "    font_family=\"Courier New\",\n",
    "    font_color=\"black\",\n",
    "    font = dict(size=16),\n",
    "    title=dict(text='Która kategoria najlepiej Panią/Pana charakteryzuje?')\n",
    ")\n",
    "\n",
    "fig.update_traces(textfont_size=20,\n",
    "                  marker=dict( line=dict(color='white', width=1)))\n",
    "\n",
    "fig.show()\n",
    "\n",
    "\n",
    "\n",
    "fig.write_image(\"images/kategoria.svg\")\n",
    "fig.write_image(\"images/kategoria.png\")\n",
    "\n"
   ]
  },
  {
   "cell_type": "code",
   "execution_count": 113,
   "metadata": {},
   "outputs": [
    {
     "data": {
      "application/vnd.plotly.v1+json": {
       "config": {
        "plotlyServerURL": "https://plot.ly"
       },
       "data": [
        {
         "labels": [
          "przyjemna dla ucha.",
          "nieprzyjemna dla ucha."
         ],
         "marker": {
          "line": {
           "color": "white",
           "width": 1
          }
         },
         "textfont": {
          "size": 20
         },
         "type": "pie",
         "values": [
          89,
          5
         ]
        }
       ],
       "layout": {
        "colorway": [
         "rgb(29, 105, 150)",
         "rgb(204, 80, 62)"
        ],
        "font": {
         "color": "black",
         "family": "Courier New",
         "size": 16
        },
        "height": 400,
        "margin": {
         "b": 25,
         "l": 50,
         "r": 50,
         "t": 75
        },
        "showlegend": true,
        "template": {
         "data": {
          "bar": [
           {
            "error_x": {
             "color": "#2a3f5f"
            },
            "error_y": {
             "color": "#2a3f5f"
            },
            "marker": {
             "line": {
              "color": "#E5ECF6",
              "width": 0.5
             },
             "pattern": {
              "fillmode": "overlay",
              "size": 10,
              "solidity": 0.2
             }
            },
            "type": "bar"
           }
          ],
          "barpolar": [
           {
            "marker": {
             "line": {
              "color": "#E5ECF6",
              "width": 0.5
             },
             "pattern": {
              "fillmode": "overlay",
              "size": 10,
              "solidity": 0.2
             }
            },
            "type": "barpolar"
           }
          ],
          "carpet": [
           {
            "aaxis": {
             "endlinecolor": "#2a3f5f",
             "gridcolor": "white",
             "linecolor": "white",
             "minorgridcolor": "white",
             "startlinecolor": "#2a3f5f"
            },
            "baxis": {
             "endlinecolor": "#2a3f5f",
             "gridcolor": "white",
             "linecolor": "white",
             "minorgridcolor": "white",
             "startlinecolor": "#2a3f5f"
            },
            "type": "carpet"
           }
          ],
          "choropleth": [
           {
            "colorbar": {
             "outlinewidth": 0,
             "ticks": ""
            },
            "type": "choropleth"
           }
          ],
          "contour": [
           {
            "colorbar": {
             "outlinewidth": 0,
             "ticks": ""
            },
            "colorscale": [
             [
              0,
              "#0d0887"
             ],
             [
              0.1111111111111111,
              "#46039f"
             ],
             [
              0.2222222222222222,
              "#7201a8"
             ],
             [
              0.3333333333333333,
              "#9c179e"
             ],
             [
              0.4444444444444444,
              "#bd3786"
             ],
             [
              0.5555555555555556,
              "#d8576b"
             ],
             [
              0.6666666666666666,
              "#ed7953"
             ],
             [
              0.7777777777777778,
              "#fb9f3a"
             ],
             [
              0.8888888888888888,
              "#fdca26"
             ],
             [
              1,
              "#f0f921"
             ]
            ],
            "type": "contour"
           }
          ],
          "contourcarpet": [
           {
            "colorbar": {
             "outlinewidth": 0,
             "ticks": ""
            },
            "type": "contourcarpet"
           }
          ],
          "heatmap": [
           {
            "colorbar": {
             "outlinewidth": 0,
             "ticks": ""
            },
            "colorscale": [
             [
              0,
              "#0d0887"
             ],
             [
              0.1111111111111111,
              "#46039f"
             ],
             [
              0.2222222222222222,
              "#7201a8"
             ],
             [
              0.3333333333333333,
              "#9c179e"
             ],
             [
              0.4444444444444444,
              "#bd3786"
             ],
             [
              0.5555555555555556,
              "#d8576b"
             ],
             [
              0.6666666666666666,
              "#ed7953"
             ],
             [
              0.7777777777777778,
              "#fb9f3a"
             ],
             [
              0.8888888888888888,
              "#fdca26"
             ],
             [
              1,
              "#f0f921"
             ]
            ],
            "type": "heatmap"
           }
          ],
          "heatmapgl": [
           {
            "colorbar": {
             "outlinewidth": 0,
             "ticks": ""
            },
            "colorscale": [
             [
              0,
              "#0d0887"
             ],
             [
              0.1111111111111111,
              "#46039f"
             ],
             [
              0.2222222222222222,
              "#7201a8"
             ],
             [
              0.3333333333333333,
              "#9c179e"
             ],
             [
              0.4444444444444444,
              "#bd3786"
             ],
             [
              0.5555555555555556,
              "#d8576b"
             ],
             [
              0.6666666666666666,
              "#ed7953"
             ],
             [
              0.7777777777777778,
              "#fb9f3a"
             ],
             [
              0.8888888888888888,
              "#fdca26"
             ],
             [
              1,
              "#f0f921"
             ]
            ],
            "type": "heatmapgl"
           }
          ],
          "histogram": [
           {
            "marker": {
             "pattern": {
              "fillmode": "overlay",
              "size": 10,
              "solidity": 0.2
             }
            },
            "type": "histogram"
           }
          ],
          "histogram2d": [
           {
            "colorbar": {
             "outlinewidth": 0,
             "ticks": ""
            },
            "colorscale": [
             [
              0,
              "#0d0887"
             ],
             [
              0.1111111111111111,
              "#46039f"
             ],
             [
              0.2222222222222222,
              "#7201a8"
             ],
             [
              0.3333333333333333,
              "#9c179e"
             ],
             [
              0.4444444444444444,
              "#bd3786"
             ],
             [
              0.5555555555555556,
              "#d8576b"
             ],
             [
              0.6666666666666666,
              "#ed7953"
             ],
             [
              0.7777777777777778,
              "#fb9f3a"
             ],
             [
              0.8888888888888888,
              "#fdca26"
             ],
             [
              1,
              "#f0f921"
             ]
            ],
            "type": "histogram2d"
           }
          ],
          "histogram2dcontour": [
           {
            "colorbar": {
             "outlinewidth": 0,
             "ticks": ""
            },
            "colorscale": [
             [
              0,
              "#0d0887"
             ],
             [
              0.1111111111111111,
              "#46039f"
             ],
             [
              0.2222222222222222,
              "#7201a8"
             ],
             [
              0.3333333333333333,
              "#9c179e"
             ],
             [
              0.4444444444444444,
              "#bd3786"
             ],
             [
              0.5555555555555556,
              "#d8576b"
             ],
             [
              0.6666666666666666,
              "#ed7953"
             ],
             [
              0.7777777777777778,
              "#fb9f3a"
             ],
             [
              0.8888888888888888,
              "#fdca26"
             ],
             [
              1,
              "#f0f921"
             ]
            ],
            "type": "histogram2dcontour"
           }
          ],
          "mesh3d": [
           {
            "colorbar": {
             "outlinewidth": 0,
             "ticks": ""
            },
            "type": "mesh3d"
           }
          ],
          "parcoords": [
           {
            "line": {
             "colorbar": {
              "outlinewidth": 0,
              "ticks": ""
             }
            },
            "type": "parcoords"
           }
          ],
          "pie": [
           {
            "automargin": true,
            "type": "pie"
           }
          ],
          "scatter": [
           {
            "fillpattern": {
             "fillmode": "overlay",
             "size": 10,
             "solidity": 0.2
            },
            "type": "scatter"
           }
          ],
          "scatter3d": [
           {
            "line": {
             "colorbar": {
              "outlinewidth": 0,
              "ticks": ""
             }
            },
            "marker": {
             "colorbar": {
              "outlinewidth": 0,
              "ticks": ""
             }
            },
            "type": "scatter3d"
           }
          ],
          "scattercarpet": [
           {
            "marker": {
             "colorbar": {
              "outlinewidth": 0,
              "ticks": ""
             }
            },
            "type": "scattercarpet"
           }
          ],
          "scattergeo": [
           {
            "marker": {
             "colorbar": {
              "outlinewidth": 0,
              "ticks": ""
             }
            },
            "type": "scattergeo"
           }
          ],
          "scattergl": [
           {
            "marker": {
             "colorbar": {
              "outlinewidth": 0,
              "ticks": ""
             }
            },
            "type": "scattergl"
           }
          ],
          "scattermapbox": [
           {
            "marker": {
             "colorbar": {
              "outlinewidth": 0,
              "ticks": ""
             }
            },
            "type": "scattermapbox"
           }
          ],
          "scatterpolar": [
           {
            "marker": {
             "colorbar": {
              "outlinewidth": 0,
              "ticks": ""
             }
            },
            "type": "scatterpolar"
           }
          ],
          "scatterpolargl": [
           {
            "marker": {
             "colorbar": {
              "outlinewidth": 0,
              "ticks": ""
             }
            },
            "type": "scatterpolargl"
           }
          ],
          "scatterternary": [
           {
            "marker": {
             "colorbar": {
              "outlinewidth": 0,
              "ticks": ""
             }
            },
            "type": "scatterternary"
           }
          ],
          "surface": [
           {
            "colorbar": {
             "outlinewidth": 0,
             "ticks": ""
            },
            "colorscale": [
             [
              0,
              "#0d0887"
             ],
             [
              0.1111111111111111,
              "#46039f"
             ],
             [
              0.2222222222222222,
              "#7201a8"
             ],
             [
              0.3333333333333333,
              "#9c179e"
             ],
             [
              0.4444444444444444,
              "#bd3786"
             ],
             [
              0.5555555555555556,
              "#d8576b"
             ],
             [
              0.6666666666666666,
              "#ed7953"
             ],
             [
              0.7777777777777778,
              "#fb9f3a"
             ],
             [
              0.8888888888888888,
              "#fdca26"
             ],
             [
              1,
              "#f0f921"
             ]
            ],
            "type": "surface"
           }
          ],
          "table": [
           {
            "cells": {
             "fill": {
              "color": "#EBF0F8"
             },
             "line": {
              "color": "white"
             }
            },
            "header": {
             "fill": {
              "color": "#C8D4E3"
             },
             "line": {
              "color": "white"
             }
            },
            "type": "table"
           }
          ]
         },
         "layout": {
          "annotationdefaults": {
           "arrowcolor": "#2a3f5f",
           "arrowhead": 0,
           "arrowwidth": 1
          },
          "autotypenumbers": "strict",
          "coloraxis": {
           "colorbar": {
            "outlinewidth": 0,
            "ticks": ""
           }
          },
          "colorscale": {
           "diverging": [
            [
             0,
             "#8e0152"
            ],
            [
             0.1,
             "#c51b7d"
            ],
            [
             0.2,
             "#de77ae"
            ],
            [
             0.3,
             "#f1b6da"
            ],
            [
             0.4,
             "#fde0ef"
            ],
            [
             0.5,
             "#f7f7f7"
            ],
            [
             0.6,
             "#e6f5d0"
            ],
            [
             0.7,
             "#b8e186"
            ],
            [
             0.8,
             "#7fbc41"
            ],
            [
             0.9,
             "#4d9221"
            ],
            [
             1,
             "#276419"
            ]
           ],
           "sequential": [
            [
             0,
             "#0d0887"
            ],
            [
             0.1111111111111111,
             "#46039f"
            ],
            [
             0.2222222222222222,
             "#7201a8"
            ],
            [
             0.3333333333333333,
             "#9c179e"
            ],
            [
             0.4444444444444444,
             "#bd3786"
            ],
            [
             0.5555555555555556,
             "#d8576b"
            ],
            [
             0.6666666666666666,
             "#ed7953"
            ],
            [
             0.7777777777777778,
             "#fb9f3a"
            ],
            [
             0.8888888888888888,
             "#fdca26"
            ],
            [
             1,
             "#f0f921"
            ]
           ],
           "sequentialminus": [
            [
             0,
             "#0d0887"
            ],
            [
             0.1111111111111111,
             "#46039f"
            ],
            [
             0.2222222222222222,
             "#7201a8"
            ],
            [
             0.3333333333333333,
             "#9c179e"
            ],
            [
             0.4444444444444444,
             "#bd3786"
            ],
            [
             0.5555555555555556,
             "#d8576b"
            ],
            [
             0.6666666666666666,
             "#ed7953"
            ],
            [
             0.7777777777777778,
             "#fb9f3a"
            ],
            [
             0.8888888888888888,
             "#fdca26"
            ],
            [
             1,
             "#f0f921"
            ]
           ]
          },
          "colorway": [
           "#636efa",
           "#EF553B",
           "#00cc96",
           "#ab63fa",
           "#FFA15A",
           "#19d3f3",
           "#FF6692",
           "#B6E880",
           "#FF97FF",
           "#FECB52"
          ],
          "font": {
           "color": "#2a3f5f"
          },
          "geo": {
           "bgcolor": "white",
           "lakecolor": "white",
           "landcolor": "#E5ECF6",
           "showlakes": true,
           "showland": true,
           "subunitcolor": "white"
          },
          "hoverlabel": {
           "align": "left"
          },
          "hovermode": "closest",
          "mapbox": {
           "style": "light"
          },
          "paper_bgcolor": "white",
          "plot_bgcolor": "#E5ECF6",
          "polar": {
           "angularaxis": {
            "gridcolor": "white",
            "linecolor": "white",
            "ticks": ""
           },
           "bgcolor": "#E5ECF6",
           "radialaxis": {
            "gridcolor": "white",
            "linecolor": "white",
            "ticks": ""
           }
          },
          "scene": {
           "xaxis": {
            "backgroundcolor": "#E5ECF6",
            "gridcolor": "white",
            "gridwidth": 2,
            "linecolor": "white",
            "showbackground": true,
            "ticks": "",
            "zerolinecolor": "white"
           },
           "yaxis": {
            "backgroundcolor": "#E5ECF6",
            "gridcolor": "white",
            "gridwidth": 2,
            "linecolor": "white",
            "showbackground": true,
            "ticks": "",
            "zerolinecolor": "white"
           },
           "zaxis": {
            "backgroundcolor": "#E5ECF6",
            "gridcolor": "white",
            "gridwidth": 2,
            "linecolor": "white",
            "showbackground": true,
            "ticks": "",
            "zerolinecolor": "white"
           }
          },
          "shapedefaults": {
           "line": {
            "color": "#2a3f5f"
           }
          },
          "ternary": {
           "aaxis": {
            "gridcolor": "white",
            "linecolor": "white",
            "ticks": ""
           },
           "baxis": {
            "gridcolor": "white",
            "linecolor": "white",
            "ticks": ""
           },
           "bgcolor": "#E5ECF6",
           "caxis": {
            "gridcolor": "white",
            "linecolor": "white",
            "ticks": ""
           }
          },
          "title": {
           "x": 0.05
          },
          "xaxis": {
           "automargin": true,
           "gridcolor": "white",
           "linecolor": "white",
           "ticks": "",
           "title": {
            "standoff": 15
           },
           "zerolinecolor": "white",
           "zerolinewidth": 2
          },
          "yaxis": {
           "automargin": true,
           "gridcolor": "white",
           "linecolor": "white",
           "ticks": "",
           "title": {
            "standoff": 15
           },
           "zerolinecolor": "white",
           "zerolinewidth": 2
          }
         }
        },
        "title": {
         "text": "Wszyscy ankietowani: Melodia 1.1 jest"
        },
        "width": 800
       }
      }
     },
     "metadata": {},
     "output_type": "display_data"
    }
   ],
   "source": [
    "labels1_1 = df['Melodia 1.1 jest'].value_counts().index\n",
    "\n",
    "labels1_1 = [\"przyjemna dla ucha.\", \"nieprzyjemna dla ucha.\"]\n",
    "values1_1 = df['Melodia 1.1 jest'].value_counts().values\n",
    "\n",
    "style = px.colors.qualitative.Prism\n",
    "color_palette = [style[1], style[7]]\n",
    "\n",
    "fig = go.Figure(data=[go.Pie(\n",
    "    labels=labels1_1,\n",
    "    values=values1_1,\n",
    "    # pull=[0,0,0.1]\n",
    ")])\n",
    "\n",
    "fig.update_layout(\n",
    "    width=800,\n",
    "    height=400,\n",
    "    margin=dict(t=75, b=25, l=50, r=50),\n",
    "    showlegend=True,\n",
    "    colorway=color_palette,\n",
    "    # font_family=\"Times New Roman\",\n",
    "    font_family=\"Courier New\",\n",
    "    font_color=\"black\",\n",
    "    font = dict(size=16),\n",
    "    title=dict(text='Wszyscy ankietowani: Melodia 1.1 jest')\n",
    ")\n",
    "\n",
    "fig.update_traces(textfont_size=20,\n",
    "                  marker=dict( line=dict(color='white', width=1)))\n",
    "\n",
    "fig.show()\n",
    "\n",
    "fig.write_image(\"images/pytanie1_1_all.svg\")\n",
    "fig.write_image(\"images/pytanie1_1_all.png\")\n"
   ]
  },
  {
   "cell_type": "code",
   "execution_count": 114,
   "metadata": {},
   "outputs": [
    {
     "data": {
      "application/vnd.plotly.v1+json": {
       "config": {
        "plotlyServerURL": "https://plot.ly"
       },
       "data": [
        {
         "labels": [
          "przyjemna dla ucha.",
          "nieprzyjemna dla ucha."
         ],
         "marker": {
          "line": {
           "color": "white",
           "width": 1
          }
         },
         "textfont": {
          "size": 20
         },
         "type": "pie",
         "values": [
          29,
          1
         ]
        }
       ],
       "layout": {
        "colorway": [
         "rgb(29, 105, 150)",
         "rgb(204, 80, 62)"
        ],
        "font": {
         "color": "black",
         "family": "Courier New",
         "size": 16
        },
        "height": 400,
        "margin": {
         "b": 25,
         "l": 50,
         "r": 50,
         "t": 75
        },
        "showlegend": true,
        "template": {
         "data": {
          "bar": [
           {
            "error_x": {
             "color": "#2a3f5f"
            },
            "error_y": {
             "color": "#2a3f5f"
            },
            "marker": {
             "line": {
              "color": "#E5ECF6",
              "width": 0.5
             },
             "pattern": {
              "fillmode": "overlay",
              "size": 10,
              "solidity": 0.2
             }
            },
            "type": "bar"
           }
          ],
          "barpolar": [
           {
            "marker": {
             "line": {
              "color": "#E5ECF6",
              "width": 0.5
             },
             "pattern": {
              "fillmode": "overlay",
              "size": 10,
              "solidity": 0.2
             }
            },
            "type": "barpolar"
           }
          ],
          "carpet": [
           {
            "aaxis": {
             "endlinecolor": "#2a3f5f",
             "gridcolor": "white",
             "linecolor": "white",
             "minorgridcolor": "white",
             "startlinecolor": "#2a3f5f"
            },
            "baxis": {
             "endlinecolor": "#2a3f5f",
             "gridcolor": "white",
             "linecolor": "white",
             "minorgridcolor": "white",
             "startlinecolor": "#2a3f5f"
            },
            "type": "carpet"
           }
          ],
          "choropleth": [
           {
            "colorbar": {
             "outlinewidth": 0,
             "ticks": ""
            },
            "type": "choropleth"
           }
          ],
          "contour": [
           {
            "colorbar": {
             "outlinewidth": 0,
             "ticks": ""
            },
            "colorscale": [
             [
              0,
              "#0d0887"
             ],
             [
              0.1111111111111111,
              "#46039f"
             ],
             [
              0.2222222222222222,
              "#7201a8"
             ],
             [
              0.3333333333333333,
              "#9c179e"
             ],
             [
              0.4444444444444444,
              "#bd3786"
             ],
             [
              0.5555555555555556,
              "#d8576b"
             ],
             [
              0.6666666666666666,
              "#ed7953"
             ],
             [
              0.7777777777777778,
              "#fb9f3a"
             ],
             [
              0.8888888888888888,
              "#fdca26"
             ],
             [
              1,
              "#f0f921"
             ]
            ],
            "type": "contour"
           }
          ],
          "contourcarpet": [
           {
            "colorbar": {
             "outlinewidth": 0,
             "ticks": ""
            },
            "type": "contourcarpet"
           }
          ],
          "heatmap": [
           {
            "colorbar": {
             "outlinewidth": 0,
             "ticks": ""
            },
            "colorscale": [
             [
              0,
              "#0d0887"
             ],
             [
              0.1111111111111111,
              "#46039f"
             ],
             [
              0.2222222222222222,
              "#7201a8"
             ],
             [
              0.3333333333333333,
              "#9c179e"
             ],
             [
              0.4444444444444444,
              "#bd3786"
             ],
             [
              0.5555555555555556,
              "#d8576b"
             ],
             [
              0.6666666666666666,
              "#ed7953"
             ],
             [
              0.7777777777777778,
              "#fb9f3a"
             ],
             [
              0.8888888888888888,
              "#fdca26"
             ],
             [
              1,
              "#f0f921"
             ]
            ],
            "type": "heatmap"
           }
          ],
          "heatmapgl": [
           {
            "colorbar": {
             "outlinewidth": 0,
             "ticks": ""
            },
            "colorscale": [
             [
              0,
              "#0d0887"
             ],
             [
              0.1111111111111111,
              "#46039f"
             ],
             [
              0.2222222222222222,
              "#7201a8"
             ],
             [
              0.3333333333333333,
              "#9c179e"
             ],
             [
              0.4444444444444444,
              "#bd3786"
             ],
             [
              0.5555555555555556,
              "#d8576b"
             ],
             [
              0.6666666666666666,
              "#ed7953"
             ],
             [
              0.7777777777777778,
              "#fb9f3a"
             ],
             [
              0.8888888888888888,
              "#fdca26"
             ],
             [
              1,
              "#f0f921"
             ]
            ],
            "type": "heatmapgl"
           }
          ],
          "histogram": [
           {
            "marker": {
             "pattern": {
              "fillmode": "overlay",
              "size": 10,
              "solidity": 0.2
             }
            },
            "type": "histogram"
           }
          ],
          "histogram2d": [
           {
            "colorbar": {
             "outlinewidth": 0,
             "ticks": ""
            },
            "colorscale": [
             [
              0,
              "#0d0887"
             ],
             [
              0.1111111111111111,
              "#46039f"
             ],
             [
              0.2222222222222222,
              "#7201a8"
             ],
             [
              0.3333333333333333,
              "#9c179e"
             ],
             [
              0.4444444444444444,
              "#bd3786"
             ],
             [
              0.5555555555555556,
              "#d8576b"
             ],
             [
              0.6666666666666666,
              "#ed7953"
             ],
             [
              0.7777777777777778,
              "#fb9f3a"
             ],
             [
              0.8888888888888888,
              "#fdca26"
             ],
             [
              1,
              "#f0f921"
             ]
            ],
            "type": "histogram2d"
           }
          ],
          "histogram2dcontour": [
           {
            "colorbar": {
             "outlinewidth": 0,
             "ticks": ""
            },
            "colorscale": [
             [
              0,
              "#0d0887"
             ],
             [
              0.1111111111111111,
              "#46039f"
             ],
             [
              0.2222222222222222,
              "#7201a8"
             ],
             [
              0.3333333333333333,
              "#9c179e"
             ],
             [
              0.4444444444444444,
              "#bd3786"
             ],
             [
              0.5555555555555556,
              "#d8576b"
             ],
             [
              0.6666666666666666,
              "#ed7953"
             ],
             [
              0.7777777777777778,
              "#fb9f3a"
             ],
             [
              0.8888888888888888,
              "#fdca26"
             ],
             [
              1,
              "#f0f921"
             ]
            ],
            "type": "histogram2dcontour"
           }
          ],
          "mesh3d": [
           {
            "colorbar": {
             "outlinewidth": 0,
             "ticks": ""
            },
            "type": "mesh3d"
           }
          ],
          "parcoords": [
           {
            "line": {
             "colorbar": {
              "outlinewidth": 0,
              "ticks": ""
             }
            },
            "type": "parcoords"
           }
          ],
          "pie": [
           {
            "automargin": true,
            "type": "pie"
           }
          ],
          "scatter": [
           {
            "fillpattern": {
             "fillmode": "overlay",
             "size": 10,
             "solidity": 0.2
            },
            "type": "scatter"
           }
          ],
          "scatter3d": [
           {
            "line": {
             "colorbar": {
              "outlinewidth": 0,
              "ticks": ""
             }
            },
            "marker": {
             "colorbar": {
              "outlinewidth": 0,
              "ticks": ""
             }
            },
            "type": "scatter3d"
           }
          ],
          "scattercarpet": [
           {
            "marker": {
             "colorbar": {
              "outlinewidth": 0,
              "ticks": ""
             }
            },
            "type": "scattercarpet"
           }
          ],
          "scattergeo": [
           {
            "marker": {
             "colorbar": {
              "outlinewidth": 0,
              "ticks": ""
             }
            },
            "type": "scattergeo"
           }
          ],
          "scattergl": [
           {
            "marker": {
             "colorbar": {
              "outlinewidth": 0,
              "ticks": ""
             }
            },
            "type": "scattergl"
           }
          ],
          "scattermapbox": [
           {
            "marker": {
             "colorbar": {
              "outlinewidth": 0,
              "ticks": ""
             }
            },
            "type": "scattermapbox"
           }
          ],
          "scatterpolar": [
           {
            "marker": {
             "colorbar": {
              "outlinewidth": 0,
              "ticks": ""
             }
            },
            "type": "scatterpolar"
           }
          ],
          "scatterpolargl": [
           {
            "marker": {
             "colorbar": {
              "outlinewidth": 0,
              "ticks": ""
             }
            },
            "type": "scatterpolargl"
           }
          ],
          "scatterternary": [
           {
            "marker": {
             "colorbar": {
              "outlinewidth": 0,
              "ticks": ""
             }
            },
            "type": "scatterternary"
           }
          ],
          "surface": [
           {
            "colorbar": {
             "outlinewidth": 0,
             "ticks": ""
            },
            "colorscale": [
             [
              0,
              "#0d0887"
             ],
             [
              0.1111111111111111,
              "#46039f"
             ],
             [
              0.2222222222222222,
              "#7201a8"
             ],
             [
              0.3333333333333333,
              "#9c179e"
             ],
             [
              0.4444444444444444,
              "#bd3786"
             ],
             [
              0.5555555555555556,
              "#d8576b"
             ],
             [
              0.6666666666666666,
              "#ed7953"
             ],
             [
              0.7777777777777778,
              "#fb9f3a"
             ],
             [
              0.8888888888888888,
              "#fdca26"
             ],
             [
              1,
              "#f0f921"
             ]
            ],
            "type": "surface"
           }
          ],
          "table": [
           {
            "cells": {
             "fill": {
              "color": "#EBF0F8"
             },
             "line": {
              "color": "white"
             }
            },
            "header": {
             "fill": {
              "color": "#C8D4E3"
             },
             "line": {
              "color": "white"
             }
            },
            "type": "table"
           }
          ]
         },
         "layout": {
          "annotationdefaults": {
           "arrowcolor": "#2a3f5f",
           "arrowhead": 0,
           "arrowwidth": 1
          },
          "autotypenumbers": "strict",
          "coloraxis": {
           "colorbar": {
            "outlinewidth": 0,
            "ticks": ""
           }
          },
          "colorscale": {
           "diverging": [
            [
             0,
             "#8e0152"
            ],
            [
             0.1,
             "#c51b7d"
            ],
            [
             0.2,
             "#de77ae"
            ],
            [
             0.3,
             "#f1b6da"
            ],
            [
             0.4,
             "#fde0ef"
            ],
            [
             0.5,
             "#f7f7f7"
            ],
            [
             0.6,
             "#e6f5d0"
            ],
            [
             0.7,
             "#b8e186"
            ],
            [
             0.8,
             "#7fbc41"
            ],
            [
             0.9,
             "#4d9221"
            ],
            [
             1,
             "#276419"
            ]
           ],
           "sequential": [
            [
             0,
             "#0d0887"
            ],
            [
             0.1111111111111111,
             "#46039f"
            ],
            [
             0.2222222222222222,
             "#7201a8"
            ],
            [
             0.3333333333333333,
             "#9c179e"
            ],
            [
             0.4444444444444444,
             "#bd3786"
            ],
            [
             0.5555555555555556,
             "#d8576b"
            ],
            [
             0.6666666666666666,
             "#ed7953"
            ],
            [
             0.7777777777777778,
             "#fb9f3a"
            ],
            [
             0.8888888888888888,
             "#fdca26"
            ],
            [
             1,
             "#f0f921"
            ]
           ],
           "sequentialminus": [
            [
             0,
             "#0d0887"
            ],
            [
             0.1111111111111111,
             "#46039f"
            ],
            [
             0.2222222222222222,
             "#7201a8"
            ],
            [
             0.3333333333333333,
             "#9c179e"
            ],
            [
             0.4444444444444444,
             "#bd3786"
            ],
            [
             0.5555555555555556,
             "#d8576b"
            ],
            [
             0.6666666666666666,
             "#ed7953"
            ],
            [
             0.7777777777777778,
             "#fb9f3a"
            ],
            [
             0.8888888888888888,
             "#fdca26"
            ],
            [
             1,
             "#f0f921"
            ]
           ]
          },
          "colorway": [
           "#636efa",
           "#EF553B",
           "#00cc96",
           "#ab63fa",
           "#FFA15A",
           "#19d3f3",
           "#FF6692",
           "#B6E880",
           "#FF97FF",
           "#FECB52"
          ],
          "font": {
           "color": "#2a3f5f"
          },
          "geo": {
           "bgcolor": "white",
           "lakecolor": "white",
           "landcolor": "#E5ECF6",
           "showlakes": true,
           "showland": true,
           "subunitcolor": "white"
          },
          "hoverlabel": {
           "align": "left"
          },
          "hovermode": "closest",
          "mapbox": {
           "style": "light"
          },
          "paper_bgcolor": "white",
          "plot_bgcolor": "#E5ECF6",
          "polar": {
           "angularaxis": {
            "gridcolor": "white",
            "linecolor": "white",
            "ticks": ""
           },
           "bgcolor": "#E5ECF6",
           "radialaxis": {
            "gridcolor": "white",
            "linecolor": "white",
            "ticks": ""
           }
          },
          "scene": {
           "xaxis": {
            "backgroundcolor": "#E5ECF6",
            "gridcolor": "white",
            "gridwidth": 2,
            "linecolor": "white",
            "showbackground": true,
            "ticks": "",
            "zerolinecolor": "white"
           },
           "yaxis": {
            "backgroundcolor": "#E5ECF6",
            "gridcolor": "white",
            "gridwidth": 2,
            "linecolor": "white",
            "showbackground": true,
            "ticks": "",
            "zerolinecolor": "white"
           },
           "zaxis": {
            "backgroundcolor": "#E5ECF6",
            "gridcolor": "white",
            "gridwidth": 2,
            "linecolor": "white",
            "showbackground": true,
            "ticks": "",
            "zerolinecolor": "white"
           }
          },
          "shapedefaults": {
           "line": {
            "color": "#2a3f5f"
           }
          },
          "ternary": {
           "aaxis": {
            "gridcolor": "white",
            "linecolor": "white",
            "ticks": ""
           },
           "baxis": {
            "gridcolor": "white",
            "linecolor": "white",
            "ticks": ""
           },
           "bgcolor": "#E5ECF6",
           "caxis": {
            "gridcolor": "white",
            "linecolor": "white",
            "ticks": ""
           }
          },
          "title": {
           "x": 0.05
          },
          "xaxis": {
           "automargin": true,
           "gridcolor": "white",
           "linecolor": "white",
           "ticks": "",
           "title": {
            "standoff": 15
           },
           "zerolinecolor": "white",
           "zerolinewidth": 2
          },
          "yaxis": {
           "automargin": true,
           "gridcolor": "white",
           "linecolor": "white",
           "ticks": "",
           "title": {
            "standoff": 15
           },
           "zerolinecolor": "white",
           "zerolinewidth": 2
          }
         }
        },
        "title": {
         "text": "Muzycy: Melodia 1.1 jest"
        },
        "width": 800
       }
      }
     },
     "metadata": {},
     "output_type": "display_data"
    }
   ],
   "source": [
    "valuesMusician1_1 = df_musician['Melodia 1.1 jest'].value_counts().values\n",
    "\n",
    "style = px.colors.qualitative.Prism\n",
    "color_palette = [style[1], style[7]]\n",
    "\n",
    "fig = go.Figure(data=[go.Pie(\n",
    "    labels=labels1_1,\n",
    "    values=valuesMusician1_1,\n",
    "    # pull=[0,0,0.1]\n",
    ")])\n",
    "\n",
    "fig.update_layout(\n",
    "    width=800,\n",
    "    height=400,\n",
    "    margin=dict(t=75, b=25, l=50, r=50),\n",
    "    showlegend=True,\n",
    "    colorway=color_palette,\n",
    "    # font_family=\"Times New Roman\",\n",
    "    font_family=\"Courier New\",\n",
    "    font_color=\"black\",\n",
    "    font = dict(size=16),\n",
    "    title=dict(text='Muzycy: Melodia 1.1 jest')\n",
    ")\n",
    "\n",
    "fig.update_traces(textfont_size=20,\n",
    "                  marker=dict( line=dict(color='white', width=1)))\n",
    "\n",
    "fig.show()\n",
    "\n",
    "fig.write_image(\"images/pytanie1_1_musician.svg\")\n",
    "fig.write_image(\"images/pytanie1_1_musician.png\")"
   ]
  },
  {
   "cell_type": "code",
   "execution_count": 115,
   "metadata": {},
   "outputs": [
    {
     "data": {
      "application/vnd.plotly.v1+json": {
       "config": {
        "plotlyServerURL": "https://plot.ly"
       },
       "data": [
        {
         "labels": [
          "przyjemna dla ucha.",
          "nieprzyjemna dla ucha."
         ],
         "marker": {
          "line": {
           "color": "white",
           "width": 1
          }
         },
         "textfont": {
          "size": 20
         },
         "type": "pie",
         "values": [
          33,
          2
         ]
        }
       ],
       "layout": {
        "colorway": [
         "rgb(29, 105, 150)",
         "rgb(204, 80, 62)"
        ],
        "font": {
         "color": "black",
         "family": "Courier New",
         "size": 16
        },
        "height": 400,
        "margin": {
         "b": 25,
         "l": 50,
         "r": 50,
         "t": 75
        },
        "showlegend": true,
        "template": {
         "data": {
          "bar": [
           {
            "error_x": {
             "color": "#2a3f5f"
            },
            "error_y": {
             "color": "#2a3f5f"
            },
            "marker": {
             "line": {
              "color": "#E5ECF6",
              "width": 0.5
             },
             "pattern": {
              "fillmode": "overlay",
              "size": 10,
              "solidity": 0.2
             }
            },
            "type": "bar"
           }
          ],
          "barpolar": [
           {
            "marker": {
             "line": {
              "color": "#E5ECF6",
              "width": 0.5
             },
             "pattern": {
              "fillmode": "overlay",
              "size": 10,
              "solidity": 0.2
             }
            },
            "type": "barpolar"
           }
          ],
          "carpet": [
           {
            "aaxis": {
             "endlinecolor": "#2a3f5f",
             "gridcolor": "white",
             "linecolor": "white",
             "minorgridcolor": "white",
             "startlinecolor": "#2a3f5f"
            },
            "baxis": {
             "endlinecolor": "#2a3f5f",
             "gridcolor": "white",
             "linecolor": "white",
             "minorgridcolor": "white",
             "startlinecolor": "#2a3f5f"
            },
            "type": "carpet"
           }
          ],
          "choropleth": [
           {
            "colorbar": {
             "outlinewidth": 0,
             "ticks": ""
            },
            "type": "choropleth"
           }
          ],
          "contour": [
           {
            "colorbar": {
             "outlinewidth": 0,
             "ticks": ""
            },
            "colorscale": [
             [
              0,
              "#0d0887"
             ],
             [
              0.1111111111111111,
              "#46039f"
             ],
             [
              0.2222222222222222,
              "#7201a8"
             ],
             [
              0.3333333333333333,
              "#9c179e"
             ],
             [
              0.4444444444444444,
              "#bd3786"
             ],
             [
              0.5555555555555556,
              "#d8576b"
             ],
             [
              0.6666666666666666,
              "#ed7953"
             ],
             [
              0.7777777777777778,
              "#fb9f3a"
             ],
             [
              0.8888888888888888,
              "#fdca26"
             ],
             [
              1,
              "#f0f921"
             ]
            ],
            "type": "contour"
           }
          ],
          "contourcarpet": [
           {
            "colorbar": {
             "outlinewidth": 0,
             "ticks": ""
            },
            "type": "contourcarpet"
           }
          ],
          "heatmap": [
           {
            "colorbar": {
             "outlinewidth": 0,
             "ticks": ""
            },
            "colorscale": [
             [
              0,
              "#0d0887"
             ],
             [
              0.1111111111111111,
              "#46039f"
             ],
             [
              0.2222222222222222,
              "#7201a8"
             ],
             [
              0.3333333333333333,
              "#9c179e"
             ],
             [
              0.4444444444444444,
              "#bd3786"
             ],
             [
              0.5555555555555556,
              "#d8576b"
             ],
             [
              0.6666666666666666,
              "#ed7953"
             ],
             [
              0.7777777777777778,
              "#fb9f3a"
             ],
             [
              0.8888888888888888,
              "#fdca26"
             ],
             [
              1,
              "#f0f921"
             ]
            ],
            "type": "heatmap"
           }
          ],
          "heatmapgl": [
           {
            "colorbar": {
             "outlinewidth": 0,
             "ticks": ""
            },
            "colorscale": [
             [
              0,
              "#0d0887"
             ],
             [
              0.1111111111111111,
              "#46039f"
             ],
             [
              0.2222222222222222,
              "#7201a8"
             ],
             [
              0.3333333333333333,
              "#9c179e"
             ],
             [
              0.4444444444444444,
              "#bd3786"
             ],
             [
              0.5555555555555556,
              "#d8576b"
             ],
             [
              0.6666666666666666,
              "#ed7953"
             ],
             [
              0.7777777777777778,
              "#fb9f3a"
             ],
             [
              0.8888888888888888,
              "#fdca26"
             ],
             [
              1,
              "#f0f921"
             ]
            ],
            "type": "heatmapgl"
           }
          ],
          "histogram": [
           {
            "marker": {
             "pattern": {
              "fillmode": "overlay",
              "size": 10,
              "solidity": 0.2
             }
            },
            "type": "histogram"
           }
          ],
          "histogram2d": [
           {
            "colorbar": {
             "outlinewidth": 0,
             "ticks": ""
            },
            "colorscale": [
             [
              0,
              "#0d0887"
             ],
             [
              0.1111111111111111,
              "#46039f"
             ],
             [
              0.2222222222222222,
              "#7201a8"
             ],
             [
              0.3333333333333333,
              "#9c179e"
             ],
             [
              0.4444444444444444,
              "#bd3786"
             ],
             [
              0.5555555555555556,
              "#d8576b"
             ],
             [
              0.6666666666666666,
              "#ed7953"
             ],
             [
              0.7777777777777778,
              "#fb9f3a"
             ],
             [
              0.8888888888888888,
              "#fdca26"
             ],
             [
              1,
              "#f0f921"
             ]
            ],
            "type": "histogram2d"
           }
          ],
          "histogram2dcontour": [
           {
            "colorbar": {
             "outlinewidth": 0,
             "ticks": ""
            },
            "colorscale": [
             [
              0,
              "#0d0887"
             ],
             [
              0.1111111111111111,
              "#46039f"
             ],
             [
              0.2222222222222222,
              "#7201a8"
             ],
             [
              0.3333333333333333,
              "#9c179e"
             ],
             [
              0.4444444444444444,
              "#bd3786"
             ],
             [
              0.5555555555555556,
              "#d8576b"
             ],
             [
              0.6666666666666666,
              "#ed7953"
             ],
             [
              0.7777777777777778,
              "#fb9f3a"
             ],
             [
              0.8888888888888888,
              "#fdca26"
             ],
             [
              1,
              "#f0f921"
             ]
            ],
            "type": "histogram2dcontour"
           }
          ],
          "mesh3d": [
           {
            "colorbar": {
             "outlinewidth": 0,
             "ticks": ""
            },
            "type": "mesh3d"
           }
          ],
          "parcoords": [
           {
            "line": {
             "colorbar": {
              "outlinewidth": 0,
              "ticks": ""
             }
            },
            "type": "parcoords"
           }
          ],
          "pie": [
           {
            "automargin": true,
            "type": "pie"
           }
          ],
          "scatter": [
           {
            "fillpattern": {
             "fillmode": "overlay",
             "size": 10,
             "solidity": 0.2
            },
            "type": "scatter"
           }
          ],
          "scatter3d": [
           {
            "line": {
             "colorbar": {
              "outlinewidth": 0,
              "ticks": ""
             }
            },
            "marker": {
             "colorbar": {
              "outlinewidth": 0,
              "ticks": ""
             }
            },
            "type": "scatter3d"
           }
          ],
          "scattercarpet": [
           {
            "marker": {
             "colorbar": {
              "outlinewidth": 0,
              "ticks": ""
             }
            },
            "type": "scattercarpet"
           }
          ],
          "scattergeo": [
           {
            "marker": {
             "colorbar": {
              "outlinewidth": 0,
              "ticks": ""
             }
            },
            "type": "scattergeo"
           }
          ],
          "scattergl": [
           {
            "marker": {
             "colorbar": {
              "outlinewidth": 0,
              "ticks": ""
             }
            },
            "type": "scattergl"
           }
          ],
          "scattermapbox": [
           {
            "marker": {
             "colorbar": {
              "outlinewidth": 0,
              "ticks": ""
             }
            },
            "type": "scattermapbox"
           }
          ],
          "scatterpolar": [
           {
            "marker": {
             "colorbar": {
              "outlinewidth": 0,
              "ticks": ""
             }
            },
            "type": "scatterpolar"
           }
          ],
          "scatterpolargl": [
           {
            "marker": {
             "colorbar": {
              "outlinewidth": 0,
              "ticks": ""
             }
            },
            "type": "scatterpolargl"
           }
          ],
          "scatterternary": [
           {
            "marker": {
             "colorbar": {
              "outlinewidth": 0,
              "ticks": ""
             }
            },
            "type": "scatterternary"
           }
          ],
          "surface": [
           {
            "colorbar": {
             "outlinewidth": 0,
             "ticks": ""
            },
            "colorscale": [
             [
              0,
              "#0d0887"
             ],
             [
              0.1111111111111111,
              "#46039f"
             ],
             [
              0.2222222222222222,
              "#7201a8"
             ],
             [
              0.3333333333333333,
              "#9c179e"
             ],
             [
              0.4444444444444444,
              "#bd3786"
             ],
             [
              0.5555555555555556,
              "#d8576b"
             ],
             [
              0.6666666666666666,
              "#ed7953"
             ],
             [
              0.7777777777777778,
              "#fb9f3a"
             ],
             [
              0.8888888888888888,
              "#fdca26"
             ],
             [
              1,
              "#f0f921"
             ]
            ],
            "type": "surface"
           }
          ],
          "table": [
           {
            "cells": {
             "fill": {
              "color": "#EBF0F8"
             },
             "line": {
              "color": "white"
             }
            },
            "header": {
             "fill": {
              "color": "#C8D4E3"
             },
             "line": {
              "color": "white"
             }
            },
            "type": "table"
           }
          ]
         },
         "layout": {
          "annotationdefaults": {
           "arrowcolor": "#2a3f5f",
           "arrowhead": 0,
           "arrowwidth": 1
          },
          "autotypenumbers": "strict",
          "coloraxis": {
           "colorbar": {
            "outlinewidth": 0,
            "ticks": ""
           }
          },
          "colorscale": {
           "diverging": [
            [
             0,
             "#8e0152"
            ],
            [
             0.1,
             "#c51b7d"
            ],
            [
             0.2,
             "#de77ae"
            ],
            [
             0.3,
             "#f1b6da"
            ],
            [
             0.4,
             "#fde0ef"
            ],
            [
             0.5,
             "#f7f7f7"
            ],
            [
             0.6,
             "#e6f5d0"
            ],
            [
             0.7,
             "#b8e186"
            ],
            [
             0.8,
             "#7fbc41"
            ],
            [
             0.9,
             "#4d9221"
            ],
            [
             1,
             "#276419"
            ]
           ],
           "sequential": [
            [
             0,
             "#0d0887"
            ],
            [
             0.1111111111111111,
             "#46039f"
            ],
            [
             0.2222222222222222,
             "#7201a8"
            ],
            [
             0.3333333333333333,
             "#9c179e"
            ],
            [
             0.4444444444444444,
             "#bd3786"
            ],
            [
             0.5555555555555556,
             "#d8576b"
            ],
            [
             0.6666666666666666,
             "#ed7953"
            ],
            [
             0.7777777777777778,
             "#fb9f3a"
            ],
            [
             0.8888888888888888,
             "#fdca26"
            ],
            [
             1,
             "#f0f921"
            ]
           ],
           "sequentialminus": [
            [
             0,
             "#0d0887"
            ],
            [
             0.1111111111111111,
             "#46039f"
            ],
            [
             0.2222222222222222,
             "#7201a8"
            ],
            [
             0.3333333333333333,
             "#9c179e"
            ],
            [
             0.4444444444444444,
             "#bd3786"
            ],
            [
             0.5555555555555556,
             "#d8576b"
            ],
            [
             0.6666666666666666,
             "#ed7953"
            ],
            [
             0.7777777777777778,
             "#fb9f3a"
            ],
            [
             0.8888888888888888,
             "#fdca26"
            ],
            [
             1,
             "#f0f921"
            ]
           ]
          },
          "colorway": [
           "#636efa",
           "#EF553B",
           "#00cc96",
           "#ab63fa",
           "#FFA15A",
           "#19d3f3",
           "#FF6692",
           "#B6E880",
           "#FF97FF",
           "#FECB52"
          ],
          "font": {
           "color": "#2a3f5f"
          },
          "geo": {
           "bgcolor": "white",
           "lakecolor": "white",
           "landcolor": "#E5ECF6",
           "showlakes": true,
           "showland": true,
           "subunitcolor": "white"
          },
          "hoverlabel": {
           "align": "left"
          },
          "hovermode": "closest",
          "mapbox": {
           "style": "light"
          },
          "paper_bgcolor": "white",
          "plot_bgcolor": "#E5ECF6",
          "polar": {
           "angularaxis": {
            "gridcolor": "white",
            "linecolor": "white",
            "ticks": ""
           },
           "bgcolor": "#E5ECF6",
           "radialaxis": {
            "gridcolor": "white",
            "linecolor": "white",
            "ticks": ""
           }
          },
          "scene": {
           "xaxis": {
            "backgroundcolor": "#E5ECF6",
            "gridcolor": "white",
            "gridwidth": 2,
            "linecolor": "white",
            "showbackground": true,
            "ticks": "",
            "zerolinecolor": "white"
           },
           "yaxis": {
            "backgroundcolor": "#E5ECF6",
            "gridcolor": "white",
            "gridwidth": 2,
            "linecolor": "white",
            "showbackground": true,
            "ticks": "",
            "zerolinecolor": "white"
           },
           "zaxis": {
            "backgroundcolor": "#E5ECF6",
            "gridcolor": "white",
            "gridwidth": 2,
            "linecolor": "white",
            "showbackground": true,
            "ticks": "",
            "zerolinecolor": "white"
           }
          },
          "shapedefaults": {
           "line": {
            "color": "#2a3f5f"
           }
          },
          "ternary": {
           "aaxis": {
            "gridcolor": "white",
            "linecolor": "white",
            "ticks": ""
           },
           "baxis": {
            "gridcolor": "white",
            "linecolor": "white",
            "ticks": ""
           },
           "bgcolor": "#E5ECF6",
           "caxis": {
            "gridcolor": "white",
            "linecolor": "white",
            "ticks": ""
           }
          },
          "title": {
           "x": 0.05
          },
          "xaxis": {
           "automargin": true,
           "gridcolor": "white",
           "linecolor": "white",
           "ticks": "",
           "title": {
            "standoff": 15
           },
           "zerolinecolor": "white",
           "zerolinewidth": 2
          },
          "yaxis": {
           "automargin": true,
           "gridcolor": "white",
           "linecolor": "white",
           "ticks": "",
           "title": {
            "standoff": 15
           },
           "zerolinecolor": "white",
           "zerolinewidth": 2
          }
         }
        },
        "title": {
         "text": "Amatorzy / Melomani: Melodia 1.1 jest"
        },
        "width": 800
       }
      }
     },
     "metadata": {},
     "output_type": "display_data"
    }
   ],
   "source": [
    "\n",
    "valuesAmateur1_1 = df_amateur['Melodia 1.1 jest'].value_counts().values\n",
    "\n",
    "style = px.colors.qualitative.Prism\n",
    "color_palette = [style[1], style[7]]\n",
    "\n",
    "fig = go.Figure(data=[go.Pie(\n",
    "    labels=labels1_1,\n",
    "    values=valuesAmateur1_1,\n",
    "    # pull=[0,0,0.1]\n",
    ")])\n",
    "\n",
    "fig.update_layout(\n",
    "    width=800,\n",
    "    height=400,\n",
    "    margin=dict(t=75, b=25, l=50, r=50),\n",
    "    showlegend=True,\n",
    "    colorway=color_palette,\n",
    "    # font_family=\"Times New Roman\",\n",
    "    font_family=\"Courier New\",\n",
    "    font_color=\"black\",\n",
    "    font = dict(size=16),\n",
    "    title=dict(text='Amatorzy / Melomani: Melodia 1.1 jest')\n",
    ")\n",
    "\n",
    "fig.update_traces(textfont_size=20,\n",
    "                  marker=dict( line=dict(color='white', width=1)))\n",
    "\n",
    "fig.show()\n",
    "\n",
    "fig.write_image(\"images/pytanie1_1_amateur.svg\")\n",
    "fig.write_image(\"images/pytanie1_1_amateur.png\")"
   ]
  },
  {
   "cell_type": "code",
   "execution_count": 116,
   "metadata": {},
   "outputs": [
    {
     "data": {
      "application/vnd.plotly.v1+json": {
       "config": {
        "plotlyServerURL": "https://plot.ly"
       },
       "data": [
        {
         "labels": [
          "przyjemna dla ucha.",
          "nieprzyjemna dla ucha."
         ],
         "marker": {
          "line": {
           "color": "white",
           "width": 1
          }
         },
         "textfont": {
          "size": 20
         },
         "type": "pie",
         "values": [
          27,
          2
         ]
        }
       ],
       "layout": {
        "colorway": [
         "rgb(29, 105, 150)",
         "rgb(204, 80, 62)"
        ],
        "font": {
         "color": "black",
         "family": "Courier New",
         "size": 16
        },
        "height": 400,
        "margin": {
         "b": 25,
         "l": 50,
         "r": 50,
         "t": 75
        },
        "showlegend": true,
        "template": {
         "data": {
          "bar": [
           {
            "error_x": {
             "color": "#2a3f5f"
            },
            "error_y": {
             "color": "#2a3f5f"
            },
            "marker": {
             "line": {
              "color": "#E5ECF6",
              "width": 0.5
             },
             "pattern": {
              "fillmode": "overlay",
              "size": 10,
              "solidity": 0.2
             }
            },
            "type": "bar"
           }
          ],
          "barpolar": [
           {
            "marker": {
             "line": {
              "color": "#E5ECF6",
              "width": 0.5
             },
             "pattern": {
              "fillmode": "overlay",
              "size": 10,
              "solidity": 0.2
             }
            },
            "type": "barpolar"
           }
          ],
          "carpet": [
           {
            "aaxis": {
             "endlinecolor": "#2a3f5f",
             "gridcolor": "white",
             "linecolor": "white",
             "minorgridcolor": "white",
             "startlinecolor": "#2a3f5f"
            },
            "baxis": {
             "endlinecolor": "#2a3f5f",
             "gridcolor": "white",
             "linecolor": "white",
             "minorgridcolor": "white",
             "startlinecolor": "#2a3f5f"
            },
            "type": "carpet"
           }
          ],
          "choropleth": [
           {
            "colorbar": {
             "outlinewidth": 0,
             "ticks": ""
            },
            "type": "choropleth"
           }
          ],
          "contour": [
           {
            "colorbar": {
             "outlinewidth": 0,
             "ticks": ""
            },
            "colorscale": [
             [
              0,
              "#0d0887"
             ],
             [
              0.1111111111111111,
              "#46039f"
             ],
             [
              0.2222222222222222,
              "#7201a8"
             ],
             [
              0.3333333333333333,
              "#9c179e"
             ],
             [
              0.4444444444444444,
              "#bd3786"
             ],
             [
              0.5555555555555556,
              "#d8576b"
             ],
             [
              0.6666666666666666,
              "#ed7953"
             ],
             [
              0.7777777777777778,
              "#fb9f3a"
             ],
             [
              0.8888888888888888,
              "#fdca26"
             ],
             [
              1,
              "#f0f921"
             ]
            ],
            "type": "contour"
           }
          ],
          "contourcarpet": [
           {
            "colorbar": {
             "outlinewidth": 0,
             "ticks": ""
            },
            "type": "contourcarpet"
           }
          ],
          "heatmap": [
           {
            "colorbar": {
             "outlinewidth": 0,
             "ticks": ""
            },
            "colorscale": [
             [
              0,
              "#0d0887"
             ],
             [
              0.1111111111111111,
              "#46039f"
             ],
             [
              0.2222222222222222,
              "#7201a8"
             ],
             [
              0.3333333333333333,
              "#9c179e"
             ],
             [
              0.4444444444444444,
              "#bd3786"
             ],
             [
              0.5555555555555556,
              "#d8576b"
             ],
             [
              0.6666666666666666,
              "#ed7953"
             ],
             [
              0.7777777777777778,
              "#fb9f3a"
             ],
             [
              0.8888888888888888,
              "#fdca26"
             ],
             [
              1,
              "#f0f921"
             ]
            ],
            "type": "heatmap"
           }
          ],
          "heatmapgl": [
           {
            "colorbar": {
             "outlinewidth": 0,
             "ticks": ""
            },
            "colorscale": [
             [
              0,
              "#0d0887"
             ],
             [
              0.1111111111111111,
              "#46039f"
             ],
             [
              0.2222222222222222,
              "#7201a8"
             ],
             [
              0.3333333333333333,
              "#9c179e"
             ],
             [
              0.4444444444444444,
              "#bd3786"
             ],
             [
              0.5555555555555556,
              "#d8576b"
             ],
             [
              0.6666666666666666,
              "#ed7953"
             ],
             [
              0.7777777777777778,
              "#fb9f3a"
             ],
             [
              0.8888888888888888,
              "#fdca26"
             ],
             [
              1,
              "#f0f921"
             ]
            ],
            "type": "heatmapgl"
           }
          ],
          "histogram": [
           {
            "marker": {
             "pattern": {
              "fillmode": "overlay",
              "size": 10,
              "solidity": 0.2
             }
            },
            "type": "histogram"
           }
          ],
          "histogram2d": [
           {
            "colorbar": {
             "outlinewidth": 0,
             "ticks": ""
            },
            "colorscale": [
             [
              0,
              "#0d0887"
             ],
             [
              0.1111111111111111,
              "#46039f"
             ],
             [
              0.2222222222222222,
              "#7201a8"
             ],
             [
              0.3333333333333333,
              "#9c179e"
             ],
             [
              0.4444444444444444,
              "#bd3786"
             ],
             [
              0.5555555555555556,
              "#d8576b"
             ],
             [
              0.6666666666666666,
              "#ed7953"
             ],
             [
              0.7777777777777778,
              "#fb9f3a"
             ],
             [
              0.8888888888888888,
              "#fdca26"
             ],
             [
              1,
              "#f0f921"
             ]
            ],
            "type": "histogram2d"
           }
          ],
          "histogram2dcontour": [
           {
            "colorbar": {
             "outlinewidth": 0,
             "ticks": ""
            },
            "colorscale": [
             [
              0,
              "#0d0887"
             ],
             [
              0.1111111111111111,
              "#46039f"
             ],
             [
              0.2222222222222222,
              "#7201a8"
             ],
             [
              0.3333333333333333,
              "#9c179e"
             ],
             [
              0.4444444444444444,
              "#bd3786"
             ],
             [
              0.5555555555555556,
              "#d8576b"
             ],
             [
              0.6666666666666666,
              "#ed7953"
             ],
             [
              0.7777777777777778,
              "#fb9f3a"
             ],
             [
              0.8888888888888888,
              "#fdca26"
             ],
             [
              1,
              "#f0f921"
             ]
            ],
            "type": "histogram2dcontour"
           }
          ],
          "mesh3d": [
           {
            "colorbar": {
             "outlinewidth": 0,
             "ticks": ""
            },
            "type": "mesh3d"
           }
          ],
          "parcoords": [
           {
            "line": {
             "colorbar": {
              "outlinewidth": 0,
              "ticks": ""
             }
            },
            "type": "parcoords"
           }
          ],
          "pie": [
           {
            "automargin": true,
            "type": "pie"
           }
          ],
          "scatter": [
           {
            "fillpattern": {
             "fillmode": "overlay",
             "size": 10,
             "solidity": 0.2
            },
            "type": "scatter"
           }
          ],
          "scatter3d": [
           {
            "line": {
             "colorbar": {
              "outlinewidth": 0,
              "ticks": ""
             }
            },
            "marker": {
             "colorbar": {
              "outlinewidth": 0,
              "ticks": ""
             }
            },
            "type": "scatter3d"
           }
          ],
          "scattercarpet": [
           {
            "marker": {
             "colorbar": {
              "outlinewidth": 0,
              "ticks": ""
             }
            },
            "type": "scattercarpet"
           }
          ],
          "scattergeo": [
           {
            "marker": {
             "colorbar": {
              "outlinewidth": 0,
              "ticks": ""
             }
            },
            "type": "scattergeo"
           }
          ],
          "scattergl": [
           {
            "marker": {
             "colorbar": {
              "outlinewidth": 0,
              "ticks": ""
             }
            },
            "type": "scattergl"
           }
          ],
          "scattermapbox": [
           {
            "marker": {
             "colorbar": {
              "outlinewidth": 0,
              "ticks": ""
             }
            },
            "type": "scattermapbox"
           }
          ],
          "scatterpolar": [
           {
            "marker": {
             "colorbar": {
              "outlinewidth": 0,
              "ticks": ""
             }
            },
            "type": "scatterpolar"
           }
          ],
          "scatterpolargl": [
           {
            "marker": {
             "colorbar": {
              "outlinewidth": 0,
              "ticks": ""
             }
            },
            "type": "scatterpolargl"
           }
          ],
          "scatterternary": [
           {
            "marker": {
             "colorbar": {
              "outlinewidth": 0,
              "ticks": ""
             }
            },
            "type": "scatterternary"
           }
          ],
          "surface": [
           {
            "colorbar": {
             "outlinewidth": 0,
             "ticks": ""
            },
            "colorscale": [
             [
              0,
              "#0d0887"
             ],
             [
              0.1111111111111111,
              "#46039f"
             ],
             [
              0.2222222222222222,
              "#7201a8"
             ],
             [
              0.3333333333333333,
              "#9c179e"
             ],
             [
              0.4444444444444444,
              "#bd3786"
             ],
             [
              0.5555555555555556,
              "#d8576b"
             ],
             [
              0.6666666666666666,
              "#ed7953"
             ],
             [
              0.7777777777777778,
              "#fb9f3a"
             ],
             [
              0.8888888888888888,
              "#fdca26"
             ],
             [
              1,
              "#f0f921"
             ]
            ],
            "type": "surface"
           }
          ],
          "table": [
           {
            "cells": {
             "fill": {
              "color": "#EBF0F8"
             },
             "line": {
              "color": "white"
             }
            },
            "header": {
             "fill": {
              "color": "#C8D4E3"
             },
             "line": {
              "color": "white"
             }
            },
            "type": "table"
           }
          ]
         },
         "layout": {
          "annotationdefaults": {
           "arrowcolor": "#2a3f5f",
           "arrowhead": 0,
           "arrowwidth": 1
          },
          "autotypenumbers": "strict",
          "coloraxis": {
           "colorbar": {
            "outlinewidth": 0,
            "ticks": ""
           }
          },
          "colorscale": {
           "diverging": [
            [
             0,
             "#8e0152"
            ],
            [
             0.1,
             "#c51b7d"
            ],
            [
             0.2,
             "#de77ae"
            ],
            [
             0.3,
             "#f1b6da"
            ],
            [
             0.4,
             "#fde0ef"
            ],
            [
             0.5,
             "#f7f7f7"
            ],
            [
             0.6,
             "#e6f5d0"
            ],
            [
             0.7,
             "#b8e186"
            ],
            [
             0.8,
             "#7fbc41"
            ],
            [
             0.9,
             "#4d9221"
            ],
            [
             1,
             "#276419"
            ]
           ],
           "sequential": [
            [
             0,
             "#0d0887"
            ],
            [
             0.1111111111111111,
             "#46039f"
            ],
            [
             0.2222222222222222,
             "#7201a8"
            ],
            [
             0.3333333333333333,
             "#9c179e"
            ],
            [
             0.4444444444444444,
             "#bd3786"
            ],
            [
             0.5555555555555556,
             "#d8576b"
            ],
            [
             0.6666666666666666,
             "#ed7953"
            ],
            [
             0.7777777777777778,
             "#fb9f3a"
            ],
            [
             0.8888888888888888,
             "#fdca26"
            ],
            [
             1,
             "#f0f921"
            ]
           ],
           "sequentialminus": [
            [
             0,
             "#0d0887"
            ],
            [
             0.1111111111111111,
             "#46039f"
            ],
            [
             0.2222222222222222,
             "#7201a8"
            ],
            [
             0.3333333333333333,
             "#9c179e"
            ],
            [
             0.4444444444444444,
             "#bd3786"
            ],
            [
             0.5555555555555556,
             "#d8576b"
            ],
            [
             0.6666666666666666,
             "#ed7953"
            ],
            [
             0.7777777777777778,
             "#fb9f3a"
            ],
            [
             0.8888888888888888,
             "#fdca26"
            ],
            [
             1,
             "#f0f921"
            ]
           ]
          },
          "colorway": [
           "#636efa",
           "#EF553B",
           "#00cc96",
           "#ab63fa",
           "#FFA15A",
           "#19d3f3",
           "#FF6692",
           "#B6E880",
           "#FF97FF",
           "#FECB52"
          ],
          "font": {
           "color": "#2a3f5f"
          },
          "geo": {
           "bgcolor": "white",
           "lakecolor": "white",
           "landcolor": "#E5ECF6",
           "showlakes": true,
           "showland": true,
           "subunitcolor": "white"
          },
          "hoverlabel": {
           "align": "left"
          },
          "hovermode": "closest",
          "mapbox": {
           "style": "light"
          },
          "paper_bgcolor": "white",
          "plot_bgcolor": "#E5ECF6",
          "polar": {
           "angularaxis": {
            "gridcolor": "white",
            "linecolor": "white",
            "ticks": ""
           },
           "bgcolor": "#E5ECF6",
           "radialaxis": {
            "gridcolor": "white",
            "linecolor": "white",
            "ticks": ""
           }
          },
          "scene": {
           "xaxis": {
            "backgroundcolor": "#E5ECF6",
            "gridcolor": "white",
            "gridwidth": 2,
            "linecolor": "white",
            "showbackground": true,
            "ticks": "",
            "zerolinecolor": "white"
           },
           "yaxis": {
            "backgroundcolor": "#E5ECF6",
            "gridcolor": "white",
            "gridwidth": 2,
            "linecolor": "white",
            "showbackground": true,
            "ticks": "",
            "zerolinecolor": "white"
           },
           "zaxis": {
            "backgroundcolor": "#E5ECF6",
            "gridcolor": "white",
            "gridwidth": 2,
            "linecolor": "white",
            "showbackground": true,
            "ticks": "",
            "zerolinecolor": "white"
           }
          },
          "shapedefaults": {
           "line": {
            "color": "#2a3f5f"
           }
          },
          "ternary": {
           "aaxis": {
            "gridcolor": "white",
            "linecolor": "white",
            "ticks": ""
           },
           "baxis": {
            "gridcolor": "white",
            "linecolor": "white",
            "ticks": ""
           },
           "bgcolor": "#E5ECF6",
           "caxis": {
            "gridcolor": "white",
            "linecolor": "white",
            "ticks": ""
           }
          },
          "title": {
           "x": 0.05
          },
          "xaxis": {
           "automargin": true,
           "gridcolor": "white",
           "linecolor": "white",
           "ticks": "",
           "title": {
            "standoff": 15
           },
           "zerolinecolor": "white",
           "zerolinewidth": 2
          },
          "yaxis": {
           "automargin": true,
           "gridcolor": "white",
           "linecolor": "white",
           "ticks": "",
           "title": {
            "standoff": 15
           },
           "zerolinecolor": "white",
           "zerolinewidth": 2
          }
         }
        },
        "title": {
         "text": "Nie-muzycy: Melodia 1.1 jest"
        },
        "width": 800
       }
      }
     },
     "metadata": {},
     "output_type": "display_data"
    }
   ],
   "source": [
    "valuesNonMusician1_1 = df_nonMusician['Melodia 1.1 jest'].value_counts().values\n",
    "\n",
    "style = px.colors.qualitative.Prism\n",
    "color_palette = [style[1], style[7]]\n",
    "\n",
    "fig = go.Figure(data=[go.Pie(\n",
    "    labels=labels1_1,\n",
    "    values=valuesNonMusician1_1,\n",
    "    # pull=[0,0,0.1]\n",
    ")])\n",
    "\n",
    "fig.update_layout(\n",
    "    width=800,\n",
    "    height=400,\n",
    "    margin=dict(t=75, b=25, l=50, r=50),\n",
    "    showlegend=True,\n",
    "    colorway=color_palette,\n",
    "    # font_family=\"Times New Roman\",\n",
    "    font_family=\"Courier New\",\n",
    "    font_color=\"black\",\n",
    "    font = dict(size=16),\n",
    "    title=dict(text='Nie-muzycy: Melodia 1.1 jest')\n",
    ")\n",
    "\n",
    "fig.update_traces(textfont_size=20,\n",
    "                  marker=dict( line=dict(color='white', width=1)))\n",
    "\n",
    "fig.show()\n",
    "\n",
    "fig.write_image(\"images/pytanie1_1_nonMusician.svg\")\n",
    "fig.write_image(\"images/pytanie1_1_nonMusician.png\")"
   ]
  },
  {
   "cell_type": "code",
   "execution_count": 117,
   "metadata": {},
   "outputs": [
    {
     "data": {
      "application/vnd.plotly.v1+json": {
       "config": {
        "plotlyServerURL": "https://plot.ly"
       },
       "data": [
        {
         "labels": [
          "równowaga napięcia i stabilności.",
          "napięcie.",
          "stabilność."
         ],
         "marker": {
          "line": {
           "color": "white",
           "width": 1
          }
         },
         "textfont": {
          "size": 20
         },
         "type": "pie",
         "values": [
          49,
          33,
          12
         ]
        }
       ],
       "layout": {
        "colorway": [
         "rgb(115, 175, 72)",
         "rgb(148, 52, 110)",
         "rgb(237, 173, 8)"
        ],
        "font": {
         "color": "black",
         "family": "Courier New",
         "size": 16
        },
        "height": 400,
        "margin": {
         "b": 25,
         "l": 50,
         "r": 50,
         "t": 75
        },
        "showlegend": true,
        "template": {
         "data": {
          "bar": [
           {
            "error_x": {
             "color": "#2a3f5f"
            },
            "error_y": {
             "color": "#2a3f5f"
            },
            "marker": {
             "line": {
              "color": "#E5ECF6",
              "width": 0.5
             },
             "pattern": {
              "fillmode": "overlay",
              "size": 10,
              "solidity": 0.2
             }
            },
            "type": "bar"
           }
          ],
          "barpolar": [
           {
            "marker": {
             "line": {
              "color": "#E5ECF6",
              "width": 0.5
             },
             "pattern": {
              "fillmode": "overlay",
              "size": 10,
              "solidity": 0.2
             }
            },
            "type": "barpolar"
           }
          ],
          "carpet": [
           {
            "aaxis": {
             "endlinecolor": "#2a3f5f",
             "gridcolor": "white",
             "linecolor": "white",
             "minorgridcolor": "white",
             "startlinecolor": "#2a3f5f"
            },
            "baxis": {
             "endlinecolor": "#2a3f5f",
             "gridcolor": "white",
             "linecolor": "white",
             "minorgridcolor": "white",
             "startlinecolor": "#2a3f5f"
            },
            "type": "carpet"
           }
          ],
          "choropleth": [
           {
            "colorbar": {
             "outlinewidth": 0,
             "ticks": ""
            },
            "type": "choropleth"
           }
          ],
          "contour": [
           {
            "colorbar": {
             "outlinewidth": 0,
             "ticks": ""
            },
            "colorscale": [
             [
              0,
              "#0d0887"
             ],
             [
              0.1111111111111111,
              "#46039f"
             ],
             [
              0.2222222222222222,
              "#7201a8"
             ],
             [
              0.3333333333333333,
              "#9c179e"
             ],
             [
              0.4444444444444444,
              "#bd3786"
             ],
             [
              0.5555555555555556,
              "#d8576b"
             ],
             [
              0.6666666666666666,
              "#ed7953"
             ],
             [
              0.7777777777777778,
              "#fb9f3a"
             ],
             [
              0.8888888888888888,
              "#fdca26"
             ],
             [
              1,
              "#f0f921"
             ]
            ],
            "type": "contour"
           }
          ],
          "contourcarpet": [
           {
            "colorbar": {
             "outlinewidth": 0,
             "ticks": ""
            },
            "type": "contourcarpet"
           }
          ],
          "heatmap": [
           {
            "colorbar": {
             "outlinewidth": 0,
             "ticks": ""
            },
            "colorscale": [
             [
              0,
              "#0d0887"
             ],
             [
              0.1111111111111111,
              "#46039f"
             ],
             [
              0.2222222222222222,
              "#7201a8"
             ],
             [
              0.3333333333333333,
              "#9c179e"
             ],
             [
              0.4444444444444444,
              "#bd3786"
             ],
             [
              0.5555555555555556,
              "#d8576b"
             ],
             [
              0.6666666666666666,
              "#ed7953"
             ],
             [
              0.7777777777777778,
              "#fb9f3a"
             ],
             [
              0.8888888888888888,
              "#fdca26"
             ],
             [
              1,
              "#f0f921"
             ]
            ],
            "type": "heatmap"
           }
          ],
          "heatmapgl": [
           {
            "colorbar": {
             "outlinewidth": 0,
             "ticks": ""
            },
            "colorscale": [
             [
              0,
              "#0d0887"
             ],
             [
              0.1111111111111111,
              "#46039f"
             ],
             [
              0.2222222222222222,
              "#7201a8"
             ],
             [
              0.3333333333333333,
              "#9c179e"
             ],
             [
              0.4444444444444444,
              "#bd3786"
             ],
             [
              0.5555555555555556,
              "#d8576b"
             ],
             [
              0.6666666666666666,
              "#ed7953"
             ],
             [
              0.7777777777777778,
              "#fb9f3a"
             ],
             [
              0.8888888888888888,
              "#fdca26"
             ],
             [
              1,
              "#f0f921"
             ]
            ],
            "type": "heatmapgl"
           }
          ],
          "histogram": [
           {
            "marker": {
             "pattern": {
              "fillmode": "overlay",
              "size": 10,
              "solidity": 0.2
             }
            },
            "type": "histogram"
           }
          ],
          "histogram2d": [
           {
            "colorbar": {
             "outlinewidth": 0,
             "ticks": ""
            },
            "colorscale": [
             [
              0,
              "#0d0887"
             ],
             [
              0.1111111111111111,
              "#46039f"
             ],
             [
              0.2222222222222222,
              "#7201a8"
             ],
             [
              0.3333333333333333,
              "#9c179e"
             ],
             [
              0.4444444444444444,
              "#bd3786"
             ],
             [
              0.5555555555555556,
              "#d8576b"
             ],
             [
              0.6666666666666666,
              "#ed7953"
             ],
             [
              0.7777777777777778,
              "#fb9f3a"
             ],
             [
              0.8888888888888888,
              "#fdca26"
             ],
             [
              1,
              "#f0f921"
             ]
            ],
            "type": "histogram2d"
           }
          ],
          "histogram2dcontour": [
           {
            "colorbar": {
             "outlinewidth": 0,
             "ticks": ""
            },
            "colorscale": [
             [
              0,
              "#0d0887"
             ],
             [
              0.1111111111111111,
              "#46039f"
             ],
             [
              0.2222222222222222,
              "#7201a8"
             ],
             [
              0.3333333333333333,
              "#9c179e"
             ],
             [
              0.4444444444444444,
              "#bd3786"
             ],
             [
              0.5555555555555556,
              "#d8576b"
             ],
             [
              0.6666666666666666,
              "#ed7953"
             ],
             [
              0.7777777777777778,
              "#fb9f3a"
             ],
             [
              0.8888888888888888,
              "#fdca26"
             ],
             [
              1,
              "#f0f921"
             ]
            ],
            "type": "histogram2dcontour"
           }
          ],
          "mesh3d": [
           {
            "colorbar": {
             "outlinewidth": 0,
             "ticks": ""
            },
            "type": "mesh3d"
           }
          ],
          "parcoords": [
           {
            "line": {
             "colorbar": {
              "outlinewidth": 0,
              "ticks": ""
             }
            },
            "type": "parcoords"
           }
          ],
          "pie": [
           {
            "automargin": true,
            "type": "pie"
           }
          ],
          "scatter": [
           {
            "fillpattern": {
             "fillmode": "overlay",
             "size": 10,
             "solidity": 0.2
            },
            "type": "scatter"
           }
          ],
          "scatter3d": [
           {
            "line": {
             "colorbar": {
              "outlinewidth": 0,
              "ticks": ""
             }
            },
            "marker": {
             "colorbar": {
              "outlinewidth": 0,
              "ticks": ""
             }
            },
            "type": "scatter3d"
           }
          ],
          "scattercarpet": [
           {
            "marker": {
             "colorbar": {
              "outlinewidth": 0,
              "ticks": ""
             }
            },
            "type": "scattercarpet"
           }
          ],
          "scattergeo": [
           {
            "marker": {
             "colorbar": {
              "outlinewidth": 0,
              "ticks": ""
             }
            },
            "type": "scattergeo"
           }
          ],
          "scattergl": [
           {
            "marker": {
             "colorbar": {
              "outlinewidth": 0,
              "ticks": ""
             }
            },
            "type": "scattergl"
           }
          ],
          "scattermapbox": [
           {
            "marker": {
             "colorbar": {
              "outlinewidth": 0,
              "ticks": ""
             }
            },
            "type": "scattermapbox"
           }
          ],
          "scatterpolar": [
           {
            "marker": {
             "colorbar": {
              "outlinewidth": 0,
              "ticks": ""
             }
            },
            "type": "scatterpolar"
           }
          ],
          "scatterpolargl": [
           {
            "marker": {
             "colorbar": {
              "outlinewidth": 0,
              "ticks": ""
             }
            },
            "type": "scatterpolargl"
           }
          ],
          "scatterternary": [
           {
            "marker": {
             "colorbar": {
              "outlinewidth": 0,
              "ticks": ""
             }
            },
            "type": "scatterternary"
           }
          ],
          "surface": [
           {
            "colorbar": {
             "outlinewidth": 0,
             "ticks": ""
            },
            "colorscale": [
             [
              0,
              "#0d0887"
             ],
             [
              0.1111111111111111,
              "#46039f"
             ],
             [
              0.2222222222222222,
              "#7201a8"
             ],
             [
              0.3333333333333333,
              "#9c179e"
             ],
             [
              0.4444444444444444,
              "#bd3786"
             ],
             [
              0.5555555555555556,
              "#d8576b"
             ],
             [
              0.6666666666666666,
              "#ed7953"
             ],
             [
              0.7777777777777778,
              "#fb9f3a"
             ],
             [
              0.8888888888888888,
              "#fdca26"
             ],
             [
              1,
              "#f0f921"
             ]
            ],
            "type": "surface"
           }
          ],
          "table": [
           {
            "cells": {
             "fill": {
              "color": "#EBF0F8"
             },
             "line": {
              "color": "white"
             }
            },
            "header": {
             "fill": {
              "color": "#C8D4E3"
             },
             "line": {
              "color": "white"
             }
            },
            "type": "table"
           }
          ]
         },
         "layout": {
          "annotationdefaults": {
           "arrowcolor": "#2a3f5f",
           "arrowhead": 0,
           "arrowwidth": 1
          },
          "autotypenumbers": "strict",
          "coloraxis": {
           "colorbar": {
            "outlinewidth": 0,
            "ticks": ""
           }
          },
          "colorscale": {
           "diverging": [
            [
             0,
             "#8e0152"
            ],
            [
             0.1,
             "#c51b7d"
            ],
            [
             0.2,
             "#de77ae"
            ],
            [
             0.3,
             "#f1b6da"
            ],
            [
             0.4,
             "#fde0ef"
            ],
            [
             0.5,
             "#f7f7f7"
            ],
            [
             0.6,
             "#e6f5d0"
            ],
            [
             0.7,
             "#b8e186"
            ],
            [
             0.8,
             "#7fbc41"
            ],
            [
             0.9,
             "#4d9221"
            ],
            [
             1,
             "#276419"
            ]
           ],
           "sequential": [
            [
             0,
             "#0d0887"
            ],
            [
             0.1111111111111111,
             "#46039f"
            ],
            [
             0.2222222222222222,
             "#7201a8"
            ],
            [
             0.3333333333333333,
             "#9c179e"
            ],
            [
             0.4444444444444444,
             "#bd3786"
            ],
            [
             0.5555555555555556,
             "#d8576b"
            ],
            [
             0.6666666666666666,
             "#ed7953"
            ],
            [
             0.7777777777777778,
             "#fb9f3a"
            ],
            [
             0.8888888888888888,
             "#fdca26"
            ],
            [
             1,
             "#f0f921"
            ]
           ],
           "sequentialminus": [
            [
             0,
             "#0d0887"
            ],
            [
             0.1111111111111111,
             "#46039f"
            ],
            [
             0.2222222222222222,
             "#7201a8"
            ],
            [
             0.3333333333333333,
             "#9c179e"
            ],
            [
             0.4444444444444444,
             "#bd3786"
            ],
            [
             0.5555555555555556,
             "#d8576b"
            ],
            [
             0.6666666666666666,
             "#ed7953"
            ],
            [
             0.7777777777777778,
             "#fb9f3a"
            ],
            [
             0.8888888888888888,
             "#fdca26"
            ],
            [
             1,
             "#f0f921"
            ]
           ]
          },
          "colorway": [
           "#636efa",
           "#EF553B",
           "#00cc96",
           "#ab63fa",
           "#FFA15A",
           "#19d3f3",
           "#FF6692",
           "#B6E880",
           "#FF97FF",
           "#FECB52"
          ],
          "font": {
           "color": "#2a3f5f"
          },
          "geo": {
           "bgcolor": "white",
           "lakecolor": "white",
           "landcolor": "#E5ECF6",
           "showlakes": true,
           "showland": true,
           "subunitcolor": "white"
          },
          "hoverlabel": {
           "align": "left"
          },
          "hovermode": "closest",
          "mapbox": {
           "style": "light"
          },
          "paper_bgcolor": "white",
          "plot_bgcolor": "#E5ECF6",
          "polar": {
           "angularaxis": {
            "gridcolor": "white",
            "linecolor": "white",
            "ticks": ""
           },
           "bgcolor": "#E5ECF6",
           "radialaxis": {
            "gridcolor": "white",
            "linecolor": "white",
            "ticks": ""
           }
          },
          "scene": {
           "xaxis": {
            "backgroundcolor": "#E5ECF6",
            "gridcolor": "white",
            "gridwidth": 2,
            "linecolor": "white",
            "showbackground": true,
            "ticks": "",
            "zerolinecolor": "white"
           },
           "yaxis": {
            "backgroundcolor": "#E5ECF6",
            "gridcolor": "white",
            "gridwidth": 2,
            "linecolor": "white",
            "showbackground": true,
            "ticks": "",
            "zerolinecolor": "white"
           },
           "zaxis": {
            "backgroundcolor": "#E5ECF6",
            "gridcolor": "white",
            "gridwidth": 2,
            "linecolor": "white",
            "showbackground": true,
            "ticks": "",
            "zerolinecolor": "white"
           }
          },
          "shapedefaults": {
           "line": {
            "color": "#2a3f5f"
           }
          },
          "ternary": {
           "aaxis": {
            "gridcolor": "white",
            "linecolor": "white",
            "ticks": ""
           },
           "baxis": {
            "gridcolor": "white",
            "linecolor": "white",
            "ticks": ""
           },
           "bgcolor": "#E5ECF6",
           "caxis": {
            "gridcolor": "white",
            "linecolor": "white",
            "ticks": ""
           }
          },
          "title": {
           "x": 0.05
          },
          "xaxis": {
           "automargin": true,
           "gridcolor": "white",
           "linecolor": "white",
           "ticks": "",
           "title": {
            "standoff": 15
           },
           "zerolinecolor": "white",
           "zerolinewidth": 2
          },
          "yaxis": {
           "automargin": true,
           "gridcolor": "white",
           "linecolor": "white",
           "ticks": "",
           "title": {
            "standoff": 15
           },
           "zerolinecolor": "white",
           "zerolinewidth": 2
          }
         }
        },
        "title": {
         "text": "Wszyscy ankietowani: Cechą dominującą melodii 5.1 jest"
        },
        "width": 800
       }
      }
     },
     "metadata": {},
     "output_type": "display_data"
    }
   ],
   "source": [
    "\n",
    "\n",
    "labels5_1 = df['Cechą dominującą melodii 5.1 jest'].value_counts().index\n",
    "values5_1 = df['Cechą dominującą melodii 5.1 jest'].value_counts().values\n",
    "\n",
    "style = px.colors.qualitative.Prism\n",
    "color_palette = [style[4], style[8], style[5]]\n",
    "\n",
    "fig = go.Figure(data=[go.Pie(\n",
    "    labels=labels5_1,\n",
    "    values=values5_1,\n",
    "    # pull=[0,0,0.1]\n",
    ")])\n",
    "\n",
    "fig.update_layout(\n",
    "    width=800,\n",
    "    height=400,\n",
    "    margin=dict(t=75, b=25, l=50, r=50),\n",
    "    showlegend=True,\n",
    "    colorway=color_palette,\n",
    "    # font_family=\"Times New Roman\",\n",
    "    font_family=\"Courier New\",\n",
    "    font_color=\"black\",\n",
    "    font = dict(size=16),\n",
    "    title=dict(text='Wszyscy ankietowani: Cechą dominującą melodii 5.1 jest')\n",
    ")\n",
    "fig.update_traces(textfont_size=20,\n",
    "                  marker=dict( line=dict(color='white', width=1)))\n",
    "\n",
    "fig.show()\n",
    "\n",
    "fig.write_image(\"images/pytanie5_1_all.svg\")\n",
    "fig.write_image(\"images/pytanie5_1_all.png\")"
   ]
  },
  {
   "cell_type": "code",
   "execution_count": 118,
   "metadata": {},
   "outputs": [
    {
     "data": {
      "application/vnd.plotly.v1+json": {
       "config": {
        "plotlyServerURL": "https://plot.ly"
       },
       "data": [
        {
         "labels": [
          "równowaga napięcia i stabilności.",
          "napięcie.",
          "stabilność."
         ],
         "marker": {
          "line": {
           "color": "white",
           "width": 1
          }
         },
         "textfont": {
          "size": 20
         },
         "type": "pie",
         "values": [
          21,
          8,
          1
         ]
        }
       ],
       "layout": {
        "colorway": [
         "rgb(115, 175, 72)",
         "rgb(148, 52, 110)",
         "rgb(237, 173, 8)"
        ],
        "font": {
         "color": "black",
         "family": "Courier New",
         "size": 16
        },
        "height": 400,
        "margin": {
         "b": 25,
         "l": 50,
         "r": 50,
         "t": 75
        },
        "showlegend": true,
        "template": {
         "data": {
          "bar": [
           {
            "error_x": {
             "color": "#2a3f5f"
            },
            "error_y": {
             "color": "#2a3f5f"
            },
            "marker": {
             "line": {
              "color": "#E5ECF6",
              "width": 0.5
             },
             "pattern": {
              "fillmode": "overlay",
              "size": 10,
              "solidity": 0.2
             }
            },
            "type": "bar"
           }
          ],
          "barpolar": [
           {
            "marker": {
             "line": {
              "color": "#E5ECF6",
              "width": 0.5
             },
             "pattern": {
              "fillmode": "overlay",
              "size": 10,
              "solidity": 0.2
             }
            },
            "type": "barpolar"
           }
          ],
          "carpet": [
           {
            "aaxis": {
             "endlinecolor": "#2a3f5f",
             "gridcolor": "white",
             "linecolor": "white",
             "minorgridcolor": "white",
             "startlinecolor": "#2a3f5f"
            },
            "baxis": {
             "endlinecolor": "#2a3f5f",
             "gridcolor": "white",
             "linecolor": "white",
             "minorgridcolor": "white",
             "startlinecolor": "#2a3f5f"
            },
            "type": "carpet"
           }
          ],
          "choropleth": [
           {
            "colorbar": {
             "outlinewidth": 0,
             "ticks": ""
            },
            "type": "choropleth"
           }
          ],
          "contour": [
           {
            "colorbar": {
             "outlinewidth": 0,
             "ticks": ""
            },
            "colorscale": [
             [
              0,
              "#0d0887"
             ],
             [
              0.1111111111111111,
              "#46039f"
             ],
             [
              0.2222222222222222,
              "#7201a8"
             ],
             [
              0.3333333333333333,
              "#9c179e"
             ],
             [
              0.4444444444444444,
              "#bd3786"
             ],
             [
              0.5555555555555556,
              "#d8576b"
             ],
             [
              0.6666666666666666,
              "#ed7953"
             ],
             [
              0.7777777777777778,
              "#fb9f3a"
             ],
             [
              0.8888888888888888,
              "#fdca26"
             ],
             [
              1,
              "#f0f921"
             ]
            ],
            "type": "contour"
           }
          ],
          "contourcarpet": [
           {
            "colorbar": {
             "outlinewidth": 0,
             "ticks": ""
            },
            "type": "contourcarpet"
           }
          ],
          "heatmap": [
           {
            "colorbar": {
             "outlinewidth": 0,
             "ticks": ""
            },
            "colorscale": [
             [
              0,
              "#0d0887"
             ],
             [
              0.1111111111111111,
              "#46039f"
             ],
             [
              0.2222222222222222,
              "#7201a8"
             ],
             [
              0.3333333333333333,
              "#9c179e"
             ],
             [
              0.4444444444444444,
              "#bd3786"
             ],
             [
              0.5555555555555556,
              "#d8576b"
             ],
             [
              0.6666666666666666,
              "#ed7953"
             ],
             [
              0.7777777777777778,
              "#fb9f3a"
             ],
             [
              0.8888888888888888,
              "#fdca26"
             ],
             [
              1,
              "#f0f921"
             ]
            ],
            "type": "heatmap"
           }
          ],
          "heatmapgl": [
           {
            "colorbar": {
             "outlinewidth": 0,
             "ticks": ""
            },
            "colorscale": [
             [
              0,
              "#0d0887"
             ],
             [
              0.1111111111111111,
              "#46039f"
             ],
             [
              0.2222222222222222,
              "#7201a8"
             ],
             [
              0.3333333333333333,
              "#9c179e"
             ],
             [
              0.4444444444444444,
              "#bd3786"
             ],
             [
              0.5555555555555556,
              "#d8576b"
             ],
             [
              0.6666666666666666,
              "#ed7953"
             ],
             [
              0.7777777777777778,
              "#fb9f3a"
             ],
             [
              0.8888888888888888,
              "#fdca26"
             ],
             [
              1,
              "#f0f921"
             ]
            ],
            "type": "heatmapgl"
           }
          ],
          "histogram": [
           {
            "marker": {
             "pattern": {
              "fillmode": "overlay",
              "size": 10,
              "solidity": 0.2
             }
            },
            "type": "histogram"
           }
          ],
          "histogram2d": [
           {
            "colorbar": {
             "outlinewidth": 0,
             "ticks": ""
            },
            "colorscale": [
             [
              0,
              "#0d0887"
             ],
             [
              0.1111111111111111,
              "#46039f"
             ],
             [
              0.2222222222222222,
              "#7201a8"
             ],
             [
              0.3333333333333333,
              "#9c179e"
             ],
             [
              0.4444444444444444,
              "#bd3786"
             ],
             [
              0.5555555555555556,
              "#d8576b"
             ],
             [
              0.6666666666666666,
              "#ed7953"
             ],
             [
              0.7777777777777778,
              "#fb9f3a"
             ],
             [
              0.8888888888888888,
              "#fdca26"
             ],
             [
              1,
              "#f0f921"
             ]
            ],
            "type": "histogram2d"
           }
          ],
          "histogram2dcontour": [
           {
            "colorbar": {
             "outlinewidth": 0,
             "ticks": ""
            },
            "colorscale": [
             [
              0,
              "#0d0887"
             ],
             [
              0.1111111111111111,
              "#46039f"
             ],
             [
              0.2222222222222222,
              "#7201a8"
             ],
             [
              0.3333333333333333,
              "#9c179e"
             ],
             [
              0.4444444444444444,
              "#bd3786"
             ],
             [
              0.5555555555555556,
              "#d8576b"
             ],
             [
              0.6666666666666666,
              "#ed7953"
             ],
             [
              0.7777777777777778,
              "#fb9f3a"
             ],
             [
              0.8888888888888888,
              "#fdca26"
             ],
             [
              1,
              "#f0f921"
             ]
            ],
            "type": "histogram2dcontour"
           }
          ],
          "mesh3d": [
           {
            "colorbar": {
             "outlinewidth": 0,
             "ticks": ""
            },
            "type": "mesh3d"
           }
          ],
          "parcoords": [
           {
            "line": {
             "colorbar": {
              "outlinewidth": 0,
              "ticks": ""
             }
            },
            "type": "parcoords"
           }
          ],
          "pie": [
           {
            "automargin": true,
            "type": "pie"
           }
          ],
          "scatter": [
           {
            "fillpattern": {
             "fillmode": "overlay",
             "size": 10,
             "solidity": 0.2
            },
            "type": "scatter"
           }
          ],
          "scatter3d": [
           {
            "line": {
             "colorbar": {
              "outlinewidth": 0,
              "ticks": ""
             }
            },
            "marker": {
             "colorbar": {
              "outlinewidth": 0,
              "ticks": ""
             }
            },
            "type": "scatter3d"
           }
          ],
          "scattercarpet": [
           {
            "marker": {
             "colorbar": {
              "outlinewidth": 0,
              "ticks": ""
             }
            },
            "type": "scattercarpet"
           }
          ],
          "scattergeo": [
           {
            "marker": {
             "colorbar": {
              "outlinewidth": 0,
              "ticks": ""
             }
            },
            "type": "scattergeo"
           }
          ],
          "scattergl": [
           {
            "marker": {
             "colorbar": {
              "outlinewidth": 0,
              "ticks": ""
             }
            },
            "type": "scattergl"
           }
          ],
          "scattermapbox": [
           {
            "marker": {
             "colorbar": {
              "outlinewidth": 0,
              "ticks": ""
             }
            },
            "type": "scattermapbox"
           }
          ],
          "scatterpolar": [
           {
            "marker": {
             "colorbar": {
              "outlinewidth": 0,
              "ticks": ""
             }
            },
            "type": "scatterpolar"
           }
          ],
          "scatterpolargl": [
           {
            "marker": {
             "colorbar": {
              "outlinewidth": 0,
              "ticks": ""
             }
            },
            "type": "scatterpolargl"
           }
          ],
          "scatterternary": [
           {
            "marker": {
             "colorbar": {
              "outlinewidth": 0,
              "ticks": ""
             }
            },
            "type": "scatterternary"
           }
          ],
          "surface": [
           {
            "colorbar": {
             "outlinewidth": 0,
             "ticks": ""
            },
            "colorscale": [
             [
              0,
              "#0d0887"
             ],
             [
              0.1111111111111111,
              "#46039f"
             ],
             [
              0.2222222222222222,
              "#7201a8"
             ],
             [
              0.3333333333333333,
              "#9c179e"
             ],
             [
              0.4444444444444444,
              "#bd3786"
             ],
             [
              0.5555555555555556,
              "#d8576b"
             ],
             [
              0.6666666666666666,
              "#ed7953"
             ],
             [
              0.7777777777777778,
              "#fb9f3a"
             ],
             [
              0.8888888888888888,
              "#fdca26"
             ],
             [
              1,
              "#f0f921"
             ]
            ],
            "type": "surface"
           }
          ],
          "table": [
           {
            "cells": {
             "fill": {
              "color": "#EBF0F8"
             },
             "line": {
              "color": "white"
             }
            },
            "header": {
             "fill": {
              "color": "#C8D4E3"
             },
             "line": {
              "color": "white"
             }
            },
            "type": "table"
           }
          ]
         },
         "layout": {
          "annotationdefaults": {
           "arrowcolor": "#2a3f5f",
           "arrowhead": 0,
           "arrowwidth": 1
          },
          "autotypenumbers": "strict",
          "coloraxis": {
           "colorbar": {
            "outlinewidth": 0,
            "ticks": ""
           }
          },
          "colorscale": {
           "diverging": [
            [
             0,
             "#8e0152"
            ],
            [
             0.1,
             "#c51b7d"
            ],
            [
             0.2,
             "#de77ae"
            ],
            [
             0.3,
             "#f1b6da"
            ],
            [
             0.4,
             "#fde0ef"
            ],
            [
             0.5,
             "#f7f7f7"
            ],
            [
             0.6,
             "#e6f5d0"
            ],
            [
             0.7,
             "#b8e186"
            ],
            [
             0.8,
             "#7fbc41"
            ],
            [
             0.9,
             "#4d9221"
            ],
            [
             1,
             "#276419"
            ]
           ],
           "sequential": [
            [
             0,
             "#0d0887"
            ],
            [
             0.1111111111111111,
             "#46039f"
            ],
            [
             0.2222222222222222,
             "#7201a8"
            ],
            [
             0.3333333333333333,
             "#9c179e"
            ],
            [
             0.4444444444444444,
             "#bd3786"
            ],
            [
             0.5555555555555556,
             "#d8576b"
            ],
            [
             0.6666666666666666,
             "#ed7953"
            ],
            [
             0.7777777777777778,
             "#fb9f3a"
            ],
            [
             0.8888888888888888,
             "#fdca26"
            ],
            [
             1,
             "#f0f921"
            ]
           ],
           "sequentialminus": [
            [
             0,
             "#0d0887"
            ],
            [
             0.1111111111111111,
             "#46039f"
            ],
            [
             0.2222222222222222,
             "#7201a8"
            ],
            [
             0.3333333333333333,
             "#9c179e"
            ],
            [
             0.4444444444444444,
             "#bd3786"
            ],
            [
             0.5555555555555556,
             "#d8576b"
            ],
            [
             0.6666666666666666,
             "#ed7953"
            ],
            [
             0.7777777777777778,
             "#fb9f3a"
            ],
            [
             0.8888888888888888,
             "#fdca26"
            ],
            [
             1,
             "#f0f921"
            ]
           ]
          },
          "colorway": [
           "#636efa",
           "#EF553B",
           "#00cc96",
           "#ab63fa",
           "#FFA15A",
           "#19d3f3",
           "#FF6692",
           "#B6E880",
           "#FF97FF",
           "#FECB52"
          ],
          "font": {
           "color": "#2a3f5f"
          },
          "geo": {
           "bgcolor": "white",
           "lakecolor": "white",
           "landcolor": "#E5ECF6",
           "showlakes": true,
           "showland": true,
           "subunitcolor": "white"
          },
          "hoverlabel": {
           "align": "left"
          },
          "hovermode": "closest",
          "mapbox": {
           "style": "light"
          },
          "paper_bgcolor": "white",
          "plot_bgcolor": "#E5ECF6",
          "polar": {
           "angularaxis": {
            "gridcolor": "white",
            "linecolor": "white",
            "ticks": ""
           },
           "bgcolor": "#E5ECF6",
           "radialaxis": {
            "gridcolor": "white",
            "linecolor": "white",
            "ticks": ""
           }
          },
          "scene": {
           "xaxis": {
            "backgroundcolor": "#E5ECF6",
            "gridcolor": "white",
            "gridwidth": 2,
            "linecolor": "white",
            "showbackground": true,
            "ticks": "",
            "zerolinecolor": "white"
           },
           "yaxis": {
            "backgroundcolor": "#E5ECF6",
            "gridcolor": "white",
            "gridwidth": 2,
            "linecolor": "white",
            "showbackground": true,
            "ticks": "",
            "zerolinecolor": "white"
           },
           "zaxis": {
            "backgroundcolor": "#E5ECF6",
            "gridcolor": "white",
            "gridwidth": 2,
            "linecolor": "white",
            "showbackground": true,
            "ticks": "",
            "zerolinecolor": "white"
           }
          },
          "shapedefaults": {
           "line": {
            "color": "#2a3f5f"
           }
          },
          "ternary": {
           "aaxis": {
            "gridcolor": "white",
            "linecolor": "white",
            "ticks": ""
           },
           "baxis": {
            "gridcolor": "white",
            "linecolor": "white",
            "ticks": ""
           },
           "bgcolor": "#E5ECF6",
           "caxis": {
            "gridcolor": "white",
            "linecolor": "white",
            "ticks": ""
           }
          },
          "title": {
           "x": 0.05
          },
          "xaxis": {
           "automargin": true,
           "gridcolor": "white",
           "linecolor": "white",
           "ticks": "",
           "title": {
            "standoff": 15
           },
           "zerolinecolor": "white",
           "zerolinewidth": 2
          },
          "yaxis": {
           "automargin": true,
           "gridcolor": "white",
           "linecolor": "white",
           "ticks": "",
           "title": {
            "standoff": 15
           },
           "zerolinecolor": "white",
           "zerolinewidth": 2
          }
         }
        },
        "title": {
         "text": "Muzycy: Cechą dominującą melodii 5.1 jest"
        },
        "width": 800
       }
      }
     },
     "metadata": {},
     "output_type": "display_data"
    }
   ],
   "source": [
    "\n",
    "\n",
    "labels5_1 = df['Cechą dominującą melodii 5.1 jest'].value_counts().index\n",
    "valuesMusician5_1 = df_musician['Cechą dominującą melodii 5.1 jest'].value_counts().values\n",
    "\n",
    "fig = go.Figure(data=[go.Pie(\n",
    "    labels=labels5_1,\n",
    "    values=valuesMusician5_1,\n",
    "    # pull=[0,0,0.1]\n",
    ")])\n",
    "\n",
    "fig.update_layout(\n",
    "    width=800,\n",
    "    height=400,\n",
    "    margin=dict(t=75, b=25, l=50, r=50),\n",
    "    showlegend=True,\n",
    "    colorway=color_palette,\n",
    "    # font_family=\"Times New Roman\",\n",
    "    font_family=\"Courier New\",\n",
    "    font_color=\"black\",\n",
    "    font = dict(size=16),\n",
    "    title=dict(text='Muzycy: Cechą dominującą melodii 5.1 jest')\n",
    ")\n",
    "\n",
    "fig.update_traces(textfont_size=20,\n",
    "                  marker=dict( line=dict(color='white', width=1)))\n",
    "\n",
    "fig.show()\n",
    "\n",
    "fig.write_image(\"images/pytanie5_1_musician.svg\")\n",
    "fig.write_image(\"images/pytanie5_1_musician.png\")"
   ]
  },
  {
   "cell_type": "code",
   "execution_count": 119,
   "metadata": {},
   "outputs": [
    {
     "data": {
      "application/vnd.plotly.v1+json": {
       "config": {
        "plotlyServerURL": "https://plot.ly"
       },
       "data": [
        {
         "labels": [
          "równowaga napięcia i stabilności.",
          "napięcie.",
          "stabilność."
         ],
         "marker": {
          "line": {
           "color": "white",
           "width": 1
          }
         },
         "textfont": {
          "size": 20
         },
         "type": "pie",
         "values": [
          16,
          16,
          3
         ]
        }
       ],
       "layout": {
        "colorway": [
         "rgb(115, 175, 72)",
         "rgb(148, 52, 110)",
         "rgb(237, 173, 8)"
        ],
        "font": {
         "color": "black",
         "family": "Courier New",
         "size": 16
        },
        "height": 400,
        "margin": {
         "b": 25,
         "l": 50,
         "r": 50,
         "t": 75
        },
        "showlegend": true,
        "template": {
         "data": {
          "bar": [
           {
            "error_x": {
             "color": "#2a3f5f"
            },
            "error_y": {
             "color": "#2a3f5f"
            },
            "marker": {
             "line": {
              "color": "#E5ECF6",
              "width": 0.5
             },
             "pattern": {
              "fillmode": "overlay",
              "size": 10,
              "solidity": 0.2
             }
            },
            "type": "bar"
           }
          ],
          "barpolar": [
           {
            "marker": {
             "line": {
              "color": "#E5ECF6",
              "width": 0.5
             },
             "pattern": {
              "fillmode": "overlay",
              "size": 10,
              "solidity": 0.2
             }
            },
            "type": "barpolar"
           }
          ],
          "carpet": [
           {
            "aaxis": {
             "endlinecolor": "#2a3f5f",
             "gridcolor": "white",
             "linecolor": "white",
             "minorgridcolor": "white",
             "startlinecolor": "#2a3f5f"
            },
            "baxis": {
             "endlinecolor": "#2a3f5f",
             "gridcolor": "white",
             "linecolor": "white",
             "minorgridcolor": "white",
             "startlinecolor": "#2a3f5f"
            },
            "type": "carpet"
           }
          ],
          "choropleth": [
           {
            "colorbar": {
             "outlinewidth": 0,
             "ticks": ""
            },
            "type": "choropleth"
           }
          ],
          "contour": [
           {
            "colorbar": {
             "outlinewidth": 0,
             "ticks": ""
            },
            "colorscale": [
             [
              0,
              "#0d0887"
             ],
             [
              0.1111111111111111,
              "#46039f"
             ],
             [
              0.2222222222222222,
              "#7201a8"
             ],
             [
              0.3333333333333333,
              "#9c179e"
             ],
             [
              0.4444444444444444,
              "#bd3786"
             ],
             [
              0.5555555555555556,
              "#d8576b"
             ],
             [
              0.6666666666666666,
              "#ed7953"
             ],
             [
              0.7777777777777778,
              "#fb9f3a"
             ],
             [
              0.8888888888888888,
              "#fdca26"
             ],
             [
              1,
              "#f0f921"
             ]
            ],
            "type": "contour"
           }
          ],
          "contourcarpet": [
           {
            "colorbar": {
             "outlinewidth": 0,
             "ticks": ""
            },
            "type": "contourcarpet"
           }
          ],
          "heatmap": [
           {
            "colorbar": {
             "outlinewidth": 0,
             "ticks": ""
            },
            "colorscale": [
             [
              0,
              "#0d0887"
             ],
             [
              0.1111111111111111,
              "#46039f"
             ],
             [
              0.2222222222222222,
              "#7201a8"
             ],
             [
              0.3333333333333333,
              "#9c179e"
             ],
             [
              0.4444444444444444,
              "#bd3786"
             ],
             [
              0.5555555555555556,
              "#d8576b"
             ],
             [
              0.6666666666666666,
              "#ed7953"
             ],
             [
              0.7777777777777778,
              "#fb9f3a"
             ],
             [
              0.8888888888888888,
              "#fdca26"
             ],
             [
              1,
              "#f0f921"
             ]
            ],
            "type": "heatmap"
           }
          ],
          "heatmapgl": [
           {
            "colorbar": {
             "outlinewidth": 0,
             "ticks": ""
            },
            "colorscale": [
             [
              0,
              "#0d0887"
             ],
             [
              0.1111111111111111,
              "#46039f"
             ],
             [
              0.2222222222222222,
              "#7201a8"
             ],
             [
              0.3333333333333333,
              "#9c179e"
             ],
             [
              0.4444444444444444,
              "#bd3786"
             ],
             [
              0.5555555555555556,
              "#d8576b"
             ],
             [
              0.6666666666666666,
              "#ed7953"
             ],
             [
              0.7777777777777778,
              "#fb9f3a"
             ],
             [
              0.8888888888888888,
              "#fdca26"
             ],
             [
              1,
              "#f0f921"
             ]
            ],
            "type": "heatmapgl"
           }
          ],
          "histogram": [
           {
            "marker": {
             "pattern": {
              "fillmode": "overlay",
              "size": 10,
              "solidity": 0.2
             }
            },
            "type": "histogram"
           }
          ],
          "histogram2d": [
           {
            "colorbar": {
             "outlinewidth": 0,
             "ticks": ""
            },
            "colorscale": [
             [
              0,
              "#0d0887"
             ],
             [
              0.1111111111111111,
              "#46039f"
             ],
             [
              0.2222222222222222,
              "#7201a8"
             ],
             [
              0.3333333333333333,
              "#9c179e"
             ],
             [
              0.4444444444444444,
              "#bd3786"
             ],
             [
              0.5555555555555556,
              "#d8576b"
             ],
             [
              0.6666666666666666,
              "#ed7953"
             ],
             [
              0.7777777777777778,
              "#fb9f3a"
             ],
             [
              0.8888888888888888,
              "#fdca26"
             ],
             [
              1,
              "#f0f921"
             ]
            ],
            "type": "histogram2d"
           }
          ],
          "histogram2dcontour": [
           {
            "colorbar": {
             "outlinewidth": 0,
             "ticks": ""
            },
            "colorscale": [
             [
              0,
              "#0d0887"
             ],
             [
              0.1111111111111111,
              "#46039f"
             ],
             [
              0.2222222222222222,
              "#7201a8"
             ],
             [
              0.3333333333333333,
              "#9c179e"
             ],
             [
              0.4444444444444444,
              "#bd3786"
             ],
             [
              0.5555555555555556,
              "#d8576b"
             ],
             [
              0.6666666666666666,
              "#ed7953"
             ],
             [
              0.7777777777777778,
              "#fb9f3a"
             ],
             [
              0.8888888888888888,
              "#fdca26"
             ],
             [
              1,
              "#f0f921"
             ]
            ],
            "type": "histogram2dcontour"
           }
          ],
          "mesh3d": [
           {
            "colorbar": {
             "outlinewidth": 0,
             "ticks": ""
            },
            "type": "mesh3d"
           }
          ],
          "parcoords": [
           {
            "line": {
             "colorbar": {
              "outlinewidth": 0,
              "ticks": ""
             }
            },
            "type": "parcoords"
           }
          ],
          "pie": [
           {
            "automargin": true,
            "type": "pie"
           }
          ],
          "scatter": [
           {
            "fillpattern": {
             "fillmode": "overlay",
             "size": 10,
             "solidity": 0.2
            },
            "type": "scatter"
           }
          ],
          "scatter3d": [
           {
            "line": {
             "colorbar": {
              "outlinewidth": 0,
              "ticks": ""
             }
            },
            "marker": {
             "colorbar": {
              "outlinewidth": 0,
              "ticks": ""
             }
            },
            "type": "scatter3d"
           }
          ],
          "scattercarpet": [
           {
            "marker": {
             "colorbar": {
              "outlinewidth": 0,
              "ticks": ""
             }
            },
            "type": "scattercarpet"
           }
          ],
          "scattergeo": [
           {
            "marker": {
             "colorbar": {
              "outlinewidth": 0,
              "ticks": ""
             }
            },
            "type": "scattergeo"
           }
          ],
          "scattergl": [
           {
            "marker": {
             "colorbar": {
              "outlinewidth": 0,
              "ticks": ""
             }
            },
            "type": "scattergl"
           }
          ],
          "scattermapbox": [
           {
            "marker": {
             "colorbar": {
              "outlinewidth": 0,
              "ticks": ""
             }
            },
            "type": "scattermapbox"
           }
          ],
          "scatterpolar": [
           {
            "marker": {
             "colorbar": {
              "outlinewidth": 0,
              "ticks": ""
             }
            },
            "type": "scatterpolar"
           }
          ],
          "scatterpolargl": [
           {
            "marker": {
             "colorbar": {
              "outlinewidth": 0,
              "ticks": ""
             }
            },
            "type": "scatterpolargl"
           }
          ],
          "scatterternary": [
           {
            "marker": {
             "colorbar": {
              "outlinewidth": 0,
              "ticks": ""
             }
            },
            "type": "scatterternary"
           }
          ],
          "surface": [
           {
            "colorbar": {
             "outlinewidth": 0,
             "ticks": ""
            },
            "colorscale": [
             [
              0,
              "#0d0887"
             ],
             [
              0.1111111111111111,
              "#46039f"
             ],
             [
              0.2222222222222222,
              "#7201a8"
             ],
             [
              0.3333333333333333,
              "#9c179e"
             ],
             [
              0.4444444444444444,
              "#bd3786"
             ],
             [
              0.5555555555555556,
              "#d8576b"
             ],
             [
              0.6666666666666666,
              "#ed7953"
             ],
             [
              0.7777777777777778,
              "#fb9f3a"
             ],
             [
              0.8888888888888888,
              "#fdca26"
             ],
             [
              1,
              "#f0f921"
             ]
            ],
            "type": "surface"
           }
          ],
          "table": [
           {
            "cells": {
             "fill": {
              "color": "#EBF0F8"
             },
             "line": {
              "color": "white"
             }
            },
            "header": {
             "fill": {
              "color": "#C8D4E3"
             },
             "line": {
              "color": "white"
             }
            },
            "type": "table"
           }
          ]
         },
         "layout": {
          "annotationdefaults": {
           "arrowcolor": "#2a3f5f",
           "arrowhead": 0,
           "arrowwidth": 1
          },
          "autotypenumbers": "strict",
          "coloraxis": {
           "colorbar": {
            "outlinewidth": 0,
            "ticks": ""
           }
          },
          "colorscale": {
           "diverging": [
            [
             0,
             "#8e0152"
            ],
            [
             0.1,
             "#c51b7d"
            ],
            [
             0.2,
             "#de77ae"
            ],
            [
             0.3,
             "#f1b6da"
            ],
            [
             0.4,
             "#fde0ef"
            ],
            [
             0.5,
             "#f7f7f7"
            ],
            [
             0.6,
             "#e6f5d0"
            ],
            [
             0.7,
             "#b8e186"
            ],
            [
             0.8,
             "#7fbc41"
            ],
            [
             0.9,
             "#4d9221"
            ],
            [
             1,
             "#276419"
            ]
           ],
           "sequential": [
            [
             0,
             "#0d0887"
            ],
            [
             0.1111111111111111,
             "#46039f"
            ],
            [
             0.2222222222222222,
             "#7201a8"
            ],
            [
             0.3333333333333333,
             "#9c179e"
            ],
            [
             0.4444444444444444,
             "#bd3786"
            ],
            [
             0.5555555555555556,
             "#d8576b"
            ],
            [
             0.6666666666666666,
             "#ed7953"
            ],
            [
             0.7777777777777778,
             "#fb9f3a"
            ],
            [
             0.8888888888888888,
             "#fdca26"
            ],
            [
             1,
             "#f0f921"
            ]
           ],
           "sequentialminus": [
            [
             0,
             "#0d0887"
            ],
            [
             0.1111111111111111,
             "#46039f"
            ],
            [
             0.2222222222222222,
             "#7201a8"
            ],
            [
             0.3333333333333333,
             "#9c179e"
            ],
            [
             0.4444444444444444,
             "#bd3786"
            ],
            [
             0.5555555555555556,
             "#d8576b"
            ],
            [
             0.6666666666666666,
             "#ed7953"
            ],
            [
             0.7777777777777778,
             "#fb9f3a"
            ],
            [
             0.8888888888888888,
             "#fdca26"
            ],
            [
             1,
             "#f0f921"
            ]
           ]
          },
          "colorway": [
           "#636efa",
           "#EF553B",
           "#00cc96",
           "#ab63fa",
           "#FFA15A",
           "#19d3f3",
           "#FF6692",
           "#B6E880",
           "#FF97FF",
           "#FECB52"
          ],
          "font": {
           "color": "#2a3f5f"
          },
          "geo": {
           "bgcolor": "white",
           "lakecolor": "white",
           "landcolor": "#E5ECF6",
           "showlakes": true,
           "showland": true,
           "subunitcolor": "white"
          },
          "hoverlabel": {
           "align": "left"
          },
          "hovermode": "closest",
          "mapbox": {
           "style": "light"
          },
          "paper_bgcolor": "white",
          "plot_bgcolor": "#E5ECF6",
          "polar": {
           "angularaxis": {
            "gridcolor": "white",
            "linecolor": "white",
            "ticks": ""
           },
           "bgcolor": "#E5ECF6",
           "radialaxis": {
            "gridcolor": "white",
            "linecolor": "white",
            "ticks": ""
           }
          },
          "scene": {
           "xaxis": {
            "backgroundcolor": "#E5ECF6",
            "gridcolor": "white",
            "gridwidth": 2,
            "linecolor": "white",
            "showbackground": true,
            "ticks": "",
            "zerolinecolor": "white"
           },
           "yaxis": {
            "backgroundcolor": "#E5ECF6",
            "gridcolor": "white",
            "gridwidth": 2,
            "linecolor": "white",
            "showbackground": true,
            "ticks": "",
            "zerolinecolor": "white"
           },
           "zaxis": {
            "backgroundcolor": "#E5ECF6",
            "gridcolor": "white",
            "gridwidth": 2,
            "linecolor": "white",
            "showbackground": true,
            "ticks": "",
            "zerolinecolor": "white"
           }
          },
          "shapedefaults": {
           "line": {
            "color": "#2a3f5f"
           }
          },
          "ternary": {
           "aaxis": {
            "gridcolor": "white",
            "linecolor": "white",
            "ticks": ""
           },
           "baxis": {
            "gridcolor": "white",
            "linecolor": "white",
            "ticks": ""
           },
           "bgcolor": "#E5ECF6",
           "caxis": {
            "gridcolor": "white",
            "linecolor": "white",
            "ticks": ""
           }
          },
          "title": {
           "x": 0.05
          },
          "xaxis": {
           "automargin": true,
           "gridcolor": "white",
           "linecolor": "white",
           "ticks": "",
           "title": {
            "standoff": 15
           },
           "zerolinecolor": "white",
           "zerolinewidth": 2
          },
          "yaxis": {
           "automargin": true,
           "gridcolor": "white",
           "linecolor": "white",
           "ticks": "",
           "title": {
            "standoff": 15
           },
           "zerolinecolor": "white",
           "zerolinewidth": 2
          }
         }
        },
        "title": {
         "text": "Amatorzy / Melomani: Cechą dominującą melodii 5.1 jest"
        },
        "width": 800
       }
      }
     },
     "metadata": {},
     "output_type": "display_data"
    }
   ],
   "source": [
    "\n",
    "\n",
    "labels5_1 = df['Cechą dominującą melodii 5.1 jest'].value_counts().index\n",
    "valuesAmateur5_1 = df_amateur['Cechą dominującą melodii 5.1 jest'].value_counts().values\n",
    "\n",
    "fig = go.Figure(data=[go.Pie(\n",
    "    labels=labels5_1,\n",
    "    values=valuesAmateur5_1,\n",
    "    # pull=[0,0,0.1]\n",
    ")])\n",
    "\n",
    "fig.update_layout(\n",
    "    width=800,\n",
    "    height=400,\n",
    "    margin=dict(t=75, b=25, l=50, r=50),\n",
    "    showlegend=True,\n",
    "    colorway=color_palette,\n",
    "    # font_family=\"Times New Roman\",\n",
    "    font_family=\"Courier New\",\n",
    "    font_color=\"black\",\n",
    "    font = dict(size=16),\n",
    "    title=dict(text='Amatorzy / Melomani: Cechą dominującą melodii 5.1 jest')\n",
    ")\n",
    "\n",
    "fig.update_traces(textfont_size=20,\n",
    "                  marker=dict( line=dict(color='white', width=1)))\n",
    "\n",
    "fig.show()\n",
    "\n",
    "fig.write_image(\"images/pytanie5_1_amateur.svg\")\n",
    "fig.write_image(\"images/pytanie5_1_amateur.png\")"
   ]
  },
  {
   "cell_type": "code",
   "execution_count": 120,
   "metadata": {},
   "outputs": [
    {
     "data": {
      "application/vnd.plotly.v1+json": {
       "config": {
        "plotlyServerURL": "https://plot.ly"
       },
       "data": [
        {
         "labels": [
          "równowaga napięcia i stabilności.",
          "napięcie.",
          "stabilność."
         ],
         "marker": {
          "line": {
           "color": "white",
           "width": 1
          }
         },
         "textfont": {
          "size": 20
         },
         "type": "pie",
         "values": [
          12,
          9,
          8
         ]
        }
       ],
       "layout": {
        "colorway": [
         "rgb(115, 175, 72)",
         "rgb(148, 52, 110)",
         "rgb(237, 173, 8)"
        ],
        "font": {
         "color": "black",
         "family": "Courier New",
         "size": 16
        },
        "height": 400,
        "margin": {
         "b": 25,
         "l": 50,
         "r": 50,
         "t": 75
        },
        "showlegend": true,
        "template": {
         "data": {
          "bar": [
           {
            "error_x": {
             "color": "#2a3f5f"
            },
            "error_y": {
             "color": "#2a3f5f"
            },
            "marker": {
             "line": {
              "color": "#E5ECF6",
              "width": 0.5
             },
             "pattern": {
              "fillmode": "overlay",
              "size": 10,
              "solidity": 0.2
             }
            },
            "type": "bar"
           }
          ],
          "barpolar": [
           {
            "marker": {
             "line": {
              "color": "#E5ECF6",
              "width": 0.5
             },
             "pattern": {
              "fillmode": "overlay",
              "size": 10,
              "solidity": 0.2
             }
            },
            "type": "barpolar"
           }
          ],
          "carpet": [
           {
            "aaxis": {
             "endlinecolor": "#2a3f5f",
             "gridcolor": "white",
             "linecolor": "white",
             "minorgridcolor": "white",
             "startlinecolor": "#2a3f5f"
            },
            "baxis": {
             "endlinecolor": "#2a3f5f",
             "gridcolor": "white",
             "linecolor": "white",
             "minorgridcolor": "white",
             "startlinecolor": "#2a3f5f"
            },
            "type": "carpet"
           }
          ],
          "choropleth": [
           {
            "colorbar": {
             "outlinewidth": 0,
             "ticks": ""
            },
            "type": "choropleth"
           }
          ],
          "contour": [
           {
            "colorbar": {
             "outlinewidth": 0,
             "ticks": ""
            },
            "colorscale": [
             [
              0,
              "#0d0887"
             ],
             [
              0.1111111111111111,
              "#46039f"
             ],
             [
              0.2222222222222222,
              "#7201a8"
             ],
             [
              0.3333333333333333,
              "#9c179e"
             ],
             [
              0.4444444444444444,
              "#bd3786"
             ],
             [
              0.5555555555555556,
              "#d8576b"
             ],
             [
              0.6666666666666666,
              "#ed7953"
             ],
             [
              0.7777777777777778,
              "#fb9f3a"
             ],
             [
              0.8888888888888888,
              "#fdca26"
             ],
             [
              1,
              "#f0f921"
             ]
            ],
            "type": "contour"
           }
          ],
          "contourcarpet": [
           {
            "colorbar": {
             "outlinewidth": 0,
             "ticks": ""
            },
            "type": "contourcarpet"
           }
          ],
          "heatmap": [
           {
            "colorbar": {
             "outlinewidth": 0,
             "ticks": ""
            },
            "colorscale": [
             [
              0,
              "#0d0887"
             ],
             [
              0.1111111111111111,
              "#46039f"
             ],
             [
              0.2222222222222222,
              "#7201a8"
             ],
             [
              0.3333333333333333,
              "#9c179e"
             ],
             [
              0.4444444444444444,
              "#bd3786"
             ],
             [
              0.5555555555555556,
              "#d8576b"
             ],
             [
              0.6666666666666666,
              "#ed7953"
             ],
             [
              0.7777777777777778,
              "#fb9f3a"
             ],
             [
              0.8888888888888888,
              "#fdca26"
             ],
             [
              1,
              "#f0f921"
             ]
            ],
            "type": "heatmap"
           }
          ],
          "heatmapgl": [
           {
            "colorbar": {
             "outlinewidth": 0,
             "ticks": ""
            },
            "colorscale": [
             [
              0,
              "#0d0887"
             ],
             [
              0.1111111111111111,
              "#46039f"
             ],
             [
              0.2222222222222222,
              "#7201a8"
             ],
             [
              0.3333333333333333,
              "#9c179e"
             ],
             [
              0.4444444444444444,
              "#bd3786"
             ],
             [
              0.5555555555555556,
              "#d8576b"
             ],
             [
              0.6666666666666666,
              "#ed7953"
             ],
             [
              0.7777777777777778,
              "#fb9f3a"
             ],
             [
              0.8888888888888888,
              "#fdca26"
             ],
             [
              1,
              "#f0f921"
             ]
            ],
            "type": "heatmapgl"
           }
          ],
          "histogram": [
           {
            "marker": {
             "pattern": {
              "fillmode": "overlay",
              "size": 10,
              "solidity": 0.2
             }
            },
            "type": "histogram"
           }
          ],
          "histogram2d": [
           {
            "colorbar": {
             "outlinewidth": 0,
             "ticks": ""
            },
            "colorscale": [
             [
              0,
              "#0d0887"
             ],
             [
              0.1111111111111111,
              "#46039f"
             ],
             [
              0.2222222222222222,
              "#7201a8"
             ],
             [
              0.3333333333333333,
              "#9c179e"
             ],
             [
              0.4444444444444444,
              "#bd3786"
             ],
             [
              0.5555555555555556,
              "#d8576b"
             ],
             [
              0.6666666666666666,
              "#ed7953"
             ],
             [
              0.7777777777777778,
              "#fb9f3a"
             ],
             [
              0.8888888888888888,
              "#fdca26"
             ],
             [
              1,
              "#f0f921"
             ]
            ],
            "type": "histogram2d"
           }
          ],
          "histogram2dcontour": [
           {
            "colorbar": {
             "outlinewidth": 0,
             "ticks": ""
            },
            "colorscale": [
             [
              0,
              "#0d0887"
             ],
             [
              0.1111111111111111,
              "#46039f"
             ],
             [
              0.2222222222222222,
              "#7201a8"
             ],
             [
              0.3333333333333333,
              "#9c179e"
             ],
             [
              0.4444444444444444,
              "#bd3786"
             ],
             [
              0.5555555555555556,
              "#d8576b"
             ],
             [
              0.6666666666666666,
              "#ed7953"
             ],
             [
              0.7777777777777778,
              "#fb9f3a"
             ],
             [
              0.8888888888888888,
              "#fdca26"
             ],
             [
              1,
              "#f0f921"
             ]
            ],
            "type": "histogram2dcontour"
           }
          ],
          "mesh3d": [
           {
            "colorbar": {
             "outlinewidth": 0,
             "ticks": ""
            },
            "type": "mesh3d"
           }
          ],
          "parcoords": [
           {
            "line": {
             "colorbar": {
              "outlinewidth": 0,
              "ticks": ""
             }
            },
            "type": "parcoords"
           }
          ],
          "pie": [
           {
            "automargin": true,
            "type": "pie"
           }
          ],
          "scatter": [
           {
            "fillpattern": {
             "fillmode": "overlay",
             "size": 10,
             "solidity": 0.2
            },
            "type": "scatter"
           }
          ],
          "scatter3d": [
           {
            "line": {
             "colorbar": {
              "outlinewidth": 0,
              "ticks": ""
             }
            },
            "marker": {
             "colorbar": {
              "outlinewidth": 0,
              "ticks": ""
             }
            },
            "type": "scatter3d"
           }
          ],
          "scattercarpet": [
           {
            "marker": {
             "colorbar": {
              "outlinewidth": 0,
              "ticks": ""
             }
            },
            "type": "scattercarpet"
           }
          ],
          "scattergeo": [
           {
            "marker": {
             "colorbar": {
              "outlinewidth": 0,
              "ticks": ""
             }
            },
            "type": "scattergeo"
           }
          ],
          "scattergl": [
           {
            "marker": {
             "colorbar": {
              "outlinewidth": 0,
              "ticks": ""
             }
            },
            "type": "scattergl"
           }
          ],
          "scattermapbox": [
           {
            "marker": {
             "colorbar": {
              "outlinewidth": 0,
              "ticks": ""
             }
            },
            "type": "scattermapbox"
           }
          ],
          "scatterpolar": [
           {
            "marker": {
             "colorbar": {
              "outlinewidth": 0,
              "ticks": ""
             }
            },
            "type": "scatterpolar"
           }
          ],
          "scatterpolargl": [
           {
            "marker": {
             "colorbar": {
              "outlinewidth": 0,
              "ticks": ""
             }
            },
            "type": "scatterpolargl"
           }
          ],
          "scatterternary": [
           {
            "marker": {
             "colorbar": {
              "outlinewidth": 0,
              "ticks": ""
             }
            },
            "type": "scatterternary"
           }
          ],
          "surface": [
           {
            "colorbar": {
             "outlinewidth": 0,
             "ticks": ""
            },
            "colorscale": [
             [
              0,
              "#0d0887"
             ],
             [
              0.1111111111111111,
              "#46039f"
             ],
             [
              0.2222222222222222,
              "#7201a8"
             ],
             [
              0.3333333333333333,
              "#9c179e"
             ],
             [
              0.4444444444444444,
              "#bd3786"
             ],
             [
              0.5555555555555556,
              "#d8576b"
             ],
             [
              0.6666666666666666,
              "#ed7953"
             ],
             [
              0.7777777777777778,
              "#fb9f3a"
             ],
             [
              0.8888888888888888,
              "#fdca26"
             ],
             [
              1,
              "#f0f921"
             ]
            ],
            "type": "surface"
           }
          ],
          "table": [
           {
            "cells": {
             "fill": {
              "color": "#EBF0F8"
             },
             "line": {
              "color": "white"
             }
            },
            "header": {
             "fill": {
              "color": "#C8D4E3"
             },
             "line": {
              "color": "white"
             }
            },
            "type": "table"
           }
          ]
         },
         "layout": {
          "annotationdefaults": {
           "arrowcolor": "#2a3f5f",
           "arrowhead": 0,
           "arrowwidth": 1
          },
          "autotypenumbers": "strict",
          "coloraxis": {
           "colorbar": {
            "outlinewidth": 0,
            "ticks": ""
           }
          },
          "colorscale": {
           "diverging": [
            [
             0,
             "#8e0152"
            ],
            [
             0.1,
             "#c51b7d"
            ],
            [
             0.2,
             "#de77ae"
            ],
            [
             0.3,
             "#f1b6da"
            ],
            [
             0.4,
             "#fde0ef"
            ],
            [
             0.5,
             "#f7f7f7"
            ],
            [
             0.6,
             "#e6f5d0"
            ],
            [
             0.7,
             "#b8e186"
            ],
            [
             0.8,
             "#7fbc41"
            ],
            [
             0.9,
             "#4d9221"
            ],
            [
             1,
             "#276419"
            ]
           ],
           "sequential": [
            [
             0,
             "#0d0887"
            ],
            [
             0.1111111111111111,
             "#46039f"
            ],
            [
             0.2222222222222222,
             "#7201a8"
            ],
            [
             0.3333333333333333,
             "#9c179e"
            ],
            [
             0.4444444444444444,
             "#bd3786"
            ],
            [
             0.5555555555555556,
             "#d8576b"
            ],
            [
             0.6666666666666666,
             "#ed7953"
            ],
            [
             0.7777777777777778,
             "#fb9f3a"
            ],
            [
             0.8888888888888888,
             "#fdca26"
            ],
            [
             1,
             "#f0f921"
            ]
           ],
           "sequentialminus": [
            [
             0,
             "#0d0887"
            ],
            [
             0.1111111111111111,
             "#46039f"
            ],
            [
             0.2222222222222222,
             "#7201a8"
            ],
            [
             0.3333333333333333,
             "#9c179e"
            ],
            [
             0.4444444444444444,
             "#bd3786"
            ],
            [
             0.5555555555555556,
             "#d8576b"
            ],
            [
             0.6666666666666666,
             "#ed7953"
            ],
            [
             0.7777777777777778,
             "#fb9f3a"
            ],
            [
             0.8888888888888888,
             "#fdca26"
            ],
            [
             1,
             "#f0f921"
            ]
           ]
          },
          "colorway": [
           "#636efa",
           "#EF553B",
           "#00cc96",
           "#ab63fa",
           "#FFA15A",
           "#19d3f3",
           "#FF6692",
           "#B6E880",
           "#FF97FF",
           "#FECB52"
          ],
          "font": {
           "color": "#2a3f5f"
          },
          "geo": {
           "bgcolor": "white",
           "lakecolor": "white",
           "landcolor": "#E5ECF6",
           "showlakes": true,
           "showland": true,
           "subunitcolor": "white"
          },
          "hoverlabel": {
           "align": "left"
          },
          "hovermode": "closest",
          "mapbox": {
           "style": "light"
          },
          "paper_bgcolor": "white",
          "plot_bgcolor": "#E5ECF6",
          "polar": {
           "angularaxis": {
            "gridcolor": "white",
            "linecolor": "white",
            "ticks": ""
           },
           "bgcolor": "#E5ECF6",
           "radialaxis": {
            "gridcolor": "white",
            "linecolor": "white",
            "ticks": ""
           }
          },
          "scene": {
           "xaxis": {
            "backgroundcolor": "#E5ECF6",
            "gridcolor": "white",
            "gridwidth": 2,
            "linecolor": "white",
            "showbackground": true,
            "ticks": "",
            "zerolinecolor": "white"
           },
           "yaxis": {
            "backgroundcolor": "#E5ECF6",
            "gridcolor": "white",
            "gridwidth": 2,
            "linecolor": "white",
            "showbackground": true,
            "ticks": "",
            "zerolinecolor": "white"
           },
           "zaxis": {
            "backgroundcolor": "#E5ECF6",
            "gridcolor": "white",
            "gridwidth": 2,
            "linecolor": "white",
            "showbackground": true,
            "ticks": "",
            "zerolinecolor": "white"
           }
          },
          "shapedefaults": {
           "line": {
            "color": "#2a3f5f"
           }
          },
          "ternary": {
           "aaxis": {
            "gridcolor": "white",
            "linecolor": "white",
            "ticks": ""
           },
           "baxis": {
            "gridcolor": "white",
            "linecolor": "white",
            "ticks": ""
           },
           "bgcolor": "#E5ECF6",
           "caxis": {
            "gridcolor": "white",
            "linecolor": "white",
            "ticks": ""
           }
          },
          "title": {
           "x": 0.05
          },
          "xaxis": {
           "automargin": true,
           "gridcolor": "white",
           "linecolor": "white",
           "ticks": "",
           "title": {
            "standoff": 15
           },
           "zerolinecolor": "white",
           "zerolinewidth": 2
          },
          "yaxis": {
           "automargin": true,
           "gridcolor": "white",
           "linecolor": "white",
           "ticks": "",
           "title": {
            "standoff": 15
           },
           "zerolinecolor": "white",
           "zerolinewidth": 2
          }
         }
        },
        "title": {
         "text": "Nie-muzycy: Cechą dominującą melodii 5.1 jest"
        },
        "width": 800
       }
      }
     },
     "metadata": {},
     "output_type": "display_data"
    }
   ],
   "source": [
    "\n",
    "\n",
    "labels5_1 = df['Cechą dominującą melodii 5.1 jest'].value_counts().index\n",
    "valuesNonMusician5_1 = df_nonMusician['Cechą dominującą melodii 5.1 jest'].value_counts().values\n",
    "\n",
    "fig = go.Figure(data=[go.Pie(\n",
    "    labels=labels5_1,\n",
    "    values=valuesNonMusician5_1,\n",
    "    # pull=[0,0,0.1]\n",
    ")])\n",
    "\n",
    "fig.update_layout(\n",
    "    width=800,\n",
    "    height=400,\n",
    "    margin=dict(t=75, b=25, l=50, r=50),\n",
    "    showlegend=True,\n",
    "    colorway=color_palette,\n",
    "    # font_family=\"Times New Roman\",\n",
    "    font_family=\"Courier New\",\n",
    "    font_color=\"black\",\n",
    "    font = dict(size=16),\n",
    "    title=dict(text='Nie-muzycy: Cechą dominującą melodii 5.1 jest')\n",
    ")\n",
    "\n",
    "fig.update_traces(textfont_size=20,\n",
    "                  marker=dict( line=dict(color='white', width=1)))\n",
    "\n",
    "fig.show()\n",
    "\n",
    "fig.write_image(\"images/pytanie5_1_nonMusician.svg\")\n",
    "fig.write_image(\"images/pytanie5_1_nonMusician.png\")"
   ]
  },
  {
   "cell_type": "code",
   "execution_count": null,
   "metadata": {},
   "outputs": [],
   "source": []
  },
  {
   "cell_type": "code",
   "execution_count": null,
   "metadata": {},
   "outputs": [],
   "source": []
  },
  {
   "cell_type": "code",
   "execution_count": null,
   "metadata": {},
   "outputs": [],
   "source": []
  },
  {
   "cell_type": "code",
   "execution_count": null,
   "metadata": {},
   "outputs": [],
   "source": []
  }
 ],
 "metadata": {
  "kernelspec": {
   "display_name": "base",
   "language": "python",
   "name": "python3"
  },
  "language_info": {
   "codemirror_mode": {
    "name": "ipython",
    "version": 3
   },
   "file_extension": ".py",
   "mimetype": "text/x-python",
   "name": "python",
   "nbconvert_exporter": "python",
   "pygments_lexer": "ipython3",
   "version": "3.8.8"
  },
  "orig_nbformat": 4
 },
 "nbformat": 4,
 "nbformat_minor": 2
}
